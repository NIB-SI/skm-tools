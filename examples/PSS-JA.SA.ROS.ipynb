{
 "cells": [
  {
   "cell_type": "markdown",
   "id": "b6bddbe6",
   "metadata": {
    "toc": true
   },
   "source": [
    "<h1>Table of Contents<span class=\"tocSkip\"></span></h1>\n",
    "<div class=\"toc\"><ul class=\"toc-item\"><li><span><a href=\"#PSS-paths\" data-toc-modified-id=\"PSS-paths-1\"><span class=\"toc-item-num\">1&nbsp;&nbsp;</span>PSS paths</a></span></li><li><span><a href=\"#Setup\" data-toc-modified-id=\"Setup-2\"><span class=\"toc-item-num\">2&nbsp;&nbsp;</span>Setup</a></span><ul class=\"toc-item\"><li><span><a href=\"#Library-import\" data-toc-modified-id=\"Library-import-2.1\"><span class=\"toc-item-num\">2.1&nbsp;&nbsp;</span>Library import</a></span></li><li><span><a href=\"#Hany-functions\" data-toc-modified-id=\"Hany-functions-2.2\"><span class=\"toc-item-num\">2.2&nbsp;&nbsp;</span>Hany functions</a></span></li><li><span><a href=\"#Path-and-parameter-definitions\" data-toc-modified-id=\"Path-and-parameter-definitions-2.3\"><span class=\"toc-item-num\">2.3&nbsp;&nbsp;</span>Path and parameter definitions</a></span></li><li><span><a href=\"#Load-PSS\" data-toc-modified-id=\"Load-PSS-2.4\"><span class=\"toc-item-num\">2.4&nbsp;&nbsp;</span>Load PSS</a></span></li></ul></li><li><span><a href=\"#Filter\" data-toc-modified-id=\"Filter-3\"><span class=\"toc-item-num\">3&nbsp;&nbsp;</span>Filter</a></span></li><li><span><a href=\"#Path-extraction\" data-toc-modified-id=\"Path-extraction-4\"><span class=\"toc-item-num\">4&nbsp;&nbsp;</span>Path extraction</a></span><ul class=\"toc-item\"><li><span><a href=\"#JA--->-SA-+-JA--->-ROS\" data-toc-modified-id=\"JA--->-SA-+-JA--->-ROS-4.1\"><span class=\"toc-item-num\">4.1&nbsp;&nbsp;</span>JA --&gt; SA + JA --&gt; ROS</a></span></li><li><span><a href=\"#SA--->-JA-+-SA--->-ROS\" data-toc-modified-id=\"SA--->-JA-+-SA--->-ROS-4.2\"><span class=\"toc-item-num\">4.2&nbsp;&nbsp;</span>SA --&gt; JA + SA --&gt; ROS</a></span></li><li><span><a href=\"#ROS--->-JA-+-ROS--->-SA\" data-toc-modified-id=\"ROS--->-JA-+-ROS--->-SA-4.3\"><span class=\"toc-item-num\">4.3&nbsp;&nbsp;</span>ROS --&gt; JA + ROS --&gt; SA</a></span></li></ul></li><li><span><a href=\"#Cytoscape\" data-toc-modified-id=\"Cytoscape-5\"><span class=\"toc-item-num\">5&nbsp;&nbsp;</span>Cytoscape</a></span><ul class=\"toc-item\"><li><span><a href=\"#Load-the-PSS-network-into-Cytoscape\" data-toc-modified-id=\"Load-the-PSS-network-into-Cytoscape-5.1\"><span class=\"toc-item-num\">5.1&nbsp;&nbsp;</span>Load the PSS network into Cytoscape</a></span></li><li><span><a href=\"#Extract-subnetworks-in-Cytoscape\" data-toc-modified-id=\"Extract-subnetworks-in-Cytoscape-5.2\"><span class=\"toc-item-num\">5.2&nbsp;&nbsp;</span>Extract subnetworks in Cytoscape</a></span><ul class=\"toc-item\"><li><span><a href=\"#The-edge-induced-network\" data-toc-modified-id=\"The-edge-induced-network-5.2.1\"><span class=\"toc-item-num\">5.2.1&nbsp;&nbsp;</span>The edge induced network</a></span></li><li><span><a href=\"#The-node-induced-network\" data-toc-modified-id=\"The-node-induced-network-5.2.2\"><span class=\"toc-item-num\">5.2.2&nbsp;&nbsp;</span>The node induced network</a></span></li><li><span><a href=\"#Neighbours\" data-toc-modified-id=\"Neighbours-5.2.3\"><span class=\"toc-item-num\">5.2.3&nbsp;&nbsp;</span>Neighbours</a></span></li><li><span><a href=\"#Additional-filtering-of-the-neighbours\" data-toc-modified-id=\"Additional-filtering-of-the-neighbours-5.2.4\"><span class=\"toc-item-num\">5.2.4&nbsp;&nbsp;</span>Additional filtering of the neighbours</a></span></li></ul></li></ul></li></ul></div>"
   ]
  },
  {
   "cell_type": "markdown",
   "id": "99a3cb41",
   "metadata": {},
   "source": [
    "# PSS paths "
   ]
  },
  {
   "cell_type": "markdown",
   "id": "0a22ab77",
   "metadata": {},
   "source": [
    "# Setup\n",
    "\n",
    "## Library import\n",
    "We import all the required Python libraries\n",
    "\n",
    "The non-default libries are networkX (https://networkx.org/) and py4cytoscape (https://py4cytoscape.readthedocs.io/, only necessary if you wish to view the results in Cytoscape). \n",
    "\n",
    "You will also need the skm-tools package provided in the same repository as this notebook. "
   ]
  },
  {
   "cell_type": "code",
   "execution_count": 1,
   "id": "2d95f147",
   "metadata": {},
   "outputs": [],
   "source": [
    "import sys\n",
    "from pathlib import Path\n",
    "from datetime import datetime\n",
    "import networkx as nx"
   ]
  },
  {
   "cell_type": "markdown",
   "id": "4d5d0864",
   "metadata": {},
   "source": [
    "The following allows us to import functions from the skm-tools package. \n",
    "Note the relative path to the folder containing the \n",
    "\"skm_tools\" directory. \n"
   ]
  },
  {
   "cell_type": "code",
   "execution_count": 2,
   "id": "f5cab835",
   "metadata": {},
   "outputs": [],
   "source": [
    "sys.path.append(\"../\")\n",
    "from skm_tools import load_networks, pss_utils"
   ]
  },
  {
   "cell_type": "code",
   "execution_count": 3,
   "id": "7f2fefb4",
   "metadata": {},
   "outputs": [
    {
     "data": {
      "text/plain": [
       "'2024.08.21'"
      ]
     },
     "execution_count": 3,
     "metadata": {},
     "output_type": "execute_result"
    }
   ],
   "source": [
    "today = datetime.today().strftime('%Y.%m.%d'); today"
   ]
  },
  {
   "cell_type": "markdown",
   "id": "05afe406",
   "metadata": {},
   "source": [
    "## Path and parameter definitions"
   ]
  },
  {
   "cell_type": "code",
   "execution_count": 4,
   "id": "2119de30",
   "metadata": {},
   "outputs": [],
   "source": [
    "base_dir = Path(\"./\")\n",
    "data_dir = base_dir / \"data\"\n",
    "output_dir = base_dir / \"output\""
   ]
  },
  {
   "cell_type": "markdown",
   "id": "3d53d3f1",
   "metadata": {},
   "source": [
    "## Load PSS\n",
    "\n",
    "To obtain the exact results of the article, download PSS-v1.0.0 from [skm.nib.si/downloads](https://skm.nib.si/downloads), and adjust the below paths accordingly. \n",
    "Otherwise, this code will use the latest live PSS instance. \n"
   ]
  },
  {
   "cell_type": "code",
   "execution_count": 5,
   "id": "b43e4fe9",
   "metadata": {},
   "outputs": [],
   "source": [
    "pss_edge_path = data_dir / f\"rxn-edges-public-{today}.tsv\"\n",
    "pss_node_path = data_dir / f\"rxn-nodes-public-{today}.tsv\""
   ]
  },
  {
   "cell_type": "code",
   "execution_count": 6,
   "id": "2f4c70cd",
   "metadata": {},
   "outputs": [
    {
     "name": "stdout",
     "output_type": "stream",
     "text": [
      "Attempting to download the edge list to data/rxn-edges-public-2024.08.21.tsv. Success.\n",
      "Attempting to download the node annotations to data/rxn-nodes-public-2024.08.21.tsv. Success.\n",
      "\n",
      "Number of nodes: 567\n",
      "Number of edges: 959\n"
     ]
    }
   ],
   "source": [
    "g = load_networks.pss_to_networkx(\n",
    "    edge_path=pss_edge_path, \n",
    "    node_path=pss_node_path\n",
    ")\n",
    "\n",
    "print(f\"\\nNumber of nodes: {g.number_of_nodes()}\\nNumber of edges: {g.number_of_edges()}\")"
   ]
  },
  {
   "cell_type": "markdown",
   "id": "4a6215a3",
   "metadata": {},
   "source": [
    "# Filter"
   ]
  },
  {
   "cell_type": "code",
   "execution_count": 7,
   "id": "a9cd4d56",
   "metadata": {},
   "outputs": [],
   "source": [
    "# Define the types we want to keep\n",
    "keep_types = [\n",
    "    'Complex',\n",
    "    'Condition',\n",
    "    'ForeignAbiotic',\n",
    "    'Metabolite',\n",
    "    'PlantAbstract',\n",
    "    'PlantCoding',\n",
    "    'PlantNonCoding',\n",
    "    'Process'\n",
    "]\n",
    "\n",
    "# Define the species we want to keep\n",
    "species = ['ath', 'stu']"
   ]
  },
  {
   "cell_type": "code",
   "execution_count": 8,
   "id": "af27e050",
   "metadata": {},
   "outputs": [
    {
     "name": "stdout",
     "output_type": "stream",
     "text": [
      "Removed 76 nodes from network.\n"
     ]
    }
   ],
   "source": [
    "# Use the util function to filter PSS\n",
    "removed = pss_utils.filter_pss_nodes(g, \n",
    "                                     node_types=keep_types, \n",
    "                                     species=species, \n",
    "                                     remove_isolates=True\n",
    ")"
   ]
  },
  {
   "cell_type": "code",
   "execution_count": 9,
   "id": "983463e9",
   "metadata": {},
   "outputs": [
    {
     "name": "stdout",
     "output_type": "stream",
     "text": [
      "\n",
      "Number of nodes: 491\n",
      "Number of edges: 775\n"
     ]
    }
   ],
   "source": [
    "print(f\"\\nNumber of nodes: {g.number_of_nodes()}\\nNumber of edges: {g.number_of_edges()}\")"
   ]
  },
  {
   "cell_type": "markdown",
   "id": "28fddd55",
   "metadata": {},
   "source": [
    "# Path extraction\n",
    "\n",
    "First we identify the nodes of interest."
   ]
  },
  {
   "cell_type": "code",
   "execution_count": 10,
   "id": "3973685c",
   "metadata": {},
   "outputs": [
    {
     "name": "stdout",
     "output_type": "stream",
     "text": [
      "JA\n",
      "SA\n",
      "ROS\n"
     ]
    }
   ],
   "source": [
    "JA = [x for x,y in g.nodes(data=True) if y['name']==\"JA\"][0]\n",
    "SA = [x for x,y in g.nodes(data=True) if y['name']==\"SA\"][0];\n",
    "ROS = [x for x,y in g.nodes(data=True) if y['name']==\"ROS\"][0]\n",
    "\n",
    "print(JA)\n",
    "print(SA)\n",
    "print(ROS)"
   ]
  },
  {
   "cell_type": "markdown",
   "id": "65c287d9",
   "metadata": {},
   "source": [
    "## JA --> SA + JA --> ROS"
   ]
  },
  {
   "cell_type": "code",
   "execution_count": 11,
   "id": "452f01a4",
   "metadata": {},
   "outputs": [
    {
     "data": {
      "text/plain": [
       "[['JA',\n",
       "  'JAR[AT2G46370,AT4G03400]',\n",
       "  'JA-Ile',\n",
       "  'COI1|JA-Ile|SCF',\n",
       "  'JAZ[AT1G17380,AT1G19180,AT1G30135,AT1G48500,AT1G70700,AT1G72450,AT1G74950,AT2G34600,AT3G17860,AT3G43440,AT5G13220,AT5G20900]',\n",
       "  'EIN3(like)[AT2G27050,AT3G20770]',\n",
       "  'ICS[AT1G18870,AT1G74710]',\n",
       "  'IsoChor',\n",
       "  'PBS3[AT5G13320]',\n",
       "  'IsoChor-9-Glu',\n",
       "  'EPS1[AT5G67160]',\n",
       "  'SA'],\n",
       " ['JA',\n",
       "  'JAR[AT2G46370,AT4G03400]',\n",
       "  'JA-Ile',\n",
       "  'COI1|JA-Ile|SCF',\n",
       "  'JAZ[AT1G17380,AT1G19180,AT1G30135,AT1G48500,AT1G70700,AT1G72450,AT1G74950,AT2G34600,AT3G17860,AT3G43440,AT5G13220,AT5G20900]',\n",
       "  'MYC2[AT1G32640]',\n",
       "  'ICS[AT1G18870,AT1G74710]',\n",
       "  'IsoChor',\n",
       "  'PBS3[AT5G13320]',\n",
       "  'IsoChor-9-Glu',\n",
       "  'EPS1[AT5G67160]',\n",
       "  'SA'],\n",
       " ['JA',\n",
       "  'JAR[AT2G46370,AT4G03400]',\n",
       "  'JA-Ile',\n",
       "  'COI1|JA-Ile|SCF',\n",
       "  'JAZ[AT1G17380,AT1G19180,AT1G30135,AT1G48500,AT1G70700,AT1G72450,AT1G74950,AT2G34600,AT3G17860,AT3G43440,AT5G13220,AT5G20900]',\n",
       "  'MYC2[AT1G32640]',\n",
       "  'PEPR[AT1G17750,AT1G73080]',\n",
       "  'PEPR1|PEP1',\n",
       "  'BIK1[AT2G39660]',\n",
       "  'RBOH[AT1G09090,AT1G19230,AT1G64060,AT3G45810,AT4G11230,AT4G25090,AT5G07390,AT5G47910,AT5G51060,AT5G60010,SOTUB06G025550.1.1,SOTUB06G025580.1.1,SOTUB08G028720.1.1]',\n",
       "  'ROS']]"
      ]
     },
     "execution_count": 11,
     "metadata": {},
     "output_type": "execute_result"
    }
   ],
   "source": [
    "JA_paths = [p for p in nx.all_shortest_paths(g, source=JA, target=SA)]\n",
    "JA_paths += [p for p in nx.all_shortest_paths(g, source=JA, target=ROS)]\n",
    "JA_paths"
   ]
  },
  {
   "cell_type": "markdown",
   "id": "46f64ca6",
   "metadata": {},
   "source": [
    "## SA --> JA + SA --> ROS"
   ]
  },
  {
   "cell_type": "code",
   "execution_count": 12,
   "id": "f8ae6d0b",
   "metadata": {},
   "outputs": [
    {
     "data": {
      "text/plain": [
       "[['SA',\n",
       "  'CAT[AT1G20620,AT1G20630,AT4G35090,SOTUB12G027890.1.1]',\n",
       "  'ACX[AT1G06290,AT2G35690,AT4G16760,AT5G65110,SOTUB10G008540.1.1]',\n",
       "  'OPC6-CoA',\n",
       "  'MFP[AT3G06860,AT3G15290,AT4G29010]',\n",
       "  'OPC4-CoA',\n",
       "  'KAT[AT1G04710,AT2G33150,AT5G48880]',\n",
       "  'JA-CoA',\n",
       "  'ACH[AT2G30720,AT5G48370]',\n",
       "  'JA'],\n",
       " ['SA', 'CAT[AT1G20620,AT1G20630,AT4G35090,SOTUB12G027890.1.1]', 'ROS']]"
      ]
     },
     "execution_count": 12,
     "metadata": {},
     "output_type": "execute_result"
    }
   ],
   "source": [
    "SA_paths = [p for p in nx.all_shortest_paths(g, source=SA, target=JA)]\n",
    "SA_paths += [p for p in nx.all_shortest_paths(g, source=SA, target=ROS)]\n",
    "SA_paths"
   ]
  },
  {
   "cell_type": "markdown",
   "id": "dca61bea",
   "metadata": {},
   "source": [
    "## ROS --> JA + ROS --> SA"
   ]
  },
  {
   "cell_type": "code",
   "execution_count": 13,
   "id": "07ac7956",
   "metadata": {},
   "outputs": [
    {
     "data": {
      "text/plain": [
       "[['ROS',\n",
       "  'GST[AT1G02920,AT1G02930,AT1G17170,AT2G02930,AT2G47730,AT4G02520]',\n",
       "  'SA',\n",
       "  'CAT[AT1G20620,AT1G20630,AT4G35090,SOTUB12G027890.1.1]',\n",
       "  'ACX[AT1G06290,AT2G35690,AT4G16760,AT5G65110,SOTUB10G008540.1.1]',\n",
       "  'OPC6-CoA',\n",
       "  'MFP[AT3G06860,AT3G15290,AT4G29010]',\n",
       "  'OPC4-CoA',\n",
       "  'KAT[AT1G04710,AT2G33150,AT5G48880]',\n",
       "  'JA-CoA',\n",
       "  'ACH[AT2G30720,AT5G48370]',\n",
       "  'JA'],\n",
       " ['ROS',\n",
       "  'GST[AT1G02920,AT1G02930,AT1G17170,AT2G02930,AT2G47730,AT4G02520]',\n",
       "  'SA']]"
      ]
     },
     "execution_count": 13,
     "metadata": {},
     "output_type": "execute_result"
    }
   ],
   "source": [
    "ROS_paths = [p for p in nx.all_shortest_paths(g, source=ROS, target=JA)]\n",
    "ROS_paths += [p for p in nx.all_shortest_paths(g, source=ROS, target=SA)]\n",
    "ROS_paths"
   ]
  },
  {
   "cell_type": "markdown",
   "id": "a8565f9d",
   "metadata": {},
   "source": [
    "# Cytoscape "
   ]
  },
  {
   "cell_type": "markdown",
   "id": "6346e4f9",
   "metadata": {},
   "source": [
    "First open the Cytoscape application. Then the following cell will load the required library and and make sure you can connect to the Cytoscape application. \n",
    "\n",
    "More py4cytoscape documentation is here: https://py4cytoscape.readthedocs.io/"
   ]
  },
  {
   "cell_type": "code",
   "execution_count": 14,
   "id": "b6489d84-3f07-489e-a572-51d7aa61a6ea",
   "metadata": {},
   "outputs": [],
   "source": [
    "from skm_tools import cytoscape_utils"
   ]
  },
  {
   "cell_type": "code",
   "execution_count": 15,
   "id": "75251cd9",
   "metadata": {},
   "outputs": [
    {
     "name": "stdout",
     "output_type": "stream",
     "text": [
      "You are connected to Cytoscape!\n"
     ]
    },
    {
     "data": {
      "text/plain": [
       "{'apiVersion': 'v1',\n",
       " 'cytoscapeVersion': '3.10.2',\n",
       " 'automationAPIVersion': '1.9.0',\n",
       " 'py4cytoscapeVersion': '1.9.0'}"
      ]
     },
     "execution_count": 15,
     "metadata": {},
     "output_type": "execute_result"
    }
   ],
   "source": [
    "import py4cytoscape as p4c\n",
    "p4c.cytoscape_ping()\n",
    "p4c.cytoscape_version_info()"
   ]
  },
  {
   "cell_type": "markdown",
   "id": "cc69a9e8",
   "metadata": {},
   "source": [
    "We set the Cytoscape collection name for this notebook. "
   ]
  },
  {
   "cell_type": "code",
   "execution_count": 16,
   "id": "0ea7e02a",
   "metadata": {},
   "outputs": [
    {
     "data": {
      "text/plain": [
       "'PSS: JA, SA, ROS (2024.08.21)'"
      ]
     },
     "execution_count": 16,
     "metadata": {},
     "output_type": "execute_result"
    }
   ],
   "source": [
    "COLLECTION = f\"PSS: JA, SA, ROS ({today})\"\n",
    "COLLECTION"
   ]
  },
  {
   "cell_type": "markdown",
   "id": "a83683ac",
   "metadata": {},
   "source": [
    "We're going to highlight the identified paths in Cytoscape, and we set the colours here:"
   ]
  },
  {
   "cell_type": "code",
   "execution_count": 17,
   "id": "0c508e91",
   "metadata": {},
   "outputs": [],
   "source": [
    "JA_COLOUR = \"#66a61e\"\n",
    "SA_COLOUR = \"#34858d\"\n",
    "ROS_COLOUR = \"#dc1c1c\""
   ]
  },
  {
   "cell_type": "markdown",
   "id": "42d41865",
   "metadata": {},
   "source": [
    "## Load the PSS network into Cytoscape\n",
    "\n",
    "We load the network, set a visual style, and apply the CoSE layout.\n",
    "\n",
    "With skm-tools, we provide a default style for PSS, colouring the nodes bypathway.\n",
    "\n",
    "Returned is the ID of the network view in Cytoscape."
   ]
  },
  {
   "cell_type": "code",
   "execution_count": 18,
   "id": "23546d24",
   "metadata": {},
   "outputs": [
    {
     "name": "stdout",
     "output_type": "stream",
     "text": [
      "Applying default style...\n",
      "Applying preferred layout\n",
      "Applied PSS-default to 53457\n"
     ]
    },
    {
     "data": {
      "text/plain": [
       "53457"
      ]
     },
     "execution_count": 18,
     "metadata": {},
     "output_type": "execute_result"
    }
   ],
   "source": [
    "pss_network_suid = p4c.networks.create_network_from_networkx(g, title=\"Complete PSS\", collection=COLLECTION)\n",
    "cytoscape_utils.apply_builtin_style(pss_network_suid, 'pss')\n",
    "p4c.layout_network(\"cose\", network=pss_network_suid)\n",
    "pss_network_suid"
   ]
  },
  {
   "cell_type": "markdown",
   "id": "5496ed98",
   "metadata": {},
   "source": [
    "Now we're going to highlight the paths we identified in the network by applying style bypasses.\n",
    "\n",
    "We don't want to recolour already highlighted path elements, so we keep track of them here:"
   ]
  },
  {
   "cell_type": "code",
   "execution_count": 19,
   "id": "65228bba",
   "metadata": {},
   "outputs": [],
   "source": [
    "done_nodes, done_edges = [], []"
   ]
  },
  {
   "cell_type": "code",
   "execution_count": 20,
   "id": "47d89e3c",
   "metadata": {},
   "outputs": [
    {
     "name": "stdout",
     "output_type": "stream",
     "text": [
      "JA JAR[AT2G46370,AT4G03400]\n",
      "JAR[AT2G46370,AT4G03400] JA-Ile\n",
      "JA-Ile COI1|JA-Ile|SCF\n",
      "COI1|JA-Ile|SCF JAZ[AT1G17380,AT1G19180,AT1G30135,AT1G48500,AT1G70700,AT1G72450,AT1G74950,AT2G34600,AT3G17860,AT3G43440,AT5G13220,AT5G20900]\n",
      "JAZ[AT1G17380,AT1G19180,AT1G30135,AT1G48500,AT1G70700,AT1G72450,AT1G74950,AT2G34600,AT3G17860,AT3G43440,AT5G13220,AT5G20900] EIN3(like)[AT2G27050,AT3G20770]\n",
      "EIN3(like)[AT2G27050,AT3G20770] ICS[AT1G18870,AT1G74710]\n",
      "ICS[AT1G18870,AT1G74710] IsoChor\n",
      "IsoChor PBS3[AT5G13320]\n",
      "PBS3[AT5G13320] IsoChor-9-Glu\n",
      "IsoChor-9-Glu EPS1[AT5G67160]\n",
      "EPS1[AT5G67160] SA\n",
      "JA JAR[AT2G46370,AT4G03400]\n",
      "JAR[AT2G46370,AT4G03400] JA-Ile\n",
      "JA-Ile COI1|JA-Ile|SCF\n",
      "COI1|JA-Ile|SCF JAZ[AT1G17380,AT1G19180,AT1G30135,AT1G48500,AT1G70700,AT1G72450,AT1G74950,AT2G34600,AT3G17860,AT3G43440,AT5G13220,AT5G20900]\n",
      "JAZ[AT1G17380,AT1G19180,AT1G30135,AT1G48500,AT1G70700,AT1G72450,AT1G74950,AT2G34600,AT3G17860,AT3G43440,AT5G13220,AT5G20900] MYC2[AT1G32640]\n",
      "MYC2[AT1G32640] ICS[AT1G18870,AT1G74710]\n",
      "ICS[AT1G18870,AT1G74710] IsoChor\n",
      "IsoChor PBS3[AT5G13320]\n",
      "PBS3[AT5G13320] IsoChor-9-Glu\n",
      "IsoChor-9-Glu EPS1[AT5G67160]\n",
      "EPS1[AT5G67160] SA\n",
      "JA JAR[AT2G46370,AT4G03400]\n",
      "JAR[AT2G46370,AT4G03400] JA-Ile\n",
      "JA-Ile COI1|JA-Ile|SCF\n",
      "COI1|JA-Ile|SCF JAZ[AT1G17380,AT1G19180,AT1G30135,AT1G48500,AT1G70700,AT1G72450,AT1G74950,AT2G34600,AT3G17860,AT3G43440,AT5G13220,AT5G20900]\n",
      "JAZ[AT1G17380,AT1G19180,AT1G30135,AT1G48500,AT1G70700,AT1G72450,AT1G74950,AT2G34600,AT3G17860,AT3G43440,AT5G13220,AT5G20900] MYC2[AT1G32640]\n",
      "MYC2[AT1G32640] PEPR[AT1G17750,AT1G73080]\n",
      "PEPR[AT1G17750,AT1G73080] PEPR1|PEP1\n",
      "PEPR1|PEP1 BIK1[AT2G39660]\n",
      "BIK1[AT2G39660] RBOH[AT1G09090,AT1G19230,AT1G64060,AT3G45810,AT4G11230,AT4G25090,AT5G07390,AT5G47910,AT5G51060,AT5G60010,SOTUB06G025550.1.1,SOTUB06G025580.1.1,SOTUB08G028720.1.1]\n",
      "RBOH[AT1G09090,AT1G19230,AT1G64060,AT3G45810,AT4G11230,AT4G25090,AT5G07390,AT5G47910,AT5G51060,AT5G60010,SOTUB06G025550.1.1,SOTUB06G025580.1.1,SOTUB08G028720.1.1] ROS\n"
     ]
    }
   ],
   "source": [
    "for p in JA_paths:\n",
    "    done_nodes_now, done_edges_now = cytoscape_utils.highlight_path(p, JA_COLOUR, skip_nodes=done_nodes, skip_edges=done_edges)\n",
    "    done_nodes += done_nodes_now\n",
    "    done_edges += done_edges_now"
   ]
  },
  {
   "cell_type": "code",
   "execution_count": 21,
   "id": "d663dce3",
   "metadata": {},
   "outputs": [
    {
     "name": "stdout",
     "output_type": "stream",
     "text": [
      "['SA', 'CAT[AT1G20620,AT1G20630,AT4G35090,SOTUB12G027890.1.1]', 'ACX[AT1G06290,AT2G35690,AT4G16760,AT5G65110,SOTUB10G008540.1.1]', 'OPC6-CoA', 'MFP[AT3G06860,AT3G15290,AT4G29010]', 'OPC4-CoA', 'KAT[AT1G04710,AT2G33150,AT5G48880]', 'JA-CoA', 'ACH[AT2G30720,AT5G48370]', 'JA']\n",
      "SA CAT[AT1G20620,AT1G20630,AT4G35090,SOTUB12G027890.1.1]\n",
      "CAT[AT1G20620,AT1G20630,AT4G35090,SOTUB12G027890.1.1] ACX[AT1G06290,AT2G35690,AT4G16760,AT5G65110,SOTUB10G008540.1.1]\n",
      "ACX[AT1G06290,AT2G35690,AT4G16760,AT5G65110,SOTUB10G008540.1.1] OPC6-CoA\n",
      "OPC6-CoA MFP[AT3G06860,AT3G15290,AT4G29010]\n",
      "MFP[AT3G06860,AT3G15290,AT4G29010] OPC4-CoA\n",
      "OPC4-CoA KAT[AT1G04710,AT2G33150,AT5G48880]\n",
      "KAT[AT1G04710,AT2G33150,AT5G48880] JA-CoA\n",
      "JA-CoA ACH[AT2G30720,AT5G48370]\n",
      "ACH[AT2G30720,AT5G48370] JA\n",
      "['SA', 'CAT[AT1G20620,AT1G20630,AT4G35090,SOTUB12G027890.1.1]', 'ROS']\n",
      "No more nodes to colour\n"
     ]
    }
   ],
   "source": [
    "for p in SA_paths:\n",
    "    print(p)\n",
    "    done_nodes_now, done_edges_now = cytoscape_utils.highlight_path(p, SA_COLOUR, skip_nodes=done_nodes, skip_edges=done_edges)\n",
    "    done_nodes += done_nodes_now\n",
    "    done_edges += done_edges_now\n"
   ]
  },
  {
   "cell_type": "code",
   "execution_count": 22,
   "id": "901a811a",
   "metadata": {},
   "outputs": [
    {
     "name": "stdout",
     "output_type": "stream",
     "text": [
      "ROS GST[AT1G02920,AT1G02930,AT1G17170,AT2G02930,AT2G47730,AT4G02520]\n",
      "GST[AT1G02920,AT1G02930,AT1G17170,AT2G02930,AT2G47730,AT4G02520] SA\n",
      "SA CAT[AT1G20620,AT1G20630,AT4G35090,SOTUB12G027890.1.1]\n",
      "CAT[AT1G20620,AT1G20630,AT4G35090,SOTUB12G027890.1.1] ACX[AT1G06290,AT2G35690,AT4G16760,AT5G65110,SOTUB10G008540.1.1]\n",
      "ACX[AT1G06290,AT2G35690,AT4G16760,AT5G65110,SOTUB10G008540.1.1] OPC6-CoA\n",
      "OPC6-CoA MFP[AT3G06860,AT3G15290,AT4G29010]\n",
      "MFP[AT3G06860,AT3G15290,AT4G29010] OPC4-CoA\n",
      "OPC4-CoA KAT[AT1G04710,AT2G33150,AT5G48880]\n",
      "KAT[AT1G04710,AT2G33150,AT5G48880] JA-CoA\n",
      "JA-CoA ACH[AT2G30720,AT5G48370]\n",
      "ACH[AT2G30720,AT5G48370] JA\n",
      "No more nodes to colour\n"
     ]
    }
   ],
   "source": [
    "for p in ROS_paths:\n",
    "    done_nodes_now, done_edges_now = cytoscape_utils.highlight_path(p, ROS_COLOUR, skip_nodes=done_nodes, skip_edges=done_edges)\n",
    "    done_nodes += done_nodes_now\n",
    "    done_edges += done_edges_now"
   ]
  },
  {
   "cell_type": "markdown",
   "id": "a66c5821",
   "metadata": {},
   "source": [
    "At this point, the Cytoscape session has a network view of the filtered PSS, and highlighting of the paths we extracted from our targeted searches. "
   ]
  },
  {
   "cell_type": "markdown",
   "id": "3f51e5ac",
   "metadata": {},
   "source": [
    "## Extract subnetworks in Cytoscape\n",
    "\n",
    "Properly inspecting the identified paths is a bit hard within the complete network, so here we pull out the subnetworks of and surrounding the paths. \n"
   ]
  },
  {
   "cell_type": "markdown",
   "id": "c83244a1",
   "metadata": {},
   "source": [
    "### The edge induced network\n",
    "The first, and smallest subnetwork, is created by extracting only the edges that are present on the paths. "
   ]
  },
  {
   "cell_type": "code",
   "execution_count": 23,
   "id": "8a4a7f08",
   "metadata": {},
   "outputs": [],
   "source": [
    "network_edge_induced_suid = cytoscape_utils.subnetwork_edge_induced_from_paths(\n",
    "    paths=JA_paths + SA_paths + ROS_paths,\n",
    "    g=g,\n",
    "    parent_suid=pss_network_suid,\n",
    "    name=\"identified paths (edge induced)\",\n",
    ")"
   ]
  },
  {
   "cell_type": "markdown",
   "id": "19b9fb8c",
   "metadata": {},
   "source": [
    "We apply a new layout to this subnetwork"
   ]
  },
  {
   "cell_type": "code",
   "execution_count": 24,
   "id": "5a0d43bd",
   "metadata": {},
   "outputs": [],
   "source": [
    "_ = p4c.layouts.layout_network('cose', network=network_edge_induced_suid)"
   ]
  },
  {
   "cell_type": "markdown",
   "id": "aa0dbf79",
   "metadata": {},
   "source": [
    "### The node induced network\n",
    "\n",
    "Now we extract the network based on the nodes along the paths, meaning any edges between those nodes that are not on the paths are also extracted. "
   ]
  },
  {
   "cell_type": "code",
   "execution_count": 25,
   "id": "234d81cd",
   "metadata": {},
   "outputs": [],
   "source": [
    "nodes = list(set([y for x in JA_paths + SA_paths + ROS_paths for y in x]))"
   ]
  },
  {
   "cell_type": "code",
   "execution_count": 26,
   "id": "61e903f2",
   "metadata": {},
   "outputs": [],
   "source": [
    "network_node_induced_suid = cytoscape_utils.subnetwork_node_induced(\n",
    "    nodes=nodes,\n",
    "    parent_suid=pss_network_suid,\n",
    "    name=\"identified paths (node induced)\",\n",
    ")"
   ]
  },
  {
   "cell_type": "markdown",
   "id": "551d1985",
   "metadata": {},
   "source": [
    "Instead of applying a network layout algorithm, we can copy the layout from the previous subnetwork. "
   ]
  },
  {
   "cell_type": "code",
   "execution_count": 27,
   "id": "093dc7ac",
   "metadata": {},
   "outputs": [],
   "source": [
    "_ = p4c.layouts.layout_copycat(\n",
    "    network_edge_induced_suid, \n",
    "    network_node_induced_suid\n",
    ")"
   ]
  },
  {
   "cell_type": "markdown",
   "id": "d9d0324e",
   "metadata": {},
   "source": [
    "### Neighbours\n",
    "\n",
    "For more context around our paths, we can include the first neighbours in the view. We can use the Cytoscape first neighbour selection functionality. "
   ]
  },
  {
   "cell_type": "code",
   "execution_count": 28,
   "id": "192e436c",
   "metadata": {},
   "outputs": [],
   "source": [
    "network_neighbours_suid = cytoscape_utils.subnetwork_neighbours(\n",
    "    nodes=nodes,\n",
    "    parent_suid=pss_network_suid,\n",
    "    name=\"identified paths + 1st neighbours\",\n",
    ")"
   ]
  },
  {
   "cell_type": "code",
   "execution_count": 29,
   "id": "ac847256",
   "metadata": {},
   "outputs": [],
   "source": [
    "_ = p4c.layouts.layout_network('cose', network=network_neighbours_suid)"
   ]
  },
  {
   "cell_type": "markdown",
   "id": "e46d81fb",
   "metadata": {},
   "source": [
    "This network (with manual layout improvements and removal of unrelated nodes) is shown in Figure 3 of the article. "
   ]
  },
  {
   "cell_type": "markdown",
   "id": "2c443ba1",
   "metadata": {},
   "source": [
    "### Additional filtering of the neighbours\n",
    "\n",
    "There are many neighbours displayed now, and we are perhaps only interested in the ones that are connected to at least two of the original path nodes, so we can make a filter using networkX neighbour functions. "
   ]
  },
  {
   "cell_type": "code",
   "execution_count": 30,
   "id": "b09628ac",
   "metadata": {},
   "outputs": [],
   "source": [
    "filtered_neighbours = []\n",
    "for n in g.nodes():\n",
    "    if (len([x for x in nx.MultiGraph(g).neighbors(n) if (x in done_nodes)]) > 1) and (n not in done_nodes):\n",
    "        filtered_neighbours.append(n)"
   ]
  },
  {
   "cell_type": "code",
   "execution_count": 31,
   "id": "a3bb179f",
   "metadata": {},
   "outputs": [],
   "source": [
    "network_neighbours_filtered_suid = cytoscape_utils.subnetwork_node_induced(\n",
    "    nodes=nodes+filtered_neighbours,\n",
    "    parent_suid=pss_network_suid,\n",
    "    name=\"identified paths + 1st neighbours (filtered)\",\n",
    ")"
   ]
  },
  {
   "cell_type": "code",
   "execution_count": 32,
   "id": "0510890f",
   "metadata": {},
   "outputs": [
    {
     "data": {
      "text/plain": [
       "{'mappedNodeCount': 39, 'unmappedNodeCount': 0}"
      ]
     },
     "execution_count": 32,
     "metadata": {},
     "output_type": "execute_result"
    }
   ],
   "source": [
    "p4c.layouts.layout_copycat(\n",
    "    network_neighbours_suid, \n",
    "    network_neighbours_filtered_suid\n",
    ")"
   ]
  },
  {
   "cell_type": "markdown",
   "id": "ef336952",
   "metadata": {},
   "source": [
    "Save the Cytoscape session:"
   ]
  },
  {
   "cell_type": "markdown",
   "id": "65cc3435-d930-4810-8142-6f8562ac571f",
   "metadata": {},
   "source": [
    "## Saving and exporting"
   ]
  },
  {
   "cell_type": "code",
   "execution_count": 33,
   "id": "f6ec0f38",
   "metadata": {},
   "outputs": [
    {
     "data": {
      "text/plain": [
       "{}"
      ]
     },
     "execution_count": 33,
     "metadata": {},
     "output_type": "execute_result"
    }
   ],
   "source": [
    "p4c.session.save_session(str(output_dir / f\"PSS-JA-SA-ROS-{today}.cys\"))"
   ]
  },
  {
   "cell_type": "code",
   "execution_count": 34,
   "id": "b59f0d65-0e74-4308-8796-096a0dce27c7",
   "metadata": {},
   "outputs": [],
   "source": [
    "collection_suid = p4c.get_collection_suid(network_edge_induced_suid)"
   ]
  },
  {
   "cell_type": "code",
   "execution_count": 35,
   "id": "80ad7504-0a50-4806-9179-1cd8c659ad58",
   "metadata": {},
   "outputs": [],
   "source": [
    "from skm_tools import cytoscape_pdf_utils"
   ]
  },
  {
   "cell_type": "code",
   "execution_count": 36,
   "id": "76a8c147-ef9a-485b-829a-4bab767ef95d",
   "metadata": {},
   "outputs": [
    {
     "name": "stdout",
     "output_type": "stream",
     "text": [
      "53457 Complete PSS\n",
      "59991 identified paths (edge induced)\n",
      "60348 identified paths (node induced)\n",
      "60671 identified paths + 1st neighbours\n",
      "61917 identified paths + 1st neighbours (filtered)\n",
      "Collection saved to output/figures\n"
     ]
    }
   ],
   "source": [
    "cytoscape_pdf_utils.export_collection_to_pdfs(collection_suid, output_dir / \"figures\")"
   ]
  },
  {
   "cell_type": "code",
   "execution_count": 37,
   "id": "da44f934-7c23-4e78-a4f2-c68e180d85e0",
   "metadata": {},
   "outputs": [
    {
     "name": "stdout",
     "output_type": "stream",
     "text": [
      "53457 Complete PSS\n",
      "59991 identified paths (edge induced)\n",
      "60348 identified paths (node induced)\n",
      "60671 identified paths + 1st neighbours\n",
      "61917 identified paths + 1st neighbours (filtered)\n",
      "Collection save to output/figures/single_pdf\n"
     ]
    }
   ],
   "source": [
    "cytoscape_pdf_utils.export_collection_to_single_pdf(collection_suid, output_dir / \"figures\" / \"single_pdf\", caption=True)"
   ]
  },
  {
   "cell_type": "code",
   "execution_count": 38,
   "id": "87ef826e",
   "metadata": {},
   "outputs": [],
   "source": [
    "# END"
   ]
  },
  {
   "cell_type": "code",
   "execution_count": null,
   "id": "d6bdeea9",
   "metadata": {},
   "outputs": [],
   "source": []
  },
  {
   "cell_type": "code",
   "execution_count": null,
   "id": "d9b688c2",
   "metadata": {},
   "outputs": [],
   "source": []
  }
 ],
 "metadata": {
  "kernelspec": {
   "display_name": "Python [conda env:python-env]",
   "language": "python",
   "name": "conda-env-python-env-py"
  },
  "language_info": {
   "codemirror_mode": {
    "name": "ipython",
    "version": 3
   },
   "file_extension": ".py",
   "mimetype": "text/x-python",
   "name": "python",
   "nbconvert_exporter": "python",
   "pygments_lexer": "ipython3",
   "version": "3.10.13"
  },
  "toc": {
   "base_numbering": 1,
   "nav_menu": {},
   "number_sections": true,
   "sideBar": true,
   "skip_h1_title": false,
   "title_cell": "Table of Contents",
   "title_sidebar": "Contents",
   "toc_cell": true,
   "toc_position": {
    "height": "calc(100% - 180px)",
    "left": "10px",
    "top": "150px",
    "width": "165px"
   },
   "toc_section_display": true,
   "toc_window_display": true
  },
  "varInspector": {
   "cols": {
    "lenName": 16,
    "lenType": 16,
    "lenVar": 40
   },
   "kernels_config": {
    "python": {
     "delete_cmd_postfix": "",
     "delete_cmd_prefix": "del ",
     "library": "var_list.py",
     "varRefreshCmd": "print(var_dic_list())"
    },
    "r": {
     "delete_cmd_postfix": ") ",
     "delete_cmd_prefix": "rm(",
     "library": "var_list.r",
     "varRefreshCmd": "cat(var_dic_list()) "
    }
   },
   "types_to_exclude": [
    "module",
    "function",
    "builtin_function_or_method",
    "instance",
    "_Feature"
   ],
   "window_display": false
  }
 },
 "nbformat": 4,
 "nbformat_minor": 5
}

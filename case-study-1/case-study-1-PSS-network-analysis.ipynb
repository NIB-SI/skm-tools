{
 "cells": [
  {
   "cell_type": "markdown",
   "id": "b6bddbe6",
   "metadata": {
    "toc": true
   },
   "source": [
    "<h1>Table of Contents<span class=\"tocSkip\"></span></h1>\n",
    "<div class=\"toc\"><ul class=\"toc-item\"><li><span><a href=\"#PSS-paths-for-case-1-(ABA/RD29)\" data-toc-modified-id=\"PSS-paths-for-case-1-(ABA/RD29)-1\"><span class=\"toc-item-num\">1&nbsp;&nbsp;</span>PSS paths for case 1 (ABA/RD29)</a></span><ul class=\"toc-item\"><li><span><a href=\"#Description\" data-toc-modified-id=\"Description-1.1\"><span class=\"toc-item-num\">1.1&nbsp;&nbsp;</span>Description</a></span></li></ul></li><li><span><a href=\"#Setup\" data-toc-modified-id=\"Setup-2\"><span class=\"toc-item-num\">2&nbsp;&nbsp;</span>Setup</a></span><ul class=\"toc-item\"><li><span><a href=\"#Library-import\" data-toc-modified-id=\"Library-import-2.1\"><span class=\"toc-item-num\">2.1&nbsp;&nbsp;</span>Library import</a></span></li><li><span><a href=\"#Hany-functions\" data-toc-modified-id=\"Hany-functions-2.2\"><span class=\"toc-item-num\">2.2&nbsp;&nbsp;</span>Hany functions</a></span></li><li><span><a href=\"#Path-and-Parameter-definitions\" data-toc-modified-id=\"Path-and-Parameter-definitions-2.3\"><span class=\"toc-item-num\">2.3&nbsp;&nbsp;</span>Path and Parameter definitions</a></span></li><li><span><a href=\"#Load-PSS\" data-toc-modified-id=\"Load-PSS-2.4\"><span class=\"toc-item-num\">2.4&nbsp;&nbsp;</span>Load PSS</a></span></li><li><span><a href=\"#Filtering\" data-toc-modified-id=\"Filtering-2.5\"><span class=\"toc-item-num\">2.5&nbsp;&nbsp;</span>Filtering</a></span></li></ul></li><li><span><a href=\"#Path-extraction\" data-toc-modified-id=\"Path-extraction-3\"><span class=\"toc-item-num\">3&nbsp;&nbsp;</span>Path extraction</a></span><ul class=\"toc-item\"><li><span><a href=\"#ABA--->-RD29\" data-toc-modified-id=\"ABA--->-RD29-3.1\"><span class=\"toc-item-num\">3.1&nbsp;&nbsp;</span>ABA --&gt; RD29</a></span></li><li><span><a href=\"#JA--->-RD29\" data-toc-modified-id=\"JA--->-RD29-3.2\"><span class=\"toc-item-num\">3.2&nbsp;&nbsp;</span>JA --&gt; RD29</a></span></li><li><span><a href=\"#SA--->-RD29\" data-toc-modified-id=\"SA--->-RD29-3.3\"><span class=\"toc-item-num\">3.3&nbsp;&nbsp;</span>SA --&gt; RD29</a></span></li></ul></li><li><span><a href=\"#Cytoscape\" data-toc-modified-id=\"Cytoscape-4\"><span class=\"toc-item-num\">4&nbsp;&nbsp;</span>Cytoscape</a></span><ul class=\"toc-item\"><li><span><a href=\"#Load-the-PSS-network-into-Cytoscape\" data-toc-modified-id=\"Load-the-PSS-network-into-Cytoscape-4.1\"><span class=\"toc-item-num\">4.1&nbsp;&nbsp;</span>Load the PSS network into Cytoscape</a></span></li><li><span><a href=\"#Extract-subnetworks-in-Cytoscape\" data-toc-modified-id=\"Extract-subnetworks-in-Cytoscape-4.2\"><span class=\"toc-item-num\">4.2&nbsp;&nbsp;</span>Extract subnetworks in Cytoscape</a></span><ul class=\"toc-item\"><li><span><a href=\"#The-edge-induced-network\" data-toc-modified-id=\"The-edge-induced-network-4.2.1\"><span class=\"toc-item-num\">4.2.1&nbsp;&nbsp;</span>The edge induced network</a></span></li><li><span><a href=\"#The-node-induced-network\" data-toc-modified-id=\"The-node-induced-network-4.2.2\"><span class=\"toc-item-num\">4.2.2&nbsp;&nbsp;</span>The node induced network</a></span></li><li><span><a href=\"#Neighbours\" data-toc-modified-id=\"Neighbours-4.2.3\"><span class=\"toc-item-num\">4.2.3&nbsp;&nbsp;</span>Neighbours</a></span></li><li><span><a href=\"#Filtered-neighbours\" data-toc-modified-id=\"Filtered-neighbours-4.2.4\"><span class=\"toc-item-num\">4.2.4&nbsp;&nbsp;</span>Filtered neighbours</a></span></li></ul></li></ul></li></ul></div>"
   ]
  },
  {
   "cell_type": "markdown",
   "id": "99a3cb41",
   "metadata": {},
   "source": [
    "# PSS paths for case 1 (ABA/RD29)\n",
    "\n",
    "## Description\n",
    "\n",
    "This notebook contains the analysis of PSS for the first use case of the SKM publication. \n",
    "\n",
    "Experimental results showed that ABA is able to induce expression of RD29 in both arabidopsis and potato plants. However, the addition of SA or JA showed attenuation of this induction (while alone they had no effect). \n",
    "\n",
    "Here, we interogate the PSS network of stress signalling to identify potential points of intersection between the ABA activation of RD29 and SA or JA pathways, to identify potential mechanistic explainations of the observed experimental results. \n"
   ]
  },
  {
   "cell_type": "markdown",
   "id": "0a22ab77",
   "metadata": {},
   "source": [
    "# Setup\n",
    "\n",
    "## Library import\n",
    "We import all the required Python libraries\n",
    "\n",
    "The non-default libries are networkX (https://networkx.org/) and py4cytoscape (https://py4cytoscape.readthedocs.io/, only necessary if you wish to view the results in Cytoscape). \n",
    "\n",
    "You will also need the skm-tools package provided in the same repository as this notebook. "
   ]
  },
  {
   "cell_type": "code",
   "execution_count": 1,
   "id": "2d95f147",
   "metadata": {},
   "outputs": [],
   "source": [
    "import sys\n",
    "from pathlib import Path\n",
    "from datetime import datetime\n",
    "from IPython.display import Markdown, display\n",
    "\n",
    "import networkx as nx"
   ]
  },
  {
   "cell_type": "code",
   "execution_count": 2,
   "id": "182ed647",
   "metadata": {},
   "outputs": [],
   "source": [
    "from importlib import reload"
   ]
  },
  {
   "cell_type": "markdown",
   "id": "4d5d0864",
   "metadata": {},
   "source": [
    "The following allows us to import functions from the skm-tools package. \n",
    "Note the relative path to the folder containing the \n",
    "\"skm-tools\" directory. \n"
   ]
  },
  {
   "cell_type": "code",
   "execution_count": 2,
   "id": "f5cab835",
   "metadata": {},
   "outputs": [],
   "source": [
    "sys.path.append(\"../\")\n",
    "from skm_tools import load_networks, pss_utils, cytoscape_utils"
   ]
  },
  {
   "cell_type": "markdown",
   "id": "3f7239d6",
   "metadata": {},
   "source": [
    "## Hany functions"
   ]
  },
  {
   "cell_type": "code",
   "execution_count": 4,
   "id": "969a40f7",
   "metadata": {},
   "outputs": [],
   "source": [
    "# allows viewing colour codes within a notebook\n",
    "def swatches(colors, sep=' ', width=6):\n",
    "    display(Markdown(sep.join(\n",
    "        f'<span style=\"font-family: monospace\">{color} <span style=\"color: {color}\">{chr(9608)*width}</span></span>'\n",
    "        for color in colors\n",
    "    )))    "
   ]
  },
  {
   "cell_type": "code",
   "execution_count": 5,
   "id": "7f2fefb4",
   "metadata": {},
   "outputs": [
    {
     "data": {
      "text/plain": [
       "'2023.07.27'"
      ]
     },
     "execution_count": 5,
     "metadata": {},
     "output_type": "execute_result"
    }
   ],
   "source": [
    "today = datetime.today().strftime('%Y.%m.%d'); today"
   ]
  },
  {
   "cell_type": "markdown",
   "id": "05afe406",
   "metadata": {},
   "source": [
    "## Path and parameter definitions"
   ]
  },
  {
   "cell_type": "code",
   "execution_count": 6,
   "id": "2119de30",
   "metadata": {},
   "outputs": [],
   "source": [
    "base_dir = Path(\"./\")\n",
    "data_dir = base_dir / \"data\"\n",
    "output_dir = base_dir / \"output\"\n",
    "figure_dir = output_dir / \"figures\""
   ]
  },
  {
   "cell_type": "code",
   "execution_count": 7,
   "id": "b43e4fe9",
   "metadata": {},
   "outputs": [],
   "source": [
    "pss_edge_path = data_dir / f\"rxn-edges-public-{today}.tsv\"\n",
    "pss_node_path = data_dir / f\"rxn-nodes-public-{today}.tsv\""
   ]
  },
  {
   "cell_type": "markdown",
   "id": "3d53d3f1",
   "metadata": {},
   "source": [
    "## Load PSS\n"
   ]
  },
  {
   "cell_type": "code",
   "execution_count": 8,
   "id": "2f4c70cd",
   "metadata": {},
   "outputs": [
    {
     "name": "stdout",
     "output_type": "stream",
     "text": [
      "\n",
      "Number of nodes: 528\n",
      "Number of edges: 893\n"
     ]
    }
   ],
   "source": [
    "g = load_networks.pss_to_networkx(\n",
    "    edge_path=pss_edge_path, \n",
    "    node_path=pss_node_path\n",
    ")\n",
    "\n",
    "print(f\"\\nNumber of nodes: {g.number_of_nodes()}\\nNumber of edges: {g.number_of_edges()}\")"
   ]
  },
  {
   "cell_type": "markdown",
   "id": "9a609f5f",
   "metadata": {},
   "source": [
    "We can draw the networks using networkX functions:"
   ]
  },
  {
   "cell_type": "code",
   "execution_count": 9,
   "id": "568dc207",
   "metadata": {},
   "outputs": [
    {
     "data": {
      "image/png": "[encoded data removed]",
      "text/plain": [
       "<Figure size 432x288 with 1 Axes>"
      ]
     },
     "metadata": {},
     "output_type": "display_data"
    }
   ],
   "source": [
    "nx.draw_networkx(\n",
    "    g, \n",
    "    labels = {n:d['display_label'] for n, d in g.nodes(data=True)}\n",
    ")"
   ]
  },
  {
   "cell_type": "markdown",
   "id": "2ca2cd9d",
   "metadata": {},
   "source": [
    "But since NetworkX is not primarily a graph drawing package, instead of restyling this image we will use Cytoscpae, as demonstrated in the last section. "
   ]
  },
  {
   "cell_type": "markdown",
   "id": "e5c84ca5",
   "metadata": {},
   "source": [
    "## Filtering"
   ]
  },
  {
   "cell_type": "markdown",
   "id": "cf747fd3",
   "metadata": {},
   "source": [
    "PSS contains some processes that are not relevent to this study, such as viral proteins (Foreign nodes) and FunctionalClusters that do not include either arabidopsis or potato functional homologues. \n",
    "\n",
    "Here, we remove them from the network. "
   ]
  },
  {
   "cell_type": "code",
   "execution_count": 10,
   "id": "8a9e891a",
   "metadata": {},
   "outputs": [
    {
     "data": {
      "text/plain": [
       "{'Complex',\n",
       " 'ForeignAbiotic',\n",
       " 'ForeignCoding',\n",
       " 'ForeignEntity',\n",
       " 'ForeignNonCoding',\n",
       " 'Metabolite',\n",
       " 'PlantAbstract',\n",
       " 'PlantCoding',\n",
       " 'PlantNonCoding',\n",
       " 'Process'}"
      ]
     },
     "execution_count": 10,
     "metadata": {},
     "output_type": "execute_result"
    }
   ],
   "source": [
    "# see the types of nodes present\n",
    "set([data['node_type'] for n, data in g.nodes(data=True)])"
   ]
  },
  {
   "cell_type": "code",
   "execution_count": 11,
   "id": "9dd1f2c2",
   "metadata": {},
   "outputs": [],
   "source": [
    "# Define the types we want to keep\n",
    "keep_types = [\n",
    "    'Complex',\n",
    "    'Condition',\n",
    "    'ForeignAbiotic',\n",
    "    'Metabolite',\n",
    "    'PlantAbstract',\n",
    "    'PlantCoding',\n",
    "    'PlantNonCoding',\n",
    "    'Process'\n",
    "]"
   ]
  },
  {
   "cell_type": "code",
   "execution_count": 12,
   "id": "ed1cfef2",
   "metadata": {},
   "outputs": [],
   "source": [
    "# Define the species we want to keep\n",
    "species = ['ath', 'stu']"
   ]
  },
  {
   "cell_type": "code",
   "execution_count": 13,
   "id": "c2cafcc2",
   "metadata": {},
   "outputs": [
    {
     "name": "stdout",
     "output_type": "stream",
     "text": [
      "Removed 77 nodes from network.\n"
     ]
    }
   ],
   "source": [
    "# Use the util function to filter PSS\n",
    "removed = pss_utils.filter_pss_nodes(g, node_types=keep_types, species=species, remove_isolates=True)"
   ]
  },
  {
   "cell_type": "markdown",
   "id": "c6223c77",
   "metadata": {},
   "source": [
    "You can inspect the `removed` object to see the nodes that were removed, \n",
    "and the reasons for the removal"
   ]
  },
  {
   "cell_type": "code",
   "execution_count": 14,
   "id": "22f09366",
   "metadata": {},
   "outputs": [
    {
     "name": "stdout",
     "output_type": "stream",
     "text": [
      "\n",
      "Number of nodes: 451\n",
      "Number of edges: 707\n"
     ]
    }
   ],
   "source": [
    "print(f\"\\nNumber of nodes: {g.number_of_nodes()}\\nNumber of edges: {g.number_of_edges()}\")"
   ]
  },
  {
   "cell_type": "markdown",
   "id": "28fddd55",
   "metadata": {},
   "source": [
    "# Path extraction\n",
    "\n",
    "First we identify the nodes of interest."
   ]
  },
  {
   "cell_type": "code",
   "execution_count": 15,
   "id": "3973685c",
   "metadata": {},
   "outputs": [
    {
     "name": "stdout",
     "output_type": "stream",
     "text": [
      "ABA\n",
      "RD29[AT5G52300,AT5G52310,SOTUB03G014340.1.1]\n",
      "JA\n",
      "SA\n"
     ]
    }
   ],
   "source": [
    "ABA = [x for x,y in g.nodes(data=True) if y['name']==\"ABA\"][0]\n",
    "RD29 = [x for x,y in g.nodes(data=True) if y['short_name']==\"RD29\"][0]\n",
    "JA = [x for x,y in g.nodes(data=True) if y['name']==\"JA\"][0]\n",
    "SA = [x for x,y in g.nodes(data=True) if y['name']==\"SA\"][0];\n",
    "\n",
    "print(ABA)\n",
    "print(RD29)\n",
    "print(JA)\n",
    "print(SA)"
   ]
  },
  {
   "cell_type": "markdown",
   "id": "38d9bcb9",
   "metadata": {},
   "source": [
    "We use the networkx function `all_shortest_paths` to find paths between our nodes of interest:\n",
    "    \n",
    "* From ABA to RD29\n",
    "* From JA to RD29\n",
    "* From SA to RD29"
   ]
  },
  {
   "cell_type": "markdown",
   "id": "65c287d9",
   "metadata": {},
   "source": [
    "## ABA --> RD29"
   ]
  },
  {
   "cell_type": "code",
   "execution_count": 16,
   "id": "452f01a4",
   "metadata": {},
   "outputs": [
    {
     "data": {
      "text/plain": [
       "[['ABA',\n",
       "  'PYL[AT1G01360,AT2G40330]',\n",
       "  'PP2C[AT3G11410,SOLTU.DM.03G012480.1,SOLTU.DM.06G031720.1,SOTUB03G021270.1.1,SOTUB06G032210.1.1]',\n",
       "  'SNRK2[AT1G10940,AT1G78290,AT4G33950,SOTUB02G032470.1.1]',\n",
       "  'AREB/ABF[AT1G45249,AT1G49720,AT3G19290,AT4G34000]',\n",
       "  'RD29[AT5G52300,AT5G52310,SOTUB03G014340.1.1]']]"
      ]
     },
     "execution_count": 16,
     "metadata": {},
     "output_type": "execute_result"
    }
   ],
   "source": [
    "ABA_RD29_paths = [p for p in nx.all_shortest_paths(g, source=ABA, target=RD29)]\n",
    "ABA_RD29_paths"
   ]
  },
  {
   "cell_type": "markdown",
   "id": "46f64ca6",
   "metadata": {},
   "source": [
    "## JA --> RD29"
   ]
  },
  {
   "cell_type": "code",
   "execution_count": 17,
   "id": "f8ae6d0b",
   "metadata": {},
   "outputs": [
    {
     "data": {
      "text/plain": [
       "[['JA',\n",
       "  'JA-Ile',\n",
       "  'COI1|JA-Ile|SCF',\n",
       "  'JAZ[AT1G17380,AT1G19180,AT1G30135,AT1G48500,AT1G70700,AT1G72450,AT1G74950,AT2G34600,AT3G17860,AT3G43440,AT5G13220,AT5G20900]',\n",
       "  'MYC2[AT1G32640]',\n",
       "  'PYL[AT1G01360,AT2G40330]',\n",
       "  'PP2C[AT3G11410,SOLTU.DM.03G012480.1,SOLTU.DM.06G031720.1,SOTUB03G021270.1.1,SOTUB06G032210.1.1]',\n",
       "  'SNRK2[AT1G10940,AT1G78290,AT4G33950,SOTUB02G032470.1.1]',\n",
       "  'AREB/ABF[AT1G45249,AT1G49720,AT3G19290,AT4G34000]',\n",
       "  'RD29[AT5G52300,AT5G52310,SOTUB03G014340.1.1]']]"
      ]
     },
     "execution_count": 17,
     "metadata": {},
     "output_type": "execute_result"
    }
   ],
   "source": [
    "JA_paths = [p for p in nx.all_shortest_paths(g, source=JA, target=RD29)]\n",
    "JA_paths"
   ]
  },
  {
   "cell_type": "markdown",
   "id": "dca61bea",
   "metadata": {},
   "source": [
    "## SA --> RD29"
   ]
  },
  {
   "cell_type": "code",
   "execution_count": 18,
   "id": "07ac7956",
   "metadata": {},
   "outputs": [
    {
     "data": {
      "text/plain": [
       "[['SA',\n",
       "  'NPR1[AT1G64280]',\n",
       "  'MYC2[AT1G32640]',\n",
       "  'PYL[AT1G01360,AT2G40330]',\n",
       "  'PP2C[AT3G11410,SOLTU.DM.03G012480.1,SOLTU.DM.06G031720.1,SOTUB03G021270.1.1,SOTUB06G032210.1.1]',\n",
       "  'SNRK2[AT1G10940,AT1G78290,AT4G33950,SOTUB02G032470.1.1]',\n",
       "  'AREB/ABF[AT1G45249,AT1G49720,AT3G19290,AT4G34000]',\n",
       "  'RD29[AT5G52300,AT5G52310,SOTUB03G014340.1.1]']]"
      ]
     },
     "execution_count": 18,
     "metadata": {},
     "output_type": "execute_result"
    }
   ],
   "source": [
    "SA_paths = [p for p in nx.all_shortest_paths(g, source=SA, target=RD29)]\n",
    "SA_paths"
   ]
  },
  {
   "cell_type": "markdown",
   "id": "a8565f9d",
   "metadata": {},
   "source": [
    "# Cytoscape "
   ]
  },
  {
   "cell_type": "markdown",
   "id": "6346e4f9",
   "metadata": {},
   "source": [
    "Load the required library, and make sure you can connect to Cytoscape. \n",
    "\n",
    "More py4cytoscape documentation is here: https://py4cytoscape.readthedocs.io/"
   ]
  },
  {
   "cell_type": "code",
   "execution_count": 19,
   "id": "75251cd9",
   "metadata": {},
   "outputs": [
    {
     "data": {
      "text/plain": [
       "{'apiVersion': 'v1',\n",
       " 'cytoscapeVersion': '3.9.1',\n",
       " 'automationAPIVersion': '1.7.0',\n",
       " 'py4cytoscapeVersion': '1.7.0'}"
      ]
     },
     "execution_count": 19,
     "metadata": {},
     "output_type": "execute_result"
    }
   ],
   "source": [
    "import py4cytoscape as p4c\n",
    "p4c.cytoscape_version_info()"
   ]
  },
  {
   "cell_type": "markdown",
   "id": "cc69a9e8",
   "metadata": {},
   "source": [
    "We set the Cytoscape collection name for this notebook. "
   ]
  },
  {
   "cell_type": "code",
   "execution_count": 20,
   "id": "0ea7e02a",
   "metadata": {},
   "outputs": [
    {
     "data": {
      "text/plain": [
       "'Case 1: PSS (2023.07.27)'"
      ]
     },
     "execution_count": 20,
     "metadata": {},
     "output_type": "execute_result"
    }
   ],
   "source": [
    "COLLECTION = f\"Case 1: PSS ({today})\"\n",
    "COLLECTION"
   ]
  },
  {
   "cell_type": "markdown",
   "id": "e4a2c137",
   "metadata": {},
   "source": [
    "With this notebook, we also supply a file defining a generic visual style for PSS, here the style is imported, \n",
    "and we save the style name to be able to apply it to the networks. "
   ]
  },
  {
   "cell_type": "code",
   "execution_count": 21,
   "id": "02a9dfe1",
   "metadata": {},
   "outputs": [
    {
     "data": {
      "text/plain": [
       "'PSS-default-style'"
      ]
     },
     "execution_count": 21,
     "metadata": {},
     "output_type": "execute_result"
    }
   ],
   "source": [
    "STYLE = p4c.import_visual_styles(\"PSS-cytoscape-style.xml\")[0]; STYLE"
   ]
  },
  {
   "cell_type": "markdown",
   "id": "a83683ac",
   "metadata": {},
   "source": [
    "We're going to highlight the identified paths in Cytoscape, and we set the colours here:"
   ]
  },
  {
   "cell_type": "code",
   "execution_count": 22,
   "id": "0c508e91",
   "metadata": {},
   "outputs": [
    {
     "data": {
      "text/markdown": [
       "<span style=\"font-family: monospace\">#dc1c1c <span style=\"color: #dc1c1c\">██████</span></span> <span style=\"font-family: monospace\">#34858d <span style=\"color: #34858d\">██████</span></span> <span style=\"font-family: monospace\">#66a61e <span style=\"color: #66a61e\">██████</span></span>"
      ],
      "text/plain": [
       "<IPython.core.display.Markdown object>"
      ]
     },
     "metadata": {},
     "output_type": "display_data"
    }
   ],
   "source": [
    "ABA_COLOUR = \"#dc1c1c\"\n",
    "JA_COLOUR = \"#66a61e\"\n",
    "SA_COLOUR = \"#34858d\"\n",
    "\n",
    "swatches([ABA_COLOUR, JA_COLOUR, SA_COLOUR])"
   ]
  },
  {
   "cell_type": "markdown",
   "id": "42d41865",
   "metadata": {},
   "source": [
    "## Load the PSS network into Cytoscape\n",
    "\n",
    "We load the network, set our visual style, and apply the CoSE layout. \n",
    "\n",
    "Returned is the ID of the network view in Cytoscape. "
   ]
  },
  {
   "cell_type": "code",
   "execution_count": 23,
   "id": "23546d24",
   "metadata": {},
   "outputs": [
    {
     "name": "stdout",
     "output_type": "stream",
     "text": [
      "Applying default style...\n",
      "Applying preferred layout\n"
     ]
    },
    {
     "data": {
      "text/plain": [
       "124"
      ]
     },
     "execution_count": 23,
     "metadata": {},
     "output_type": "execute_result"
    }
   ],
   "source": [
    "pss_network_suid = p4c.networks.create_network_from_networkx(g, title=\"Complete PSS\", collection=COLLECTION)\n",
    "p4c.styles.set_visual_style(STYLE, network=pss_network_suid)\n",
    "p4c.layout_network(\"cose\", network=pss_network_suid)\n",
    "pss_network_suid"
   ]
  },
  {
   "cell_type": "markdown",
   "id": "5496ed98",
   "metadata": {},
   "source": [
    "Now we're going to highlight the paths we identified in the network by applying style bypasses.\n",
    "\n",
    "We don't want to recolour already highlighted path elements, so we keep track of them here:"
   ]
  },
  {
   "cell_type": "code",
   "execution_count": 24,
   "id": "65228bba",
   "metadata": {},
   "outputs": [],
   "source": [
    "done_nodes, done_edges = [], []"
   ]
  },
  {
   "cell_type": "markdown",
   "id": "f8aef093",
   "metadata": {},
   "source": [
    "First we highligh the aba path(s), and add the coloured elements to the done lists. You will see the Cytoscaep session incrementally update, as new node and edge style are applied. "
   ]
  },
  {
   "cell_type": "code",
   "execution_count": 25,
   "id": "47d89e3c",
   "metadata": {},
   "outputs": [],
   "source": [
    "for p in ABA_RD29_paths:\n",
    "    done_nodes_now, done_edges_now = cytoscape_utils.highlight_path(p, ABA_COLOUR, skip_nodes=done_nodes, skip_edges=done_edges)\n",
    "    done_nodes += done_nodes_now\n",
    "    done_edges += done_edges_now"
   ]
  },
  {
   "cell_type": "markdown",
   "id": "a1544887",
   "metadata": {},
   "source": [
    "Now we do the next pathways:"
   ]
  },
  {
   "cell_type": "code",
   "execution_count": 26,
   "id": "d663dce3",
   "metadata": {},
   "outputs": [],
   "source": [
    "for p in JA_paths:\n",
    "    done_nodes_now, done_edges_now = cytoscape_utils.highlight_path(p, JA_COLOUR, skip_nodes=done_nodes, skip_edges=done_edges)\n",
    "    done_nodes += done_nodes_now\n",
    "    done_edges += done_edges_now"
   ]
  },
  {
   "cell_type": "code",
   "execution_count": 27,
   "id": "901a811a",
   "metadata": {},
   "outputs": [],
   "source": [
    "for p in SA_paths:\n",
    "    done_nodes_now, done_edges_now = cytoscape_utils.highlight_path(p, SA_COLOUR, skip_nodes=done_nodes, skip_edges=done_edges)\n",
    "    done_nodes += done_nodes_now\n",
    "    done_edges += done_edges_now"
   ]
  },
  {
   "cell_type": "markdown",
   "id": "a66c5821",
   "metadata": {},
   "source": [
    "At this point, the Cytoscape session has a network view of the filtered PSS, and highlighting of the paths we extracted from our targeted searches. "
   ]
  },
  {
   "cell_type": "markdown",
   "id": "3f51e5ac",
   "metadata": {},
   "source": [
    "## Extract subnetworks in Cytoscape\n",
    "\n",
    "Properly inspecting the identified paths is a bit hard within the complete network, so here we pull out the subnetworks of and surrounding the paths. \n"
   ]
  },
  {
   "cell_type": "markdown",
   "id": "c83244a1",
   "metadata": {},
   "source": [
    "### The edge induced network\n",
    "The first, and smallest network, is created by extracting only the edges that are present on the paths. "
   ]
  },
  {
   "cell_type": "code",
   "execution_count": 28,
   "id": "8a4a7f08",
   "metadata": {},
   "outputs": [],
   "source": [
    "network_edge_induced_suid = cytoscape_utils.subnetwork_edge_induced_from_paths(\n",
    "    paths=ABA_RD29_paths + JA_paths + SA_paths,\n",
    "    g=g,\n",
    "    parent_suid=pss_network_suid,\n",
    "    name=\"identified paths (edge induced)\",\n",
    ")"
   ]
  },
  {
   "cell_type": "markdown",
   "id": "19b9fb8c",
   "metadata": {},
   "source": [
    "We apply a new layout to this subnetwork"
   ]
  },
  {
   "cell_type": "code",
   "execution_count": 29,
   "id": "5a0d43bd",
   "metadata": {},
   "outputs": [],
   "source": [
    "_ = p4c.layouts.layout_network('cose', network=network_edge_induced_suid)"
   ]
  },
  {
   "cell_type": "markdown",
   "id": "aa0dbf79",
   "metadata": {},
   "source": [
    "### The node induced network\n",
    "\n",
    "Now we extract the network based on the nodes along the paths, meaning any edges between those nodes that are not on the paths are also extracted. "
   ]
  },
  {
   "cell_type": "code",
   "execution_count": 30,
   "id": "234d81cd",
   "metadata": {},
   "outputs": [],
   "source": [
    "nodes = list(set([y for x in ABA_RD29_paths + JA_paths + SA_paths for y in x]))"
   ]
  },
  {
   "cell_type": "code",
   "execution_count": 31,
   "id": "61e903f2",
   "metadata": {},
   "outputs": [],
   "source": [
    "network_node_induced_suid = cytoscape_utils.subnetwork_node_induced(\n",
    "    nodes=nodes,\n",
    "    g=g,\n",
    "    parent_suid=pss_network_suid,\n",
    "    name=\"identified paths (node induced)\",\n",
    ")"
   ]
  },
  {
   "cell_type": "markdown",
   "id": "551d1985",
   "metadata": {},
   "source": [
    "Instead of applying a network layout algorithm, we can copy the layout from the previous subnetwork. "
   ]
  },
  {
   "cell_type": "code",
   "execution_count": 32,
   "id": "093dc7ac",
   "metadata": {},
   "outputs": [],
   "source": [
    "_ = p4c.layouts.layout_copycat(\n",
    "    network_edge_induced_suid, \n",
    "    network_node_induced_suid\n",
    ")"
   ]
  },
  {
   "cell_type": "markdown",
   "id": "d9d0324e",
   "metadata": {},
   "source": [
    "### Neighbours\n",
    "\n",
    "For more context around our paths, we can include the first neighbours in the view. We can use the Cytoscape first neighbour seletion functionality. "
   ]
  },
  {
   "cell_type": "code",
   "execution_count": 33,
   "id": "192e436c",
   "metadata": {},
   "outputs": [],
   "source": [
    "network_neighbours_suid = cytoscape_utils.subnetwork_neighbouts(\n",
    "    nodes=nodes,\n",
    "    g=g,\n",
    "    parent_suid=pss_network_suid,\n",
    "    name=\"identified paths + 1st neighbours\",\n",
    ")"
   ]
  },
  {
   "cell_type": "code",
   "execution_count": 34,
   "id": "ac847256",
   "metadata": {},
   "outputs": [],
   "source": [
    "_ = p4c.layouts.layout_network('cose', network=network_neighbours_suid)"
   ]
  },
  {
   "cell_type": "markdown",
   "id": "e46d81fb",
   "metadata": {},
   "source": [
    "This network (with manual layout improvements and removal of unrelated nodes) is shown in Figure 3 of the article. "
   ]
  },
  {
   "cell_type": "markdown",
   "id": "2c443ba1",
   "metadata": {},
   "source": [
    "### Filtered neighbours\n",
    "\n",
    "There are many neighbours displayed now, and we are perhaps only interested in the ones that are connected to at least two of the original path nodes, so we can make a filter using networkX neighbour functions. "
   ]
  },
  {
   "cell_type": "code",
   "execution_count": 35,
   "id": "b09628ac",
   "metadata": {},
   "outputs": [],
   "source": [
    "filtered_neighbours = []\n",
    "for n in g.nodes():\n",
    "    if (len([x for x in nx.MultiGraph(g).neighbors(n) if (x in done_nodes)]) > 1) and (n not in done_nodes):\n",
    "        filtered_neighbours.append(n)"
   ]
  },
  {
   "cell_type": "code",
   "execution_count": 36,
   "id": "a3bb179f",
   "metadata": {},
   "outputs": [],
   "source": [
    "network_neighbours_filtered_suid = cytoscape_utils.subnetwork_node_induced(\n",
    "    nodes=nodes+filtered_neighbours,\n",
    "    g=g,\n",
    "    parent_suid=pss_network_suid,\n",
    "    name=\"identified paths + 1st neighbours (filtered)\",\n",
    ")"
   ]
  },
  {
   "cell_type": "code",
   "execution_count": 37,
   "id": "0510890f",
   "metadata": {},
   "outputs": [
    {
     "data": {
      "text/plain": [
       "{'mappedNodeCount': 13, 'unmappedNodeCount': 5}"
      ]
     },
     "execution_count": 37,
     "metadata": {},
     "output_type": "execute_result"
    }
   ],
   "source": [
    "p4c.layouts.layout_copycat(\n",
    "    network_edge_induced_suid, \n",
    "    network_neighbours_filtered_suid\n",
    ")"
   ]
  },
  {
   "cell_type": "code",
   "execution_count": 38,
   "id": "87ef826e",
   "metadata": {},
   "outputs": [],
   "source": [
    "# END"
   ]
  }
 ],
 "metadata": {
  "kernelspec": {
   "display_name": "Python 3 (ipykernel)",
   "language": "python",
   "name": "python3"
  },
  "language_info": {
   "codemirror_mode": {
    "name": "ipython",
    "version": 3
   },
   "file_extension": ".py",
   "mimetype": "text/x-python",
   "name": "python",
   "nbconvert_exporter": "python",
   "pygments_lexer": "ipython3",
   "version": "3.8.12"
  },
  "toc": {
   "base_numbering": 1,
   "nav_menu": {},
   "number_sections": true,
   "sideBar": true,
   "skip_h1_title": false,
   "title_cell": "Table of Contents",
   "title_sidebar": "Contents",
   "toc_cell": true,
   "toc_position": {
    "height": "calc(100% - 180px)",
    "left": "10px",
    "top": "150px",
    "width": "308px"
   },
   "toc_section_display": true,
   "toc_window_display": true
  },
  "varInspector": {
   "cols": {
    "lenName": 16,
    "lenType": 16,
    "lenVar": 40
   },
   "kernels_config": {
    "python": {
     "delete_cmd_postfix": "",
     "delete_cmd_prefix": "del ",
     "library": "var_list.py",
     "varRefreshCmd": "print(var_dic_list())"
    },
    "r": {
     "delete_cmd_postfix": ") ",
     "delete_cmd_prefix": "rm(",
     "library": "var_list.r",
     "varRefreshCmd": "cat(var_dic_list()) "
    }
   },
   "types_to_exclude": [
    "module",
    "function",
    "builtin_function_or_method",
    "instance",
    "_Feature"
   ],
   "window_display": false
  }
 },
 "nbformat": 4,
 "nbformat_minor": 5
}

{
 "cells": [
  {
   "cell_type": "markdown",
   "id": "b6bddbe6",
   "metadata": {
    "toc": true
   },
   "source": [
    "<h1>Table of Contents<span class=\"tocSkip\"></span></h1>\n",
    "<div class=\"toc\"><ul class=\"toc-item\"></ul></div>"
   ]
  },
  {
   "cell_type": "markdown",
   "id": "0a22ab77",
   "metadata": {},
   "source": [
    "# Library import\n",
    "We import all the required Python libraries\n",
    "\n",
    "The non-default libries are networkX (https://networkx.org/) and py4cytoscape (https://py4cytoscape.readthedocs.io/, only necessary if you wish to view the results in Cytoscape). \n",
    "\n",
    "You can eith have skm-tools package installed, or as provided in the same repository as this notebook. "
   ]
  },
  {
   "cell_type": "code",
   "execution_count": 1,
   "id": "7e484f97-e3ff-4232-868c-1055f16ab6d0",
   "metadata": {},
   "outputs": [],
   "source": [
    "# run settings\n",
    "DEV = True # use local skm_tools (if false, assume skm_tools is installed or in PYTHONPATH)\n",
    "RUN_CYTOSCAPE = False # causes a notebook error before running Cytoscape integration\n",
    "RUN_PATH_EXTRACTION = False # causes a notebook error before running path extraction integration"
   ]
  },
  {
   "cell_type": "code",
   "execution_count": 2,
   "id": "2d95f147",
   "metadata": {},
   "outputs": [],
   "source": [
    "from datetime import datetime\n",
    "from collections import defaultdict\n",
    "\n",
    "# networks!\n",
    "import networkx as nx\n",
    "\n",
    "# Pretty results!\n",
    "from IPython.display import display, HTML"
   ]
  },
  {
   "cell_type": "code",
   "execution_count": 3,
   "id": "f5cab835",
   "metadata": {},
   "outputs": [],
   "source": [
    "if DEV:\n",
    "    # The following allows us to import from the skm-tools package folder, directly.\n",
    "    # Note the relative path to the folder containing the \"skm_tools\" directory. \n",
    "    from importlib import reload\n",
    "    import sys\n",
    "    sys.path.insert(0,'../')\n",
    "\n",
    "from skm_tools import load_networks, pss_utils"
   ]
  },
  {
   "cell_type": "code",
   "execution_count": 4,
   "id": "7f2fefb4",
   "metadata": {},
   "outputs": [
    {
     "data": {
      "text/plain": [
       "'2025.03.10'"
      ]
     },
     "execution_count": 4,
     "metadata": {},
     "output_type": "execute_result"
    }
   ],
   "source": [
    "today = datetime.today().strftime('%Y.%m.%d'); today"
   ]
  },
  {
   "cell_type": "markdown",
   "id": "05afe406",
   "metadata": {},
   "source": [
    "# Parameter definitions"
   ]
  },
  {
   "cell_type": "code",
   "execution_count": 5,
   "id": "26112a17-6ce0-43d6-a865-32c5d5862e8c",
   "metadata": {},
   "outputs": [],
   "source": [
    "# Which PSS projection to use (see below in \"Load PSS\")\n",
    "PSS_PROJECTION = \"standard\" \n",
    "# PSS_PROJECTION = \"exploded\"\n",
    "\n",
    "# PSS edit settings\n",
    "KEEP_NODES_LABELS = [\n",
    "    'Complex',\n",
    "    'Metabolite',\n",
    "    'PlantAbstract',\n",
    "    'PlantCoding', \n",
    "    'PlantNonCoding', \n",
    "    'Process'\n",
    "]\n",
    "KEEP_HOMOLOGUE_SPECIES = [\n",
    "    'ath', 'stu'\n",
    "] # only valid when using PSS_PROJECTION = \"standard\" \n",
    "\n",
    "SIMPLIFY = True\n",
    "\n",
    "REMOVE_DEADEND_COMPLEXES = True\n",
    "\n",
    "REMOVE_AND_REWIRE_METBOLITES = True\n",
    "METABOLITES_TO_KEEP = [\n",
    "    'Ca2+',\n",
    "    'SA',\n",
    "    'GA',\n",
    "    'cZ',\n",
    "    'ET',\n",
    "    'JA',\n",
    "    'JA-Ile',\n",
    "    'ROS',\n",
    "    'O2',\n",
    "    'Cu2+',\n",
    "    'ABA',\n",
    "    'SL',\n",
    "    'IAA',\n",
    "] # Only used if REMOVE_AND_REWIRE_METBOLITES = True\n",
    "\n",
    "REMOVE_AND_REWIRE_COMPLEXES = True\n",
    "COMPLEXES_TO_KEEP = None # Only used if REMOVE_AND_REWIRE_COMPLEXES = True\n",
    "\n",
    "EXTRACT_LCC = True\n",
    "\n",
    "REMOVE_SELF_LOOPS = True\n",
    "\n",
    "REMOVE_DUPLICATED_BINDING = True # Only keep one od A --> B or A <-- B in binding interactions. This will affect directed path finding!"
   ]
  },
  {
   "cell_type": "markdown",
   "id": "3f0faa74-efdf-41c5-bac8-42c2c0b01344",
   "metadata": {},
   "source": [
    "# File paths \n",
    "\n",
    "If the below files do not exist, this code will use the latest live PSS instance (from [skm.nib.si/downloads](https://skm.nib.si/downloads)). \n",
    "If you want to use a version already downloaded, adjust the below paths accordingly. \n",
    "\n",
    "<b style=\"color:red\">Note:</b> \n",
    "`skm-tools` cannot download \"restricted\" versions of PSS. If you want to use the restriced versions, you will need to login to [skm.nib.si](https://skm.nib.si/)  and downloaded them to the provided paths"
   ]
  },
  {
   "cell_type": "code",
   "execution_count": 6,
   "id": "de701b61-12cc-4d37-ad41-3248d57f164b",
   "metadata": {},
   "outputs": [],
   "source": [
    "from pathlib import Path"
   ]
  },
  {
   "cell_type": "code",
   "execution_count": 7,
   "id": "2119de30",
   "metadata": {},
   "outputs": [],
   "source": [
    "base_dir = Path(\"./\")\n",
    "data_dir = base_dir / \"data\"\n",
    "output_dir = base_dir / \"output\""
   ]
  },
  {
   "cell_type": "code",
   "execution_count": 8,
   "id": "b43e4fe9",
   "metadata": {},
   "outputs": [],
   "source": [
    "if PSS_PROJECTION == \"exploded\":\n",
    "    pss_edge_path = data_dir / f\"pss-dinar-edges-public-{today}.tsv\"\n",
    "    pss_node_path = data_dir / f\"pss-dinar-nodes-public-{today}.tsv\"\n",
    "elif PSS_PROJECTION == \"standard\":\n",
    "    pss_edge_path = data_dir / f\"pss-rxn-edges-public-{today}.tsv\"\n",
    "    pss_node_path = data_dir / f\"pss-rxn-nodes-public-{today}.tsv\"\n",
    "else:\n",
    "    print(\"STOP! Not a recognised format for this Notebook.\")\n",
    "    assert False"
   ]
  },
  {
   "cell_type": "code",
   "execution_count": 9,
   "id": "4b9885f0-f69d-48fc-ba5c-1d0161ba49e9",
   "metadata": {},
   "outputs": [
    {
     "name": "stdout",
     "output_type": "stream",
     "text": [
      "Checking files...\n",
      " Edge file (/home/cbleker/research/NIB/skm/skm-tools/examples/data/pss-rxn-edges-public-2025.03.10.tsv) exists: True\n",
      " Node file (/home/cbleker/research/NIB/skm/skm-tools/examples/data/pss-rxn-nodes-public-2025.03.10.tsv) exists: True\n"
     ]
    }
   ],
   "source": [
    "print(\"Checking files...\")\n",
    "print(f\" Edge file ({pss_edge_path.absolute()}) exists: {pss_edge_path.exists()}\")\n",
    "print(f\" Node file ({pss_node_path.absolute()}) exists: {pss_node_path.exists()}\")"
   ]
  },
  {
   "cell_type": "markdown",
   "id": "3d53d3f1",
   "metadata": {},
   "source": [
    "# Load PSS to networkx objects\n",
    "\n",
    "PSS as a network comes in two projections:\n",
    "* Standard projection \"PSS-RXN\" - functional clusters are nodes, conneted by edges representing reactions\n",
    "* Exploded projection \"DiNAR\" - genes are nodes (edges representing reactions are duplcated for each gene in a functional cluster)"
   ]
  },
  {
   "cell_type": "code",
   "execution_count": 10,
   "id": "5e334f85-7017-4201-ac94-428ad0b63022",
   "metadata": {},
   "outputs": [
    {
     "name": "stdout",
     "output_type": "stream",
     "text": [
      "standard\n"
     ]
    }
   ],
   "source": [
    "print(PSS_PROJECTION)"
   ]
  },
  {
   "cell_type": "markdown",
   "id": "55feeee1-37c2-489e-ae58-cdef902776e3",
   "metadata": {},
   "source": [
    "Use appropriate functions of `skm-tools`"
   ]
  },
  {
   "cell_type": "code",
   "execution_count": 11,
   "id": "1e115857-53d3-4405-a2ab-4d71e534def1",
   "metadata": {},
   "outputs": [
    {
     "name": "stdout",
     "output_type": "stream",
     "text": [
      "\n",
      "Number of nodes: 688\n",
      "Number of edges: 1405\n"
     ]
    }
   ],
   "source": [
    "if PSS_PROJECTION == \"exploded\":\n",
    "    g = load_networks.pss_dinar_to_networkx(\n",
    "        edge_path=pss_edge_path, \n",
    "        node_path=pss_node_path\n",
    "    )\n",
    "\n",
    "elif PSS_PROJECTION == \"standard\":\n",
    "    g = load_networks.pss_to_networkx(\n",
    "        edge_path=pss_edge_path, \n",
    "        node_path=pss_node_path\n",
    "    )\n",
    "\n",
    "print(f\"\\nNumber of nodes: {g.number_of_nodes()}\\nNumber of edges: {g.number_of_edges()}\")"
   ]
  },
  {
   "cell_type": "markdown",
   "id": "497507b0-c859-452d-b2e4-c703608ba207",
   "metadata": {},
   "source": [
    "# Filtering"
   ]
  },
  {
   "cell_type": "markdown",
   "id": "373c9ffc-f4a9-46b0-babb-933ea5e08a88",
   "metadata": {},
   "source": [
    "PSS contains nodes or processes that are not always relevent, such as viral proteins (Foreign nodes), Processes, Abiotic factors, or FunctionalClusters that do not include functional homologues of species of interest. \n",
    "\n",
    "Here, we show how to remove them from the network. "
   ]
  },
  {
   "cell_type": "code",
   "execution_count": 12,
   "id": "b3cb2579-d78d-4ed2-bf2c-4c620586ed21",
   "metadata": {},
   "outputs": [
    {
     "data": {
      "text/plain": [
       "{'Complex',\n",
       " 'Condition',\n",
       " 'ForeignAbiotic',\n",
       " 'ForeignCoding',\n",
       " 'ForeignEntity',\n",
       " 'ForeignNonCoding',\n",
       " 'Metabolite',\n",
       " 'PlantAbstract',\n",
       " 'PlantCoding',\n",
       " 'PlantNonCoding',\n",
       " 'Process'}"
      ]
     },
     "execution_count": 12,
     "metadata": {},
     "output_type": "execute_result"
    }
   ],
   "source": [
    "# see the types of nodes present\n",
    "set([data['node_type'] for n, data in g.nodes(data=True)])"
   ]
  },
  {
   "cell_type": "code",
   "execution_count": 13,
   "id": "b5b9e41b-cdbe-48cd-aa6b-47e2c2fd578d",
   "metadata": {},
   "outputs": [
    {
     "data": {
      "text/plain": [
       "['Complex',\n",
       " 'Metabolite',\n",
       " 'PlantAbstract',\n",
       " 'PlantCoding',\n",
       " 'PlantNonCoding',\n",
       " 'Process']"
      ]
     },
     "execution_count": 13,
     "metadata": {},
     "output_type": "execute_result"
    }
   ],
   "source": [
    "# Define the types we want to keep\n",
    "KEEP_NODES_LABELS"
   ]
  },
  {
   "cell_type": "code",
   "execution_count": 14,
   "id": "4f9a6f9d-1b7d-4be9-94bc-a304d02deaca",
   "metadata": {},
   "outputs": [
    {
     "data": {
      "text/plain": [
       "['ath', 'stu']"
      ]
     },
     "execution_count": 14,
     "metadata": {},
     "output_type": "execute_result"
    }
   ],
   "source": [
    "# Define the species we want to keep\n",
    "if PSS_PROJECTION != \"standard\":\n",
    "    KEEP_HOMOLOGUE_SPECIES = None\n",
    "KEEP_HOMOLOGUE_SPECIES"
   ]
  },
  {
   "cell_type": "code",
   "execution_count": 15,
   "id": "32269e7c-f8a8-4fc4-b71a-473240b74382",
   "metadata": {},
   "outputs": [
    {
     "name": "stdout",
     "output_type": "stream",
     "text": [
      "Removed 91 nodes from network.\n"
     ]
    }
   ],
   "source": [
    "# Use the util function to filter PSS\n",
    "removed = pss_utils.filter_pss_nodes(\n",
    "    g, \n",
    "    node_types=KEEP_NODES_LABELS, \n",
    "    species=KEEP_HOMOLOGUE_SPECIES, \n",
    "    remove_isolates=True\n",
    ")"
   ]
  },
  {
   "cell_type": "markdown",
   "id": "019817d7-4fba-4399-990c-2f9bb198b511",
   "metadata": {},
   "source": [
    "You can inspect the `removed` object to see the nodes that were removed, \n",
    "and the reasons for the removal"
   ]
  },
  {
   "cell_type": "code",
   "execution_count": 16,
   "id": "e7ee305e-6ad3-4428-8177-1451e35e5212",
   "metadata": {},
   "outputs": [
    {
     "data": {
      "text/html": [
       "<div style='height: 400px;'><b>SLR1[LOC_OS06G03710]:</b> species missing<br><b>D53[OS11G0104300]:</b> species missing<br><b>RBOHB [SOLYC03G117980.3.1]:</b> species missing<br><b>ROP9[SOLYC03G114070.3.1]:</b> species missing<br><b>VPg:</b> wrong node type<br><b>HC-Pro:</b> wrong node type<br><b>Drought:</b> wrong node type<br><b>P3:</b> wrong node type<br><b>CI:</b> wrong node type<br><b>CP:</b> wrong node type<br><b>NPR1 high & JAZ high:</b> wrong node type<br><b>NPR1 high & JAZ low:</b> wrong node type<br><b>flg22:</b> wrong node type<br><b>potyvirus:</b> wrong node type<br><b>vsiRNA34327:</b> wrong node type<br><b>vsiRNA12986:</b> wrong node type<br><b>Waterlogging:</b> wrong node type<br><b>SA low:</b> wrong node type<br><b>Heat:</b> wrong node type<br><b>NPR1 low & JAZ low:</b> wrong node type<br><b>trichous-bacteria:</b> wrong node type<br><b>SA high:</b> wrong node type<br><b>viral dsRNA:</b> wrong node type<br><b>vsiRNA:</b> wrong node type<br><b>me-vsiRNA:</b> wrong node type<br><b>6K2:</b> wrong node type<br><b>P1:</b> wrong node type<br><b>NIa-Pro:</b> wrong node type<br><b>NIb:</b> wrong node type<br><b>red light:</b> wrong node type<br><b>Phytophthora:</b> wrong node type<br><b>TIC56:</b> wrong node type<br><b>CML|HC-Pro:</b> complex component removed<br><b>BAK1|FLS2|flg22:</b> complex component removed<br><b>GA|GID1|SLR1:</b> complex component removed<br><b>R-gene|potyvirus:</b> complex component removed<br><b>ROP9|SlRBOHB:</b> complex component removed<br><b>LHB1B1[AT2G34430]:</b> isolate<br><b>PSB33[AT1G71500]:</b> isolate<br><b>EDF2[AT1G68840]:</b> isolate<br><b>SERPIN1[AT1G47710]:</b> isolate<br><b>clpP1[ATCG00670]:</b> isolate<br><b>FQR1[AT5G54500]:</b> isolate<br><b>PR-3 like[AT2G43590]:</b> isolate<br><b>TDX[AT3G17880]:</b> isolate<br><b>RH8[AT4G00660]:</b> isolate<br><b>RPS12C[AT2G32060]:</b> isolate<br><b>MTI20.11[AT5G57860]:</b> isolate<br><b>CPIP[AT1G10350,AT3G08910]:</b> isolate<br><b>ATPB[ATCG00480]:</b> isolate<br><b>MIND1[AT5G24020]:</b> isolate<br><b>PAA2[AT2G05840]:</b> isolate<br><b>PBB2[AT5G40580]:</b> isolate<br><b>PBE1[AT1G13060]:</b> isolate<br><b>GAPC2[AT1G13440]:</b> isolate<br><b>AT3G17020[AT3G17020]:</b> isolate<br><b>PUB15[AT5G42340]:</b> isolate<br><b>PSAK[AT1G30380]:</b> isolate<br><b>TIP1-2[AT3G26520]:</b> isolate<br><b>OBE2[AT5G48160]:</b> isolate<br><b>O2-deficiency:</b> isolate<br><b>TUBA2[AT1G50010]:</b> isolate<br><b>REM12[AT2G24680]:</b> isolate<br><b>EIF4E1[AT4G18040]:</b> isolate<br><b>GER3[AT5G20630]:</b> isolate<br><b>PAB2[AT4G34110]:</b> isolate<br><b>DCL2,4[AT3G03300,AT5G20320]:</b> isolate<br><b>PAB4[AT2G23350]:</b> isolate<br><b>PAB8[AT1G49760]:</b> isolate<br><b>PORB[AT4G27440]:</b> isolate<br><b>PORA[AT5G54190]:</b> isolate<br><b>FBA8[AT3G52930]:</b> isolate<br><b>GSTF9[AT2G30860]:</b> isolate<br><b>HUP54[AT4G27450]:</b> isolate<br><b>VDAC2[AT5G67500]:</b> isolate<br><b>PSBR[AT1G79040]:</b> isolate<br><b>MSL[AT1G53470,AT1G58200,AT1G78610,AT2G17000,AT2G17010,AT3G14810,AT4G00290,AT5G10490,AT5G12080,AT5G19520]:</b> isolate<br><b>BAS1[AT3G11630]:</b> isolate<br><b>PSBP1[AT1G06680]:</b> isolate<br><b>RCA[AT2G39730]:</b> isolate<br><b>MED37E[AT5G02500]:</b> isolate<br><b>IPP2[AT3G02780]:</b> isolate<br><b>ABCF1[AT5G60790]:</b> isolate<br><b>CLPR3[AT1G09130]:</b> isolate<br><b>psbB[ATCG00680]:</b> isolate<br><b>BCCP1[AT5G16390]:</b> isolate<br><b>GRF6[AT5G10450]:</b> isolate<br><b>CAC2[AT5G35360]:</b> isolate<br><b>MPPBETA[AT3G02090]:</b> isolate<br><b>ATPC1[AT4G04640]:</b> isolate<br><b>bHLH93[SOLTU.DM.02G007350]:</b> isolate</div>"
      ],
      "text/plain": [
       "<IPython.core.display.HTML object>"
      ]
     },
     "metadata": {},
     "output_type": "display_data"
    }
   ],
   "source": [
    "display(HTML(\n",
    "    \"<div style='height: 400px;'>\" + \\\n",
    "     \"<br>\".join([f\"<b>{name}:</b> {reason}\" for name, reason in removed.items()]) +\\\n",
    "     \"</div>\"\n",
    "))"
   ]
  },
  {
   "cell_type": "code",
   "execution_count": 17,
   "id": "a2eb729e-1a11-4837-b1f4-7158a18da9b0",
   "metadata": {},
   "outputs": [
    {
     "name": "stdout",
     "output_type": "stream",
     "text": [
      "\n",
      "Number of nodes: 597\n",
      "Number of edges: 1178\n"
     ]
    }
   ],
   "source": [
    "print(f\"\\nNumber of nodes: {g.number_of_nodes()}\\nNumber of edges: {g.number_of_edges()}\")"
   ]
  },
  {
   "cell_type": "markdown",
   "id": "79e524ae-7498-4b84-8022-f4d848bc55d6",
   "metadata": {},
   "source": [
    "# Simplifying\n",
    "\n",
    "If multiple reactions had the (some of) same particiapnts (e.g. same enzyme and substrate, but different products, two seperate binding reactions), edge multiplication occurs (hence we are using a <b>Multi</b>`DiGraph`). Here, collapse these edges. \n",
    "\n",
    "In collapsing edges, the edge attribures have to be merged: all `reaction_id`s are kept, for other edge attributes a single value is kept, and a warning given if multiple non-unique values were observed. At the moment there is no logic to which value is kept. \n",
    "\n",
    "<b style=\"color:red\">Note:</b> \n",
    "Unlike many of the other functions here, `pss_utils.simplify_pss` creates a __new__ graph object, and therefore needs to be assigned to a new variable."
   ]
  },
  {
   "cell_type": "code",
   "execution_count": 18,
   "id": "f670eb32-6583-47c7-b918-41bbe4716dfd",
   "metadata": {},
   "outputs": [
    {
     "name": "stdout",
     "output_type": "stream",
     "text": [
      "rx00569,rx00610 --> interaction_type: Multiple values in ['activation', 'inhibition'].\n",
      "\tKeeping: inhibition.\n",
      "rx00569,rx00610 --> reaction_type: Multiple values in ['protein activation', 'transcriptional/translational repression'].\n",
      "\tKeeping: protein activation.\n",
      "rx00569,rx00610 --> reaction_effect: Multiple values in ['activation', 'inhibition'].\n",
      "\tKeeping: inhibition.\n",
      "rx00569,rx00610 --> source_edge_type: Multiple values in ['ACTIVATES', 'INHIBITS'].\n",
      "\tKeeping: INHIBITS.\n",
      "rx00569,rx00610 --> source_form: Multiple values in ['protein_active', 'protein'].\n",
      "\tKeeping: protein.\n",
      "rx00569,rx00610 --> target_edge_type: Multiple values in ['PRODUCT', 'SUBSTRATE'].\n",
      "\tKeeping: SUBSTRATE.\n",
      "rx00569,rx00610 --> target_location: Multiple values in ['cytoplasm', 'nucleus'].\n",
      "\tKeeping: cytoplasm.\n",
      "rx00569,rx00610 --> target_form: Multiple values in ['protein_active', 'gene'].\n",
      "\tKeeping: gene.\n",
      "rx00830,rx00831,rx00832,rx00833 --> target_location: Multiple values in ['nucleus', 'nucleus', 'nucleolus', 'nucleus'].\n",
      "\tKeeping: nucleolus.\n",
      "rx00194,rx00170 --> interaction_type: Multiple values in ['inhibition', 'activation'].\n",
      "\tKeeping: inhibition.\n",
      "rx00194,rx00170 --> directed: Multiple values in ['False', 'True'].\n",
      "\tKeeping: True.\n",
      "rx00194,rx00170 --> reaction_type: Multiple values in ['binding/oligomerisation', 'protein activation'].\n",
      "\tKeeping: protein activation.\n",
      "rx00194,rx00170 --> reaction_effect: Multiple values in ['inhibition', 'activation'].\n",
      "\tKeeping: inhibition.\n",
      "rx00194,rx00170 --> source_edge_type: Multiple values in ['SUBSTRATE', 'ACTIVATES'].\n",
      "\tKeeping: SUBSTRATE.\n",
      "rx00194,rx00170 --> target_edge_type: Multiple values in ['SUBSTRATE', 'PRODUCT'].\n",
      "\tKeeping: SUBSTRATE.\n",
      "rx00169,rx00732 --> source_location: Multiple values in ['cytoplasm', 'putative:cytoplasm'].\n",
      "\tKeeping: putative:cytoplasm.\n",
      "rx00169,rx00732 --> target_location: Multiple values in ['cytoplasm', 'putative:cytoplasm'].\n",
      "\tKeeping: putative:cytoplasm.\n",
      "rx00053,rx00729 --> source_location: Multiple values in ['cytoplasm', 'putative:cytoplasm'].\n",
      "\tKeeping: putative:cytoplasm.\n",
      "rx00053,rx00729 --> target_location: Multiple values in ['cytoplasm', 'putative:cytoplasm'].\n",
      "\tKeeping: putative:cytoplasm.\n",
      "rx00053,rx00729 --> source_location: Multiple values in ['cytoplasm', 'putative:cytoplasm'].\n",
      "\tKeeping: putative:cytoplasm.\n",
      "rx00053,rx00729 --> target_location: Multiple values in ['cytoplasm', 'putative:cytoplasm'].\n",
      "\tKeeping: putative:cytoplasm.\n",
      "rx00114,rx00422,rx00423 --> interaction_type: Multiple values in ['activation', 'inhibition', 'inhibition'].\n",
      "\tKeeping: inhibition.\n",
      "rx00114,rx00422,rx00423 --> reaction_type: Multiple values in ['protein activation', 'degradation/secretion', 'degradation/secretion'].\n",
      "\tKeeping: protein activation.\n",
      "rx00114,rx00422,rx00423 --> reaction_effect: Multiple values in ['activation', 'inhibition', 'inhibition'].\n",
      "\tKeeping: inhibition.\n",
      "rx00114,rx00422,rx00423 --> source_location: Multiple values in ['putative:cytoplasm', 'cytoplasm', 'cytoplasm'].\n",
      "\tKeeping: putative:cytoplasm.\n",
      "rx00114,rx00422,rx00423 --> target_edge_type: Multiple values in ['PRODUCT', 'SUBSTRATE', 'SUBSTRATE'].\n",
      "\tKeeping: SUBSTRATE.\n",
      "rx00114,rx00422,rx00423 --> target_location: Multiple values in ['cytoplasm', 'nucleus', 'nucleus'].\n",
      "\tKeeping: cytoplasm.\n",
      "rx00162,rx00163 --> interaction_type: Multiple values in ['inhibition', 'activation'].\n",
      "\tKeeping: inhibition.\n",
      "rx00162,rx00163 --> directed: Multiple values in ['False', 'True'].\n",
      "\tKeeping: True.\n",
      "rx00162,rx00163 --> reaction_type: Multiple values in ['binding/oligomerisation', 'transcriptional/translational activation'].\n",
      "\tKeeping: transcriptional/translational activation.\n",
      "rx00162,rx00163 --> reaction_effect: Multiple values in ['inhibition', 'activation'].\n",
      "\tKeeping: inhibition.\n",
      "rx00162,rx00163 --> source_edge_type: Multiple values in ['SUBSTRATE', 'ACTIVATES'].\n",
      "\tKeeping: SUBSTRATE.\n",
      "rx00162,rx00163 --> target_edge_type: Multiple values in ['SUBSTRATE', 'PRODUCT'].\n",
      "\tKeeping: SUBSTRATE.\n",
      "rx00162,rx00163 --> target_form: Multiple values in ['protein', 'protein_active'].\n",
      "\tKeeping: protein.\n",
      "rx00046,rx00047 --> interaction_type: Multiple values in ['activation', 'inhibition'].\n",
      "\tKeeping: inhibition.\n",
      "rx00046,rx00047 --> directed: Multiple values in ['True', 'False'].\n",
      "\tKeeping: True.\n",
      "rx00046,rx00047 --> reaction_type: Multiple values in ['transcriptional/translational activation', 'binding/oligomerisation'].\n",
      "\tKeeping: transcriptional/translational activation.\n",
      "rx00046,rx00047 --> reaction_effect: Multiple values in ['activation', 'inhibition'].\n",
      "\tKeeping: inhibition.\n",
      "rx00046,rx00047 --> source_edge_type: Multiple values in ['ACTIVATES', 'SUBSTRATE'].\n",
      "\tKeeping: SUBSTRATE.\n",
      "rx00046,rx00047 --> target_edge_type: Multiple values in ['PRODUCT', 'SUBSTRATE'].\n",
      "\tKeeping: SUBSTRATE.\n",
      "rx00077,rx00538 --> source_location: Multiple values in ['chloroplast', 'cytoplasm'].\n",
      "\tKeeping: chloroplast.\n",
      "rx00077,rx00538 --> target_location: Multiple values in ['chloroplast', 'cytoplasm'].\n",
      "\tKeeping: chloroplast.\n",
      "rx00653,rx00589 --> target_edge_type: Multiple values in ['PRODUCT', 'SUBSTRATE'].\n",
      "\tKeeping: SUBSTRATE.\n",
      "rx00653,rx00589 --> target_form: Multiple values in ['ncrna', 'gene'].\n",
      "\tKeeping: gene.\n",
      "rx00309,rx00500 --> interaction_type: Multiple values in ['activation', 'binding'].\n",
      "\tKeeping: binding.\n",
      "rx00309,rx00500 --> directed: Multiple values in ['True', 'False'].\n",
      "\tKeeping: True.\n",
      "rx00309,rx00500 --> reaction_type: Multiple values in ['transcriptional/translational activation', 'binding/oligomerisation'].\n",
      "\tKeeping: transcriptional/translational activation.\n",
      "rx00309,rx00500 --> source_edge_type: Multiple values in ['ACTIVATES', 'SUBSTRATE'].\n",
      "\tKeeping: SUBSTRATE.\n",
      "rx00309,rx00500 --> source_location: Multiple values in ['nucleus', 'putative:cytoplasm'].\n",
      "\tKeeping: putative:cytoplasm.\n",
      "rx00309,rx00500 --> source_form: Multiple values in ['protein_active', 'protein'].\n",
      "\tKeeping: protein.\n",
      "rx00309,rx00500 --> target_edge_type: Multiple values in ['PRODUCT', 'SUBSTRATE'].\n",
      "\tKeeping: SUBSTRATE.\n",
      "rx00309,rx00500 --> target_location: Multiple values in ['cytoplasm', 'nucleus'].\n",
      "\tKeeping: cytoplasm.\n",
      "rx00309,rx00500 --> target_form: Multiple values in ['protein', 'protein_active'].\n",
      "\tKeeping: protein.\n",
      "rx00830,rx00831,rx00832,rx00833 --> source_location: Multiple values in ['nucleus', 'nucleus', 'nucleolus', 'nucleus'].\n",
      "\tKeeping: nucleolus.\n",
      "rx00838,rx00842 --> interaction_type: Multiple values in ['binding', 'activation'].\n",
      "\tKeeping: activation.\n",
      "rx00838,rx00842 --> directed: Multiple values in ['False', 'True'].\n",
      "\tKeeping: True.\n",
      "rx00838,rx00842 --> reaction_type: Multiple values in ['binding/oligomerisation', 'transcriptional/translational activation'].\n",
      "\tKeeping: transcriptional/translational activation.\n",
      "rx00838,rx00842 --> source_edge_type: Multiple values in ['SUBSTRATE', 'ACTIVATES'].\n",
      "\tKeeping: SUBSTRATE.\n",
      "rx00838,rx00842 --> source_form: Multiple values in ['protein', 'protein_active'].\n",
      "\tKeeping: protein.\n",
      "rx00838,rx00842 --> target_edge_type: Multiple values in ['SUBSTRATE', 'PRODUCT'].\n",
      "\tKeeping: SUBSTRATE.\n"
     ]
    }
   ],
   "source": [
    "if SIMPLIFY:\n",
    "    g = pss_utils.simplify_pss(g)"
   ]
  },
  {
   "cell_type": "code",
   "execution_count": 19,
   "id": "cd66d2b7-1c3f-414d-9b99-189a7dc312b6",
   "metadata": {},
   "outputs": [
    {
     "name": "stdout",
     "output_type": "stream",
     "text": [
      "\n",
      "Number of nodes: 597\n",
      "Number of edges: 1145\n"
     ]
    }
   ],
   "source": [
    "print(f\"\\nNumber of nodes: {g.number_of_nodes()}\\nNumber of edges: {g.number_of_edges()}\")"
   ]
  },
  {
   "attachments": {},
   "cell_type": "markdown",
   "id": "c5955684-b71e-4e9d-85a5-ce71cc365e18",
   "metadata": {},
   "source": [
    "# Remove deadend complexes\n",
    "\n",
    "Complexes are created automatically if a binding/oligomerisation is entered into PSS. However, sometimes they only make sense to include here if the complex has some downstream interactions it takes part in, since this projection already includes the substrate-substrate interaction. If they do not have downstream interactors, we call then \"deadend\". \n",
    "\n",
    "The DiNAR projection does not include complexes if the binding/oligomerisation reaction if formulated as inhibition of the substrate(s) (and not activation of the complex). This removes the majority of the problematic complexes. But since (1) the inhibition or activation annotation of the reaction is not always included in the reaction formulation correctlyand (2) somebody maybe hasn't yet added the downstream interactions, let's check for deadend complexes and remove them anyway. "
   ]
  },
  {
   "cell_type": "code",
   "execution_count": 20,
   "id": "1f0a1800-c55b-4f91-bd5d-9c61661a4da4",
   "metadata": {},
   "outputs": [
    {
     "name": "stdout",
     "output_type": "stream",
     "text": [
      "Number of complexes removed: 63\n",
      "EDS1|MPK3|PAD4, CRT|ETR, HSP90|RAR1|SGT1, NDR1|RIN4, RANGAP|Rx, GPAphid2|RANGAP, OBE1|WRKY17, OBE1|WRKY11, CO|OBE1, MKS1|WRKY33, WRKY30|WRKY53, D14|MAX2|SCF, EIN3(like)|JAZ, DELLA|GA|GID1, RISC - vsiRNA, SARD1|TCP8, TCP8|WRKY28, NAC019|TCP8, NPR1|WRKY18, CDK|NPR1, CDK|WRKY6,18, CDK|TGA2,5,6, BIK1|PEPR1|PEP1, ET|ETR, RISC - miR390, GAI|GI, GI|PIF4, CDK|RAP2-6, RAP2-6|SNRK2, CML12|PID, PBP1|PID, CMI1|ICR1, FKBP42|HSP90, FKBP42|CAM, CBL1|CIPK1, CBL9|CIPK1, FKBP62|HSP90.1, CBL1|CIPK23, CBL9|CIPK23, ABF1|IDD14, ABF2|IDD14, ABF3|IDD14, ABF4|IDD14, HSFA1d|PIF4, CBL2|CIPK3|Ca2+, CBL2|CIPK9|Ca2+, CBL2|CIPK26|Ca2+, CBL3|CIPK3|Ca2+, CBL3|CIPK9|Ca2+, CBL3|CIPK26|Ca2+, PR1|cholesterol, CBL2|CIPK3, CBL2|CIPK9, CBL2|CIPK23, CBL2|CIPK26, CBL3|CIPK3, CBL3|CIPK9, CBL3|CIPK23, CBL3|CIPK26, PIF3-TOC1-SP6A complex, CBL4|Ca2+, CBL4|CIPK24, GID|SCF\n",
      "\n",
      "Number of nodes: 534\n",
      "Number of edges: 1015\n"
     ]
    }
   ],
   "source": [
    "if REMOVE_DEADEND_COMPLEXES:\n",
    "    removed_complexes = pss_utils.remove_deadend_complexes(g)\n",
    "    print(\", \".join(removed_complexes))\n",
    "print(f\"\\nNumber of nodes: {g.number_of_nodes()}\\nNumber of edges: {g.number_of_edges()}\")"
   ]
  },
  {
   "cell_type": "markdown",
   "id": "0a999211-716e-4bf6-839e-84ed9a925ab1",
   "metadata": {},
   "source": [
    "# Remove \"uninteresting\" Metabolites and Complexes, and rewire neighbours"
   ]
  },
  {
   "cell_type": "code",
   "execution_count": 21,
   "id": "c1502fb0-dd08-4119-be42-f42a06ca24de",
   "metadata": {},
   "outputs": [
    {
     "data": {
      "text/html": [
       "<div><b>All metabolites: </b>CA, CA-CoA, Ca2+, MeCLA, IsoChor-9-Glu, N-pyruvoyl-L-Glu, SA, GA, DMAPP, prenyl-tRNA, tRNA-adenine, cZ-riboside, cZ-ribotide, cZ, cZ-glucosides, UDP-Glc, DZ-riboside, DZ-ribotide, tZ, DZ, iP, L-Met, SAMe, ACC, ET, ALA, MDA, ROS, Thr, Ile, 13-HPOT, 12,13-EOT, OPDA, OPC8, OPC8-CoA, OPC6-CoA, OPC4-CoA, JA-CoA, JA, MeJA, JA-Ile, 12-OH-JA-Ile, MeSA, Chor, IsoChor, Prep, Phe, BA, SAG, O2, e-, Geranylgeranyl-PP, ent-Copalyl-PP, ent-Kaurene, ent-Kaurenoic acid, GA12, GA9, GA20, GA8, GA34, GA-methylester, &beta;-Carotene, 9-cis-&beta;-carotene, CL, CLA, HMBDP, iP-ribotide, phospholipids, DZ-glucosides, iP-riboside, tZ-riboside, tZ-ribotide, tZ-glucoside, p-Coumaric acid, iP-glucosides, Cu2+, Violaxanthin, 9-cis-Violaxanthin, Phytoene, SL, Abscisic aldehyde, ABA, Xanthoxin, Antheraxanthin, OG, L-arogenate, Tyr, Zeaxanthin, &beta;-Cryptoxanthin, &gamma;-Carotene, Lycopene, all-trans-Neurosporene, all-trans-zeta-Carotene, all-trans-Phytofluene, 3H3PP-CoA, 3O3PP-CoA, 9-cis-10&prime;-apo-&beta;-carotenal, cis-prenyl-tRNA, BA-CoA, BD, SA-Asp, Trp, IAM, S-alkyl-thiohydroximate, Thiohydroximate, MVA, 5-phosphomevalonate, IAA-Ala, IAA, IPA, Brassinolide, IAOx, IAOx N-oxide, IAN, IAA-Leu, MeIAA, eATP, IAA-Glu, IAA-Asp, L-Dopa, DOPAL, PAA, SAH, L-homo-cys, PA, Glu, P5C, InsP4, InsP5, InsP6, InsP7, InsP8, ABA-GE, 8&prime; OH-ABA, Phaseic acid, DPA, oxIAA, 12-OH-JA, cholesterol</div>"
      ],
      "text/plain": [
       "<IPython.core.display.HTML object>"
      ]
     },
     "metadata": {},
     "output_type": "display_data"
    },
    {
     "data": {
      "text/html": [
       "<div><b>Metabolites to keep: </b>Ca2+, SA, GA, cZ, ET, JA, JA-Ile, ROS, O2, Cu2+, ABA, SL, IAA</div>"
      ],
      "text/plain": [
       "<IPython.core.display.HTML object>"
      ]
     },
     "metadata": {},
     "output_type": "display_data"
    }
   ],
   "source": [
    "all_metabolites = [n for n, data in g.nodes(data=True) if data[\"node_type\"] == \"Metabolite\"]\n",
    "display(HTML(\"<div><b>All metabolites: </b>\" + \", \".join(all_metabolites) + \"</div>\"))\n",
    "if METABOLITES_TO_KEEP is None:\n",
    "    display(HTML(\"<div><b>Metabolites to keep: </b> None</div>\"))\n",
    "else:\n",
    "    display(HTML(\"<div><b>Metabolites to keep: </b>\" + \", \".join(METABOLITES_TO_KEEP) + \"</div>\"))"
   ]
  },
  {
   "cell_type": "code",
   "execution_count": 22,
   "id": "05917804-e54a-4c47-839c-4b829b90edc8",
   "metadata": {},
   "outputs": [
    {
     "data": {
      "text/html": [
       "<div><b>All complexes: </b>EDS1|PAD4, EDS1|PAD4|SAG, TORC1, NPR1|TGA2,5,6, GA|GID1, SCL14|TGA2,5,6, SCF, COI1|JA-Ile|SCF, NPR1|NPR1, EBF|SCF, CTR|ETR, ETP|SCF, CML|Ca2+, WD/bHLH/MYB, BAK1|BRI1, PEPR1|PEP1, EIN3|NPR1, HSP70|HSP90|SGT1, ABI4|RGL2, ABI5|HY5, CBL2|Ca2+, CBL3|Ca2+</div>"
      ],
      "text/plain": [
       "<IPython.core.display.HTML object>"
      ]
     },
     "metadata": {},
     "output_type": "display_data"
    },
    {
     "data": {
      "text/html": [
       "<div><b>Complexes to keep: </b> None</div>"
      ],
      "text/plain": [
       "<IPython.core.display.HTML object>"
      ]
     },
     "metadata": {},
     "output_type": "display_data"
    }
   ],
   "source": [
    "all_complexes = [n for n, data in g.nodes(data=True) if data[\"node_type\"] == \"Complex\"]\n",
    "display(HTML(\"<div><b>All complexes: </b>\" + \", \".join(all_complexes) + \"</div>\"))\n",
    "\n",
    "if COMPLEXES_TO_KEEP is None:\n",
    "    display(HTML(\"<div><b>Complexes to keep: </b> None</div>\"))\n",
    "else:\n",
    "    display(HTML(\"<div><b>Complexes to keep: </b>\" + \", \".join(COMPLEXES_TO_KEEP) + \"</div>\"))"
   ]
  },
  {
   "cell_type": "code",
   "execution_count": 23,
   "id": "34b2a29c-8ee6-416c-9e6d-5baffcaa17a2",
   "metadata": {},
   "outputs": [
    {
     "data": {
      "text/html": [
       "<div><b>Nodes to remove and rewire: </b>tRNA-adenine, 9-cis-Violaxanthin, MeJA, 8&prime; OH-ABA, MDA, EDS1|PAD4|SAG, CTR|ETR, 12,13-EOT, cZ-glucosides, 5-phosphomevalonate, CL, Violaxanthin, InsP8, DZ-glucosides, tZ, SAG, all-trans-Phytofluene, EBF|SCF, UDP-Glc, IAOx N-oxide, Geranylgeranyl-PP, IAOx, SAH, Xanthoxin, MVA, oxIAA, P5C, CBL3|Ca2+, NPR1|TGA2,5,6, CA, PA, GA-methylester, cZ-riboside, InsP5, SAMe, EIN3|NPR1, HMBDP, iP, Antheraxanthin, OPDA, CA-CoA, Phytoene, iP-glucosides, Prep, HSP70|HSP90|SGT1, IAA-Ala, iP-ribotide, iP-riboside, MeCLA, IAA-Glu, 3O3PP-CoA, BAK1|BRI1, 3H3PP-CoA, IsoChor, IPA, DPA, DZ-riboside, IAN, DZ-ribotide, Glu, PEPR1|PEP1, Chor, COI1|JA-Ile|SCF, InsP6, CML|Ca2+, ent-Kaurene, SA-Asp, Abscisic aldehyde, N-pyruvoyl-L-Glu, SCF, L-homo-cys, IAA-Asp, Tyr, ABA-GE, 12-OH-JA-Ile, ent-Copalyl-PP, eATP, ent-Kaurenoic acid, OPC6-CoA, OPC8, all-trans-zeta-Carotene, L-Dopa, cZ-ribotide, OG, Trp, prenyl-tRNA, ABI5|HY5, DZ, e-, GA|GID1, L-arogenate, IsoChor-9-Glu, tZ-riboside, 9-cis-&beta;-carotene, ETP|SCF, cis-prenyl-tRNA, CLA, &gamma;-Carotene, GA34, BA, p-Coumaric acid, Zeaxanthin, GA12, JA-CoA, IAM, MeIAA, SCL14|TGA2,5,6, TORC1, tZ-glucoside, GA8, InsP4, GA9, Brassinolide, S-alkyl-thiohydroximate, DMAPP, Lycopene, Thr, WD/bHLH/MYB, ABI4|RGL2, &beta;-Carotene, GA20, Ile, L-Met, ACC, IAA-Leu, BA-CoA, DOPAL, ALA, Thiohydroximate, Phe, cholesterol, 13-HPOT, tZ-ribotide, 9-cis-10&prime;-apo-&beta;-carotenal, PAA, NPR1|NPR1, EDS1|PAD4, OPC8-CoA, OPC4-CoA, phospholipids, CBL2|Ca2+, all-trans-Neurosporene, InsP7, BD, Phaseic acid, &beta;-Cryptoxanthin, MeSA, 12-OH-JA</div>"
      ],
      "text/plain": [
       "<IPython.core.display.HTML object>"
      ]
     },
     "metadata": {},
     "output_type": "display_data"
    }
   ],
   "source": [
    "nodes_to_remove_and_rewire = set()\n",
    "\n",
    "if REMOVE_AND_REWIRE_METBOLITES:\n",
    "    if METABOLITES_TO_KEEP:\n",
    "        nodes_to_remove_and_rewire.update(set(all_metabolites) - set(METABOLITES_TO_KEEP))\n",
    "    else:\n",
    "        nodes_to_remove_and_rewire.update(set(all_metabolites))\n",
    "\n",
    "if REMOVE_AND_REWIRE_COMPLEXES:\n",
    "    if COMPLEXES_TO_KEEP:\n",
    "        nodes_to_remove_and_rewire.update(set(all_complexes) - set(COMPLEXES_TO_KEEP))\n",
    "    else:\n",
    "        nodes_to_remove_and_rewire.update(set(all_complexes))\n",
    "\n",
    "display(HTML(\"<div><b>Nodes to remove and rewire: </b>\" + \", \".join(nodes_to_remove_and_rewire) + \"</div>\"))"
   ]
  },
  {
   "cell_type": "code",
   "execution_count": 24,
   "id": "34ab103c-bea1-48d8-a60a-2b7931c1c235",
   "metadata": {
    "scrolled": true
   },
   "outputs": [
    {
     "name": "stdout",
     "output_type": "stream",
     "text": [
      "iP-riboside\n",
      "  Downstream: iP-ribotide -- To be removed\n",
      "  Downstream ADK[AT3G09820,AT5G03300]\n",
      "  Downstream: iP -- To be removed\n",
      "     --->\n",
      "  Upstream: iP -- To be removed\n",
      "  Upstream: iP-ribotide -- To be removed\n",
      "\n",
      "DZ-riboside\n",
      "  Downstream: DZ-ribotide -- To be removed\n",
      "  Downstream ADK[AT3G09820,AT5G03300]\n",
      "  Downstream: DZ -- To be removed\n",
      "     --->\n",
      "  Upstream: DZ-ribotide -- To be removed\n",
      "  Upstream: DZ -- To be removed\n",
      "\n",
      "prenyl-tRNA\n",
      "  Downstream: cis-prenyl-tRNA -- To be removed\n",
      "     --->\n",
      "  Upstream: DMAPP -- To be removed\n",
      "  Upstream: tRNA-adenine -- To be removed\n",
      "  Upstream IPT2,9[AT2G27760,AT5G20040]\n",
      "\n",
      "tZ-riboside\n",
      "  Downstream: tZ-ribotide -- To be removed\n",
      "  Downstream ADK[AT3G09820,AT5G03300]\n",
      "  Downstream: tZ -- To be removed\n",
      "     --->\n",
      "  Upstream: tZ -- To be removed\n",
      "  Upstream: tZ-ribotide -- To be removed\n",
      "\n",
      "NPR1|NPR1\n",
      "  Downstream: NPR1[AT1G64280] -- Same source/target\n",
      "     --->\n",
      "  Upstream: NPR1[AT1G64280] -- Same source/target\n",
      "\n",
      "9-cis-10&prime;-apo-&beta;-carotenal\n",
      "  Downstream: CL -- To be removed\n",
      "  Downstream: CCD[AT2G44990,AT4G32810] -- Same source/target\n",
      "     --->\n",
      "  Upstream: 9-cis-&beta;-carotene -- To be removed\n",
      "  Upstream: CCD[AT2G44990,AT4G32810] -- Same source/target\n",
      "\n",
      "&beta;-Cryptoxanthin\n",
      "  Downstream: Zeaxanthin -- To be removed\n",
      "  Downstream: BETA-OHASE[AT1G31800,AT4G25700,AT5G52570] -- Same source/target\n",
      "     --->\n",
      "  Upstream: &beta;-Carotene -- To be removed\n",
      "  Upstream: BETA-OHASE[AT1G31800,AT4G25700,AT5G52570] -- Same source/target\n",
      "\n",
      "EDS1|PAD4|SAG\n",
      "  Downstream: NPR1|TGA2,5,6 -- To be removed\n",
      "     --->\n",
      "  Upstream: EDS1|PAD4 -- To be removed\n",
      "  Upstream SAGs[AT5G14930,AT5G45890]\n",
      "\n",
      "8&prime; OH-ABA\n",
      "  Downstream: Phaseic acid -- To be removed\n",
      "     --->\n",
      "  Upstream ABA\n",
      "  Upstream CYP707A3[AT5G45340]\n",
      "\n",
      "all-trans-Phytofluene\n",
      "  Downstream: all-trans-zeta-Carotene -- To be removed\n",
      "  Downstream: PDS[AT4G14210] -- Same source/target\n",
      "     --->\n",
      "  Upstream: Phytoene -- To be removed\n",
      "  Upstream: PDS[AT4G14210] -- Same source/target\n",
      "\n",
      "Phytoene\n",
      "  Downstream: all-trans-Phytofluene -- To be removed\n",
      "  Downstream PDS[AT4G14210]\n",
      "     --->\n",
      "  Upstream: Geranylgeranyl-PP -- To be removed\n",
      "\n",
      "3O3PP-CoA\n",
      "  Downstream: BA-CoA -- To be removed\n",
      "  Downstream KAT[AT1G04710,AT2G33150,AT5G48880]\n",
      "     --->\n",
      "  Upstream: 3H3PP-CoA -- To be removed\n",
      "\n",
      "3H3PP-CoA\n",
      "  Downstream: 3O3PP-CoA -- To be removed\n",
      "     --->\n",
      "  Upstream: CA-CoA -- To be removed\n",
      "  Upstream MFP[AT3G06860,AT3G15290,AT4G29010]\n",
      "\n",
      "cis-prenyl-tRNA\n",
      "  Downstream: cZ-ribotide -- To be removed\n",
      "     --->\n",
      "  Upstream: prenyl-tRNA -- To be removed\n",
      "\n",
      "&gamma;-Carotene\n",
      "  Downstream: &beta;-Carotene -- To be removed\n",
      "  Downstream: LCY1[AT3G10230] -- Same source/target\n",
      "     --->\n",
      "  Upstream: LCY1[AT3G10230] -- Same source/target\n",
      "  Upstream: Lycopene -- To be removed\n",
      "\n",
      "cholesterol\n",
      "  Downstream PR1[AT2G14580,AT2G14610,SOTUB09G006090.1.1,SOTUB09G006100.1.1,SOTUB09G006110.1.1]\n",
      "     --->\n",
      "\n",
      "all-trans-Neurosporene\n",
      "  Downstream: Lycopene -- To be removed\n",
      "  Downstream: ZDS1[AT3G04870] -- Same source/target\n",
      "     --->\n",
      "  Upstream: ZDS1[AT3G04870] -- Same source/target\n",
      "  Upstream: all-trans-zeta-Carotene -- To be removed\n",
      "\n",
      "Phaseic acid\n",
      "  Downstream: DPA -- To be removed\n",
      "  Downstream PAR[unknown]\n",
      "     --->\n",
      "  Upstream: 8&prime; OH-ABA -- To be removed\n",
      "\n",
      "Removed 46 pendant nodes, with 101 edges.\n",
      "Removed further 102 nodes, with 397 edges.\n",
      "Added 195 edges in rewiring\n"
     ]
    }
   ],
   "source": [
    "pss_utils.remove_and_rewire(g, nodes_to_remove_and_rewire)"
   ]
  },
  {
   "cell_type": "code",
   "execution_count": 25,
   "id": "983463e9",
   "metadata": {},
   "outputs": [
    {
     "name": "stdout",
     "output_type": "stream",
     "text": [
      "\n",
      "Number of nodes: 386\n",
      "Number of edges: 712\n"
     ]
    }
   ],
   "source": [
    "print(f\"\\nNumber of nodes: {g.number_of_nodes()}\\nNumber of edges: {g.number_of_edges()}\")"
   ]
  },
  {
   "cell_type": "markdown",
   "id": "ccac8ea0-bfdd-4b0c-b82a-7a5498e2af1a",
   "metadata": {},
   "source": [
    "# Extract largest connected component (LCC)"
   ]
  },
  {
   "cell_type": "code",
   "execution_count": 26,
   "id": "e0c625b3-9226-4aa9-9298-5507b0f4523b",
   "metadata": {},
   "outputs": [
    {
     "name": "stdout",
     "output_type": "stream",
     "text": [
      "Connected component  0: 364\n",
      "Connected component  1: 3\n",
      "Connected component  2: 2\n",
      "Connected component  3: 1\n",
      "Connected component  4: 2\n",
      "Connected component  5: 1\n",
      "Connected component  6: 1\n",
      "Connected component  7: 3\n",
      "Connected component  8: 3\n",
      "Connected component  9: 1\n",
      "Connected component 10: 3\n",
      "Connected component 11: 2\n"
     ]
    }
   ],
   "source": [
    "for i, cc in enumerate(nx.weakly_connected_components(g)):\n",
    "    print(f\"Connected component {i:2}: {len(cc)}\")"
   ]
  },
  {
   "cell_type": "markdown",
   "id": "c192e2ab-b548-4da8-9810-cf6dabe57cb4",
   "metadata": {},
   "source": [
    "Keep the largest :"
   ]
  },
  {
   "cell_type": "code",
   "execution_count": 27,
   "id": "587b002f-cd53-43a7-bccf-fadab62847c9",
   "metadata": {},
   "outputs": [],
   "source": [
    "if EXTRACT_LCC:\n",
    "    g = g.subgraph(max(nx.weakly_connected_components(g), key=len)).copy()"
   ]
  },
  {
   "cell_type": "code",
   "execution_count": 28,
   "id": "60103f9a-a448-4082-84ff-c76d87c900f4",
   "metadata": {},
   "outputs": [
    {
     "name": "stdout",
     "output_type": "stream",
     "text": [
      "\n",
      "Number of nodes: 364\n",
      "Number of edges: 697\n"
     ]
    }
   ],
   "source": [
    "print(f\"\\nNumber of nodes: {g.number_of_nodes()}\\nNumber of edges: {g.number_of_edges()}\")"
   ]
  },
  {
   "cell_type": "markdown",
   "id": "fd90a667-60f6-42fa-95bb-3dd0a7325e43",
   "metadata": {},
   "source": [
    "# Remove self loops, and doubled binding edges"
   ]
  },
  {
   "cell_type": "code",
   "execution_count": 29,
   "id": "66d0f5b9-17b5-4495-a5ce-951515fb7da1",
   "metadata": {},
   "outputs": [],
   "source": [
    "if REMOVE_SELF_LOOPS:\n",
    "    g.remove_edges_from(nx.selfloop_edges(g))"
   ]
  },
  {
   "cell_type": "code",
   "execution_count": 30,
   "id": "93127e14-a9d7-4d1e-8c80-bbb91537ed85",
   "metadata": {},
   "outputs": [
    {
     "name": "stdout",
     "output_type": "stream",
     "text": [
      "\n",
      "Number of nodes: 364\n",
      "Number of edges: 696\n"
     ]
    }
   ],
   "source": [
    "print(f\"\\nNumber of nodes: {g.number_of_nodes()}\\nNumber of edges: {g.number_of_edges()}\")"
   ]
  },
  {
   "cell_type": "code",
   "execution_count": 31,
   "id": "3792a8ca-9a45-4522-badf-fb24b7659777",
   "metadata": {},
   "outputs": [
    {
     "name": "stdout",
     "output_type": "stream",
     "text": [
      "Removed 72 edges from network.\n"
     ]
    }
   ],
   "source": [
    "if REMOVE_DUPLICATED_BINDING:\n",
    "    pss_utils.remove_duplicated_binding_edges(g)"
   ]
  },
  {
   "cell_type": "code",
   "execution_count": 33,
   "id": "e77c4e6a-e3b0-4ce3-b335-5f0cad19def6",
   "metadata": {},
   "outputs": [
    {
     "name": "stdout",
     "output_type": "stream",
     "text": [
      "\n",
      "Number of nodes: 364\n",
      "Number of edges: 624\n"
     ]
    }
   ],
   "source": [
    "print(f\"\\nNumber of nodes: {g.number_of_nodes()}\\nNumber of edges: {g.number_of_edges()}\")"
   ]
  },
  {
   "cell_type": "markdown",
   "id": "8ed2fc83-0f67-4541-b47a-760c3ca8bb5f",
   "metadata": {},
   "source": [
    "# Exporting graph to file"
   ]
  },
  {
   "cell_type": "markdown",
   "id": "4bfbfa00-f4c3-4b81-b401-83935b32abe8",
   "metadata": {},
   "source": [
    "NetworkX does not have  the greatest export formats, so  making a Pandas dataframe and saving that seems the best. "
   ]
  },
  {
   "cell_type": "code",
   "execution_count": 34,
   "id": "5803cb21-3401-4fe7-9cd7-5e85d4bc48dd",
   "metadata": {},
   "outputs": [
    {
     "data": {
      "text/html": [
       "<div>\n",
       "<style scoped>\n",
       "    .dataframe tbody tr th:only-of-type {\n",
       "        vertical-align: middle;\n",
       "    }\n",
       "\n",
       "    .dataframe tbody tr th {\n",
       "        vertical-align: top;\n",
       "    }\n",
       "\n",
       "    .dataframe thead th {\n",
       "        text-align: right;\n",
       "    }\n",
       "</style>\n",
       "<table border=\"1\" class=\"dataframe\">\n",
       "  <thead>\n",
       "    <tr style=\"text-align: right;\">\n",
       "      <th></th>\n",
       "      <th>source</th>\n",
       "      <th>target</th>\n",
       "      <th>source_edge_type</th>\n",
       "      <th>reaction_id</th>\n",
       "      <th>source_location</th>\n",
       "      <th>directed</th>\n",
       "      <th>source_form</th>\n",
       "      <th>reaction_effect</th>\n",
       "      <th>target_form</th>\n",
       "      <th>target_edge_type</th>\n",
       "      <th>reaction_type</th>\n",
       "      <th>interaction_type</th>\n",
       "      <th>target_location</th>\n",
       "      <th>note</th>\n",
       "    </tr>\n",
       "  </thead>\n",
       "  <tbody>\n",
       "    <tr>\n",
       "      <th>0</th>\n",
       "      <td>CRT[AT1G08450,AT1G09210,AT1G56340]</td>\n",
       "      <td>ETR[AT1G04310,AT1G66340,AT2G40940,AT3G04580,AT...</td>\n",
       "      <td>SUBSTRATE</td>\n",
       "      <td>rx00228</td>\n",
       "      <td>cytoplasm</td>\n",
       "      <td>False</td>\n",
       "      <td>protein_active</td>\n",
       "      <td>activation</td>\n",
       "      <td>protein</td>\n",
       "      <td>SUBSTRATE</td>\n",
       "      <td>binding/oligomerisation</td>\n",
       "      <td>binding</td>\n",
       "      <td>endoplasmic reticulum</td>\n",
       "      <td>NaN</td>\n",
       "    </tr>\n",
       "    <tr>\n",
       "      <th>1</th>\n",
       "      <td>CRT[AT1G08450,AT1G09210,AT1G56340]</td>\n",
       "      <td>Ca2+</td>\n",
       "      <td>SUBSTRATE</td>\n",
       "      <td>rx00194</td>\n",
       "      <td>cytoplasm</td>\n",
       "      <td>False</td>\n",
       "      <td>protein_active</td>\n",
       "      <td>inhibition</td>\n",
       "      <td>metabolite</td>\n",
       "      <td>SUBSTRATE</td>\n",
       "      <td>binding/oligomerisation</td>\n",
       "      <td>inhibition</td>\n",
       "      <td>cytoplasm</td>\n",
       "      <td>NaN</td>\n",
       "    </tr>\n",
       "    <tr>\n",
       "      <th>2</th>\n",
       "      <td>OSCA1[AT4G04340]</td>\n",
       "      <td>Ca2+</td>\n",
       "      <td>ACTIVATES</td>\n",
       "      <td>rx00603</td>\n",
       "      <td>cytoplasm</td>\n",
       "      <td>True</td>\n",
       "      <td>protein_active</td>\n",
       "      <td>activation</td>\n",
       "      <td>metabolite</td>\n",
       "      <td>TRANSLOCATE_TO</td>\n",
       "      <td>translocation</td>\n",
       "      <td>translocation</td>\n",
       "      <td>cytoplasm</td>\n",
       "      <td>NaN</td>\n",
       "    </tr>\n",
       "    <tr>\n",
       "      <th>3</th>\n",
       "      <td>SNRK2[AT1G10940,AT1G78290,AT4G33950,SOTUB02G03...</td>\n",
       "      <td>AREB/ABF[AT1G45249,AT1G49720,AT3G19290,AT4G34000]</td>\n",
       "      <td>INHIBITS</td>\n",
       "      <td>rx00569,rx00610</td>\n",
       "      <td>cytoplasm</td>\n",
       "      <td>True</td>\n",
       "      <td>protein</td>\n",
       "      <td>inhibition</td>\n",
       "      <td>gene</td>\n",
       "      <td>SUBSTRATE</td>\n",
       "      <td>protein activation</td>\n",
       "      <td>inhibition</td>\n",
       "      <td>cytoplasm</td>\n",
       "      <td>NaN</td>\n",
       "    </tr>\n",
       "    <tr>\n",
       "      <th>4</th>\n",
       "      <td>SNRK2[AT1G10940,AT1G78290,AT4G33950,SOTUB02G03...</td>\n",
       "      <td>ARR-A[AT1G10470,AT1G19050,AT1G59940,AT1G74890,...</td>\n",
       "      <td>ACTIVATES</td>\n",
       "      <td>rx00570</td>\n",
       "      <td>cytoplasm</td>\n",
       "      <td>True</td>\n",
       "      <td>protein_active</td>\n",
       "      <td>activation</td>\n",
       "      <td>protein</td>\n",
       "      <td>SUBSTRATE</td>\n",
       "      <td>protein activation</td>\n",
       "      <td>activation</td>\n",
       "      <td>nucleus</td>\n",
       "      <td>NaN</td>\n",
       "    </tr>\n",
       "  </tbody>\n",
       "</table>\n",
       "</div>"
      ],
      "text/plain": [
       "                                              source  \\\n",
       "0                 CRT[AT1G08450,AT1G09210,AT1G56340]   \n",
       "1                 CRT[AT1G08450,AT1G09210,AT1G56340]   \n",
       "2                                   OSCA1[AT4G04340]   \n",
       "3  SNRK2[AT1G10940,AT1G78290,AT4G33950,SOTUB02G03...   \n",
       "4  SNRK2[AT1G10940,AT1G78290,AT4G33950,SOTUB02G03...   \n",
       "\n",
       "                                              target source_edge_type  \\\n",
       "0  ETR[AT1G04310,AT1G66340,AT2G40940,AT3G04580,AT...        SUBSTRATE   \n",
       "1                                               Ca2+        SUBSTRATE   \n",
       "2                                               Ca2+        ACTIVATES   \n",
       "3  AREB/ABF[AT1G45249,AT1G49720,AT3G19290,AT4G34000]         INHIBITS   \n",
       "4  ARR-A[AT1G10470,AT1G19050,AT1G59940,AT1G74890,...        ACTIVATES   \n",
       "\n",
       "       reaction_id source_location directed     source_form reaction_effect  \\\n",
       "0          rx00228       cytoplasm    False  protein_active      activation   \n",
       "1          rx00194       cytoplasm    False  protein_active      inhibition   \n",
       "2          rx00603       cytoplasm     True  protein_active      activation   \n",
       "3  rx00569,rx00610       cytoplasm     True         protein      inhibition   \n",
       "4          rx00570       cytoplasm     True  protein_active      activation   \n",
       "\n",
       "  target_form target_edge_type            reaction_type interaction_type  \\\n",
       "0     protein        SUBSTRATE  binding/oligomerisation          binding   \n",
       "1  metabolite        SUBSTRATE  binding/oligomerisation       inhibition   \n",
       "2  metabolite   TRANSLOCATE_TO            translocation    translocation   \n",
       "3        gene        SUBSTRATE       protein activation       inhibition   \n",
       "4     protein        SUBSTRATE       protein activation       activation   \n",
       "\n",
       "         target_location note  \n",
       "0  endoplasmic reticulum  NaN  \n",
       "1              cytoplasm  NaN  \n",
       "2              cytoplasm  NaN  \n",
       "3              cytoplasm  NaN  \n",
       "4                nucleus  NaN  "
      ]
     },
     "execution_count": 34,
     "metadata": {},
     "output_type": "execute_result"
    }
   ],
   "source": [
    "df = nx.to_pandas_edgelist(g)\n",
    "df.head()"
   ]
  },
  {
   "cell_type": "code",
   "execution_count": 35,
   "id": "66eafdd2-c502-4f10-9231-4c0ced4c51d7",
   "metadata": {},
   "outputs": [],
   "source": [
    "df.to_csv(output_dir / f\"pss-{PSS_PROJECTION}-refined-edgelist-{today}.tsv\", sep=\"\\t\", index=None)"
   ]
  },
  {
   "cell_type": "markdown",
   "id": "a8565f9d",
   "metadata": {},
   "source": [
    "# Cytoscape "
   ]
  },
  {
   "cell_type": "code",
   "execution_count": 36,
   "id": "ec0061d4-080c-4f80-aff5-e727bd106cfb",
   "metadata": {},
   "outputs": [],
   "source": [
    "# don't go beyond here with Run All\n",
    "assert RUN_CYTOSCAPE"
   ]
  },
  {
   "cell_type": "markdown",
   "id": "6346e4f9",
   "metadata": {},
   "source": [
    "First open the Cytoscape application. Then the following cell will load the required library and and make sure you can connect to the Cytoscape application. \n",
    "\n",
    "More py4cytoscape documentation is here: https://py4cytoscape.readthedocs.io/"
   ]
  },
  {
   "cell_type": "code",
   "execution_count": 37,
   "id": "75251cd9",
   "metadata": {},
   "outputs": [
    {
     "name": "stdout",
     "output_type": "stream",
     "text": [
      "You are connected to Cytoscape!\n"
     ]
    },
    {
     "data": {
      "text/plain": [
       "{'apiVersion': 'v1',\n",
       " 'cytoscapeVersion': '3.10.2',\n",
       " 'automationAPIVersion': '1.9.0',\n",
       " 'py4cytoscapeVersion': '1.9.0'}"
      ]
     },
     "execution_count": 37,
     "metadata": {},
     "output_type": "execute_result"
    }
   ],
   "source": [
    "import py4cytoscape as p4c\n",
    "p4c.cytoscape_ping()\n",
    "p4c.cytoscape_version_info()"
   ]
  },
  {
   "cell_type": "markdown",
   "id": "375cd58d-0f88-4481-b367-79deca0a9c11",
   "metadata": {},
   "source": [
    "Some helper functions for Cytoscape from skm-tools:"
   ]
  },
  {
   "cell_type": "code",
   "execution_count": 38,
   "id": "b3436e91-6f8d-4601-9038-8d9a48a766dc",
   "metadata": {},
   "outputs": [],
   "source": [
    "from skm_tools import cytoscape_utils"
   ]
  },
  {
   "cell_type": "markdown",
   "id": "cc69a9e8",
   "metadata": {},
   "source": [
    "We set the Cytoscape collection name for this notebook. "
   ]
  },
  {
   "cell_type": "code",
   "execution_count": 39,
   "id": "0ea7e02a",
   "metadata": {},
   "outputs": [
    {
     "data": {
      "text/plain": [
       "'PSS projection (2025.03.10)'"
      ]
     },
     "execution_count": 39,
     "metadata": {},
     "output_type": "execute_result"
    }
   ],
   "source": [
    "COLLECTION = f\"PSS projection ({today})\"\n",
    "COLLECTION"
   ]
  },
  {
   "cell_type": "markdown",
   "id": "42d41865",
   "metadata": {},
   "source": [
    "## Load the PSS network into Cytoscape\n",
    "\n",
    "We load the network, set a visual style, and apply the CoSE layout.\n",
    "\n",
    "With skm-tools, we provide a default style for PSS, colouring the nodes by pathway.\n",
    "\n",
    "Returned is the ID of the network view in Cytoscape."
   ]
  },
  {
   "cell_type": "code",
   "execution_count": 40,
   "id": "9c026cdf-d2f2-4546-8a48-0419c5cd8731",
   "metadata": {},
   "outputs": [
    {
     "name": "stdout",
     "output_type": "stream",
     "text": [
      "Applying default style...\n",
      "Applying preferred layout\n"
     ]
    }
   ],
   "source": [
    "pss_network_suid = p4c.networks.create_network_from_networkx(g, title=\"PSS\", collection=COLLECTION)"
   ]
  },
  {
   "cell_type": "code",
   "execution_count": 41,
   "id": "9e53c92e-6d78-43be-b38a-bbcf83dfc8bc",
   "metadata": {},
   "outputs": [
    {
     "name": "stdout",
     "output_type": "stream",
     "text": [
      "Applied PSS-default to 90162\n"
     ]
    },
    {
     "data": {
      "text/plain": [
       "90162"
      ]
     },
     "execution_count": 41,
     "metadata": {},
     "output_type": "execute_result"
    }
   ],
   "source": [
    "# Apply a style\n",
    "cytoscape_utils.apply_builtin_style(pss_network_suid, 'pss')\n",
    "pss_network_suid"
   ]
  },
  {
   "cell_type": "markdown",
   "id": "37f05c5e-f882-436d-8234-86f76588a260",
   "metadata": {},
   "source": [
    "# Saving the node positions from Cytoscape"
   ]
  },
  {
   "cell_type": "code",
   "execution_count": 40,
   "id": "23546d24",
   "metadata": {},
   "outputs": [],
   "source": [
    "df_xy = p4c.get_node_position()\n",
    "df_xy.to_csv(output_dir / f\"pss-{PSS_PROJECTION}-refined-xy-coords-{today}.tsv\", sep=\"\\t\")"
   ]
  },
  {
   "cell_type": "markdown",
   "id": "d1f810cc-522f-49b1-8419-1b642d12a636",
   "metadata": {},
   "source": [
    "# Extracting some paths"
   ]
  },
  {
   "cell_type": "code",
   "execution_count": 41,
   "id": "55b51d4c-34f3-4d35-b3ea-d0b723d17bdb",
   "metadata": {},
   "outputs": [
    {
     "ename": "AssertionError",
     "evalue": "",
     "output_type": "error",
     "traceback": [
      "\u001b[0;31m---------------------------------------------------------------------------\u001b[0m",
      "\u001b[0;31mAssertionError\u001b[0m                            Traceback (most recent call last)",
      "Cell \u001b[0;32mIn[41], line 2\u001b[0m\n\u001b[1;32m      1\u001b[0m \u001b[38;5;66;03m# don't go beyond here with Run All\u001b[39;00m\n\u001b[0;32m----> 2\u001b[0m \u001b[38;5;28;01massert\u001b[39;00m RUN_PATH_EXTRACTION\n",
      "\u001b[0;31mAssertionError\u001b[0m: "
     ]
    }
   ],
   "source": [
    "# don't go beyond here with Run All\n",
    "assert RUN_PATH_EXTRACTION"
   ]
  },
  {
   "cell_type": "markdown",
   "id": "28fddd55",
   "metadata": {},
   "source": [
    "# Example path extraction"
   ]
  },
  {
   "cell_type": "markdown",
   "id": "7594847b-2dec-491e-a00e-6822b20ddc72",
   "metadata": {},
   "source": [
    "First we identify the nodes of interest."
   ]
  },
  {
   "cell_type": "code",
   "execution_count": null,
   "id": "3973685c",
   "metadata": {},
   "outputs": [],
   "source": [
    "JA = [x for x,y in g.nodes(data=True) if y['name']==\"JA\"][0]\n",
    "SA = [x for x,y in g.nodes(data=True) if y['name']==\"SA\"][0];\n",
    "ROS = [x for x,y in g.nodes(data=True) if y['name']==\"ROS\"][0]\n",
    "\n",
    "print(JA)\n",
    "print(SA)\n",
    "print(ROS)"
   ]
  },
  {
   "cell_type": "markdown",
   "id": "65c287d9",
   "metadata": {},
   "source": [
    "## JA --> SA + JA --> ROS"
   ]
  },
  {
   "cell_type": "code",
   "execution_count": null,
   "id": "452f01a4",
   "metadata": {
    "scrolled": true
   },
   "outputs": [],
   "source": [
    "JA_paths = [p for p in nx.all_shortest_paths(g, source=JA, target=SA)]\n",
    "JA_paths += [p for p in nx.all_shortest_paths(g, source=JA, target=ROS)]"
   ]
  },
  {
   "cell_type": "markdown",
   "id": "46f64ca6",
   "metadata": {},
   "source": [
    "## SA --> JA + SA --> ROS"
   ]
  },
  {
   "cell_type": "code",
   "execution_count": null,
   "id": "f8ae6d0b",
   "metadata": {
    "scrolled": true
   },
   "outputs": [],
   "source": [
    "SA_paths = [p for p in nx.all_shortest_paths(g, source=SA, target=JA)]\n",
    "SA_paths += [p for p in nx.all_shortest_paths(g, source=SA, target=ROS)]"
   ]
  },
  {
   "cell_type": "markdown",
   "id": "dca61bea",
   "metadata": {},
   "source": [
    "## ROS --> JA + ROS --> SA"
   ]
  },
  {
   "cell_type": "code",
   "execution_count": null,
   "id": "07ac7956",
   "metadata": {
    "scrolled": true
   },
   "outputs": [],
   "source": [
    "ROS_paths = [p for p in nx.all_shortest_paths(g, source=ROS, target=JA)]\n",
    "ROS_paths += [p for p in nx.all_shortest_paths(g, source=ROS, target=SA)]"
   ]
  },
  {
   "cell_type": "markdown",
   "id": "5496ed98",
   "metadata": {},
   "source": [
    "# Visualise paths in Cytoscape\n",
    "\n",
    "Now we're going to highlight the paths we identified in the network by applying style bypasses.\n",
    "\n"
   ]
  },
  {
   "cell_type": "markdown",
   "id": "56307eed-341c-4fcc-b8a7-32f5a7e057fd",
   "metadata": {},
   "source": [
    "We set the colours here:"
   ]
  },
  {
   "cell_type": "code",
   "execution_count": null,
   "id": "0c508e91",
   "metadata": {},
   "outputs": [],
   "source": [
    "JA_COLOUR = \"#66a61e\"\n",
    "SA_COLOUR = \"#34858d\"\n",
    "ROS_COLOUR = \"#dc1c1c\""
   ]
  },
  {
   "cell_type": "markdown",
   "id": "82511975-b219-4629-9c8d-4cb3071a72f0",
   "metadata": {},
   "source": [
    "We don't want to recolour already highlighted path elements, so we keep track of them here:"
   ]
  },
  {
   "cell_type": "code",
   "execution_count": null,
   "id": "65228bba",
   "metadata": {},
   "outputs": [],
   "source": [
    "done_nodes, done_edges = [], []"
   ]
  },
  {
   "cell_type": "code",
   "execution_count": null,
   "id": "901a811a",
   "metadata": {},
   "outputs": [],
   "source": [
    "for p in ROS_paths:\n",
    "    done_nodes_now, done_edges_now = cytoscape_utils.highlight_path(p, ROS_COLOUR, skip_nodes=done_nodes, skip_edges=done_edges)\n",
    "    done_nodes += done_nodes_now\n",
    "    done_edges += done_edges_now\n",
    "# Note - need to improve edge colouring"
   ]
  },
  {
   "cell_type": "code",
   "execution_count": null,
   "id": "47d89e3c",
   "metadata": {},
   "outputs": [],
   "source": [
    "for p in JA_paths:\n",
    "    done_nodes_now, done_edges_now = cytoscape_utils.highlight_path(p, JA_COLOUR, skip_nodes=done_nodes, skip_edges=done_edges)\n",
    "    done_nodes += done_nodes_now\n",
    "    done_edges += done_edges_now"
   ]
  },
  {
   "cell_type": "code",
   "execution_count": null,
   "id": "d663dce3",
   "metadata": {},
   "outputs": [],
   "source": [
    "for p in SA_paths:\n",
    "    done_nodes_now, done_edges_now = cytoscape_utils.highlight_path(p, SA_COLOUR, skip_nodes=done_nodes, skip_edges=done_edges)\n",
    "    done_nodes += done_nodes_now\n",
    "    done_edges += done_edges_now"
   ]
  },
  {
   "cell_type": "markdown",
   "id": "a66c5821",
   "metadata": {},
   "source": [
    "At this point, the Cytoscape session has a network view of the filtered PSS, and highlighting of the paths we extracted from our targeted searches. "
   ]
  },
  {
   "cell_type": "markdown",
   "id": "3f51e5ac",
   "metadata": {},
   "source": [
    "## Extract subnetworks in Cytoscape\n",
    "\n",
    "Properly inspecting the identified paths is a bit hard within the complete network, so here we pull out the subnetworks of and surrounding the paths. \n"
   ]
  },
  {
   "cell_type": "markdown",
   "id": "c83244a1",
   "metadata": {},
   "source": [
    "### The edge induced network\n",
    "The first, and smallest subnetwork, is created by extracting only the edges that are present on the paths. "
   ]
  },
  {
   "cell_type": "code",
   "execution_count": null,
   "id": "8a4a7f08",
   "metadata": {},
   "outputs": [],
   "source": [
    "network_edge_induced_suid = cytoscape_utils.subnetwork_edge_induced_from_paths(\n",
    "    paths=JA_paths + SA_paths + ROS_paths,\n",
    "    g=g,\n",
    "    parent_suid=pss_network_suid,\n",
    "    name=\"identified paths (edge induced)\",\n",
    ")"
   ]
  },
  {
   "cell_type": "markdown",
   "id": "19b9fb8c",
   "metadata": {},
   "source": [
    "We apply a new layout to this subnetwork"
   ]
  },
  {
   "cell_type": "code",
   "execution_count": null,
   "id": "5a0d43bd",
   "metadata": {},
   "outputs": [],
   "source": [
    "_ = p4c.layouts.layout_network('cose', network=network_edge_induced_suid)"
   ]
  },
  {
   "cell_type": "markdown",
   "id": "aa0dbf79",
   "metadata": {},
   "source": [
    "### The node induced network\n",
    "\n",
    "Now we extract the network based on the nodes along the paths, meaning any edges between those nodes that are not on the paths are also extracted. "
   ]
  },
  {
   "cell_type": "code",
   "execution_count": null,
   "id": "234d81cd",
   "metadata": {},
   "outputs": [],
   "source": [
    "nodes = list(set([y for x in JA_paths + SA_paths + ROS_paths for y in x]))"
   ]
  },
  {
   "cell_type": "code",
   "execution_count": null,
   "id": "61e903f2",
   "metadata": {},
   "outputs": [],
   "source": [
    "network_node_induced_suid = cytoscape_utils.subnetwork_node_induced(\n",
    "    nodes=nodes,\n",
    "    parent_suid=pss_network_suid,\n",
    "    name=\"identified paths (node induced)\",\n",
    ")"
   ]
  },
  {
   "cell_type": "markdown",
   "id": "551d1985",
   "metadata": {},
   "source": [
    "Instead of applying a network layout algorithm, we can copy the layout from the previous subnetwork. "
   ]
  },
  {
   "cell_type": "code",
   "execution_count": null,
   "id": "093dc7ac",
   "metadata": {},
   "outputs": [],
   "source": [
    "_ = p4c.layouts.layout_copycat(\n",
    "    network_edge_induced_suid, \n",
    "    network_node_induced_suid\n",
    ")"
   ]
  },
  {
   "cell_type": "markdown",
   "id": "d9d0324e",
   "metadata": {},
   "source": [
    "### Neighbours\n",
    "\n",
    "For more context around our paths, we can include the first neighbours in the view. We can use the Cytoscape first neighbour selection functionality. "
   ]
  },
  {
   "cell_type": "code",
   "execution_count": null,
   "id": "192e436c",
   "metadata": {},
   "outputs": [],
   "source": [
    "network_neighbours_suid = cytoscape_utils.subnetwork_neighbours(\n",
    "    nodes=nodes,\n",
    "    parent_suid=pss_network_suid,\n",
    "    name=\"identified paths + 1st neighbours\",\n",
    ")"
   ]
  },
  {
   "cell_type": "code",
   "execution_count": null,
   "id": "ac847256",
   "metadata": {},
   "outputs": [],
   "source": [
    "_ = p4c.layouts.layout_network('cose', network=network_neighbours_suid)"
   ]
  },
  {
   "cell_type": "markdown",
   "id": "2c443ba1",
   "metadata": {},
   "source": [
    "### Additional filtering of the neighbours\n",
    "\n",
    "There are many neighbours displayed now, and we are perhaps only interested in the ones that are connected to at least two of the original path nodes, so we can make a filter using networkX neighbour functions. "
   ]
  },
  {
   "cell_type": "code",
   "execution_count": null,
   "id": "b09628ac",
   "metadata": {},
   "outputs": [],
   "source": [
    "filtered_neighbours = []\n",
    "for n in g.nodes():\n",
    "    if (len([x for x in nx.MultiGraph(g).neighbors(n) if (x in done_nodes)]) > 1) and (n not in done_nodes):\n",
    "        filtered_neighbours.append(n)"
   ]
  },
  {
   "cell_type": "code",
   "execution_count": null,
   "id": "a3bb179f",
   "metadata": {},
   "outputs": [],
   "source": [
    "network_neighbours_filtered_suid = cytoscape_utils.subnetwork_node_induced(\n",
    "    nodes=nodes+filtered_neighbours,\n",
    "    parent_suid=pss_network_suid,\n",
    "    name=\"identified paths + 1st neighbours (filtered)\",\n",
    ")"
   ]
  },
  {
   "cell_type": "code",
   "execution_count": null,
   "id": "0510890f",
   "metadata": {},
   "outputs": [],
   "source": [
    "p4c.layouts.layout_copycat(\n",
    "    network_neighbours_suid, \n",
    "    network_neighbours_filtered_suid\n",
    ")"
   ]
  },
  {
   "cell_type": "markdown",
   "id": "16a2bf76-ed18-4104-91d9-76df0284dc09",
   "metadata": {},
   "source": [
    "### Exporting the subnetwork"
   ]
  },
  {
   "cell_type": "code",
   "execution_count": null,
   "id": "c6017b84-ea38-402b-9b5d-fd459c9e41ed",
   "metadata": {},
   "outputs": [],
   "source": [
    "g_subgraph_node_induced = nx.induced_subgraph(g, nodes)\n",
    "print(f\"\\nNumber of nodes: {g_subgraph_node_induced.number_of_nodes()}\\nNumber of edges: {g_subgraph_node_induced.number_of_edges()}\")"
   ]
  },
  {
   "cell_type": "code",
   "execution_count": null,
   "id": "b94d0605-f361-4cd5-a647-23201ed9f83d",
   "metadata": {},
   "outputs": [],
   "source": [
    "nx.to_pandas_edgelist(g_subgraph_node_induced)\\\n",
    "    .to_csv(output_dir / f\"pss-dinar-subgraph-refined-edgelist-{today}.tsv\", sep=\"\\t\", index=None)"
   ]
  },
  {
   "cell_type": "markdown",
   "id": "65cc3435-d930-4810-8142-6f8562ac571f",
   "metadata": {},
   "source": [
    "## Saving the session"
   ]
  },
  {
   "cell_type": "markdown",
   "id": "ef336952",
   "metadata": {},
   "source": [
    "Save the Cytoscape session:"
   ]
  },
  {
   "cell_type": "code",
   "execution_count": null,
   "id": "f6ec0f38",
   "metadata": {},
   "outputs": [],
   "source": [
    "p4c.session.save_session(str(output_dir / f\"PSS-DiNAR-JA-SA-ROS-{today}.cys\"))"
   ]
  },
  {
   "cell_type": "markdown",
   "id": "4944000b-1258-43ca-92d0-9f370106b172",
   "metadata": {},
   "source": [
    "## Exporting the Cytoscape networks to PDF"
   ]
  },
  {
   "cell_type": "code",
   "execution_count": null,
   "id": "b59f0d65-0e74-4308-8796-096a0dce27c7",
   "metadata": {},
   "outputs": [],
   "source": [
    "collection_suid = p4c.get_collection_suid(network_edge_induced_suid)"
   ]
  },
  {
   "cell_type": "code",
   "execution_count": null,
   "id": "80ad7504-0a50-4806-9179-1cd8c659ad58",
   "metadata": {},
   "outputs": [],
   "source": [
    "from skm_tools import cytoscape_pdf_utils"
   ]
  },
  {
   "cell_type": "code",
   "execution_count": null,
   "id": "76a8c147-ef9a-485b-829a-4bab767ef95d",
   "metadata": {},
   "outputs": [],
   "source": [
    "cytoscape_pdf_utils.export_collection_to_pdfs(collection_suid, output_dir / \"figures\")"
   ]
  },
  {
   "cell_type": "code",
   "execution_count": null,
   "id": "da44f934-7c23-4e78-a4f2-c68e180d85e0",
   "metadata": {},
   "outputs": [],
   "source": [
    "cytoscape_pdf_utils.export_collection_to_single_pdf(collection_suid, output_dir / \"figures\" / \"single_pdf\", caption=True)"
   ]
  },
  {
   "cell_type": "code",
   "execution_count": null,
   "id": "87ef826e",
   "metadata": {},
   "outputs": [],
   "source": [
    "# END"
   ]
  },
  {
   "cell_type": "code",
   "execution_count": null,
   "id": "d6bdeea9",
   "metadata": {},
   "outputs": [],
   "source": []
  },
  {
   "cell_type": "code",
   "execution_count": null,
   "id": "d9b688c2",
   "metadata": {},
   "outputs": [],
   "source": []
  }
 ],
 "metadata": {
  "kernelspec": {
   "display_name": "Python [conda env:python-env]",
   "language": "python",
   "name": "conda-env-python-env-py"
  },
  "language_info": {
   "codemirror_mode": {
    "name": "ipython",
    "version": 3
   },
   "file_extension": ".py",
   "mimetype": "text/x-python",
   "name": "python",
   "nbconvert_exporter": "python",
   "pygments_lexer": "ipython3",
   "version": "3.10.13"
  },
  "toc": {
   "base_numbering": 1,
   "nav_menu": {},
   "number_sections": true,
   "sideBar": true,
   "skip_h1_title": false,
   "title_cell": "Table of Contents",
   "title_sidebar": "Contents",
   "toc_cell": true,
   "toc_position": {
    "height": "calc(100% - 180px)",
    "left": "10px",
    "top": "150px",
    "width": "165px"
   },
   "toc_section_display": true,
   "toc_window_display": true
  },
  "varInspector": {
   "cols": {
    "lenName": 16,
    "lenType": 16,
    "lenVar": 40
   },
   "kernels_config": {
    "python": {
     "delete_cmd_postfix": "",
     "delete_cmd_prefix": "del ",
     "library": "var_list.py",
     "varRefreshCmd": "print(var_dic_list())"
    },
    "r": {
     "delete_cmd_postfix": ") ",
     "delete_cmd_prefix": "rm(",
     "library": "var_list.r",
     "varRefreshCmd": "cat(var_dic_list()) "
    }
   },
   "types_to_exclude": [
    "module",
    "function",
    "builtin_function_or_method",
    "instance",
    "_Feature"
   ],
   "window_display": false
  }
 },
 "nbformat": 4,
 "nbformat_minor": 5
}

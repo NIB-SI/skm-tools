{
 "cells": [
  {
   "cell_type": "code",
   "execution_count": 1,
   "id": "53233c30",
   "metadata": {},
   "outputs": [
    {
     "data": {
      "text/html": [
       "<style>.container { width:85% !important; }</style>"
      ],
      "text/plain": [
       "<IPython.core.display.HTML object>"
      ]
     },
     "metadata": {},
     "output_type": "display_data"
    }
   ],
   "source": [
    "from IPython.display import display, Markdown, HTML\n",
    "display(HTML(\"<style>.container { width:85% !important; }</style>\"))"
   ]
  },
  {
   "cell_type": "markdown",
   "id": "0906cd19",
   "metadata": {
    "toc": true
   },
   "source": [
    "<h1>Table of Contents<span class=\"tocSkip\"></span></h1>\n",
    "<div class=\"toc\"><ul class=\"toc-item\"><li><span><a href=\"#CKN-Case-Study-2:-Ca2+-and-redox-response)\" data-toc-modified-id=\"CKN-Case-Study-2:-Ca2+-and-redox-response)-1\"><span class=\"toc-item-num\">1&nbsp;&nbsp;</span>CKN Case Study 2: Ca<sup>2+</sup> and redox response)</a></span></li><li><span><a href=\"#Setup\" data-toc-modified-id=\"Setup-2\"><span class=\"toc-item-num\">2&nbsp;&nbsp;</span>Setup</a></span><ul class=\"toc-item\"><li><span><a href=\"#Library-import\" data-toc-modified-id=\"Library-import-2.1\"><span class=\"toc-item-num\">2.1&nbsp;&nbsp;</span>Library import</a></span></li><li><span><a href=\"#Path-and-Parameter-definitions\" data-toc-modified-id=\"Path-and-Parameter-definitions-2.2\"><span class=\"toc-item-num\">2.2&nbsp;&nbsp;</span>Path and Parameter definitions</a></span></li><li><span><a href=\"#Load-CKN\" data-toc-modified-id=\"Load-CKN-2.3\"><span class=\"toc-item-num\">2.3&nbsp;&nbsp;</span>Load CKN</a></span></li></ul></li><li><span><a href=\"#Filtering\" data-toc-modified-id=\"Filtering-3\"><span class=\"toc-item-num\">3&nbsp;&nbsp;</span>Filtering</a></span><ul class=\"toc-item\"><li><span><a href=\"#Filtering-node-types\" data-toc-modified-id=\"Filtering-node-types-3.1\"><span class=\"toc-item-num\">3.1&nbsp;&nbsp;</span>Filtering node types</a></span></li><li><span><a href=\"#Filtering-tissue-types\" data-toc-modified-id=\"Filtering-tissue-types-3.2\"><span class=\"toc-item-num\">3.2&nbsp;&nbsp;</span>Filtering tissue types</a></span></li><li><span><a href=\"#Perform-filtering\" data-toc-modified-id=\"Perform-filtering-3.3\"><span class=\"toc-item-num\">3.3&nbsp;&nbsp;</span>Perform filtering</a></span></li><li><span><a href=\"#Filtering-edge-ranks\" data-toc-modified-id=\"Filtering-edge-ranks-3.4\"><span class=\"toc-item-num\">3.4&nbsp;&nbsp;</span>Filtering edge ranks</a></span></li></ul></li><li><span><a href=\"#Load-proteomic-data\" data-toc-modified-id=\"Load-proteomic-data-4\"><span class=\"toc-item-num\">4&nbsp;&nbsp;</span>Load proteomic data</a></span><ul class=\"toc-item\"><li><span><a href=\"#Load-targets\" data-toc-modified-id=\"Load-targets-4.1\"><span class=\"toc-item-num\">4.1&nbsp;&nbsp;</span>Load targets</a></span></li></ul></li><li><span><a href=\"#Define-Ca2+-annotated-source-nodes\" data-toc-modified-id=\"Define-Ca2+-annotated-source-nodes-5\"><span class=\"toc-item-num\">5&nbsp;&nbsp;</span>Define Ca<sup>2+</sup> annotated source nodes</a></span></li><li><span><a href=\"#Path-analysis\" data-toc-modified-id=\"Path-analysis-6\"><span class=\"toc-item-num\">6&nbsp;&nbsp;</span>Path analysis</a></span><ul class=\"toc-item\"><li><span><a href=\"#Shortest-paths-in-CKN\" data-toc-modified-id=\"Shortest-paths-in-CKN-6.1\"><span class=\"toc-item-num\">6.1&nbsp;&nbsp;</span>Shortest paths in CKN</a></span></li><li><span><a href=\"#Paths-in-CKN\" data-toc-modified-id=\"Paths-in-CKN-6.2\"><span class=\"toc-item-num\">6.2&nbsp;&nbsp;</span>Paths in CKN</a></span></li><li><span><a href=\"#Shortest-path-edges\" data-toc-modified-id=\"Shortest-path-edges-6.3\"><span class=\"toc-item-num\">6.3&nbsp;&nbsp;</span>Shortest path edges</a></span></li></ul></li><li><span><a href=\"#Cuts-on-the-merged-shortest-paths\" data-toc-modified-id=\"Cuts-on-the-merged-shortest-paths-7\"><span class=\"toc-item-num\">7&nbsp;&nbsp;</span>Cuts on the merged shortest paths</a></span></li><li><span><a href=\"#Context-graph\" data-toc-modified-id=\"Context-graph-8\"><span class=\"toc-item-num\">8&nbsp;&nbsp;</span>Context graph</a></span></li><li><span><a href=\"#Table-attributes-from-the-networks\" data-toc-modified-id=\"Table-attributes-from-the-networks-9\"><span class=\"toc-item-num\">9&nbsp;&nbsp;</span>Table attributes from the networks</a></span></li><li><span><a href=\"#Cytoscape\" data-toc-modified-id=\"Cytoscape-10\"><span class=\"toc-item-num\">10&nbsp;&nbsp;</span>Cytoscape</a></span><ul class=\"toc-item\"><li><span><a href=\"#Cuts\" data-toc-modified-id=\"Cuts-10.1\"><span class=\"toc-item-num\">10.1&nbsp;&nbsp;</span>Cuts</a></span></li><li><span><a href=\"#Grouping-source-type\" data-toc-modified-id=\"Grouping-source-type-10.2\"><span class=\"toc-item-num\">10.2&nbsp;&nbsp;</span>Grouping source type</a></span></li><li><span><a href=\"#Layout-by-groups\" data-toc-modified-id=\"Layout-by-groups-10.3\"><span class=\"toc-item-num\">10.3&nbsp;&nbsp;</span>Layout by groups</a></span></li><li><span><a href=\"#View-proteomics-data\" data-toc-modified-id=\"View-proteomics-data-10.4\"><span class=\"toc-item-num\">10.4&nbsp;&nbsp;</span>View proteomics data</a></span></li></ul></li></ul></div>"
   ]
  },
  {
   "cell_type": "markdown",
   "id": "1dce43c4",
   "metadata": {},
   "source": [
    "# CKN Case Study 2: Ca<sup>2+</sup> and redox response)"
   ]
  },
  {
   "cell_type": "markdown",
   "id": "96d48f1a",
   "metadata": {},
   "source": [
    "# Setup\n",
    "\n",
    "## Library import\n",
    "We import all the required Python libraries"
   ]
  },
  {
   "cell_type": "code",
   "execution_count": 2,
   "id": "73cff9d5",
   "metadata": {
    "ExecuteTime": {
     "end_time": "2023-03-20T07:00:38.534811Z",
     "start_time": "2023-03-20T07:00:38.529072Z"
    }
   },
   "outputs": [],
   "source": [
    "import sys, re, pickle\n",
    "from pathlib import Path\n",
    "from datetime import datetime\n",
    "from IPython.display import Markdown, display\n",
    "from collections import defaultdict\n",
    "\n",
    "import pandas as pd\n",
    "import seaborn as sns\n",
    "import networkx as nx"
   ]
  },
  {
   "cell_type": "code",
   "execution_count": 3,
   "id": "29d8ab31",
   "metadata": {},
   "outputs": [],
   "source": [
    "# vis\n",
    "import matplotlib.pyplot as plt"
   ]
  },
  {
   "cell_type": "markdown",
   "id": "1ca7363d",
   "metadata": {},
   "source": [
    "The following allows us to import functions from the skm-tools package. \n",
    "Note the relative path to the folder containing the \n",
    "\"skm-tools\" directory. "
   ]
  },
  {
   "cell_type": "code",
   "execution_count": 4,
   "id": "0e754ddb",
   "metadata": {},
   "outputs": [],
   "source": [
    "sys.path.append(\"../\")\n",
    "from skm_tools import load_networks, ckn_utils"
   ]
  },
  {
   "cell_type": "code",
   "execution_count": 5,
   "id": "b9c69008",
   "metadata": {},
   "outputs": [],
   "source": [
    "from importlib import reload"
   ]
  },
  {
   "cell_type": "code",
   "execution_count": 6,
   "id": "0617a217",
   "metadata": {},
   "outputs": [
    {
     "data": {
      "text/plain": [
       "'2023.09.08'"
      ]
     },
     "execution_count": 6,
     "metadata": {},
     "output_type": "execute_result"
    }
   ],
   "source": [
    "today = datetime.today().strftime('%Y.%m.%d'); today"
   ]
  },
  {
   "cell_type": "markdown",
   "id": "efe8a796",
   "metadata": {},
   "source": [
    "## Path and Parameter definitions"
   ]
  },
  {
   "cell_type": "code",
   "execution_count": 7,
   "id": "2e03d777",
   "metadata": {
    "ExecuteTime": {
     "end_time": "2023-03-20T07:00:45.987247Z",
     "start_time": "2023-03-20T07:00:45.982936Z"
    }
   },
   "outputs": [],
   "source": [
    "base_dir = Path(\"./\")\n",
    "data_dir = base_dir / \"data\"\n",
    "output_dir = base_dir / \"output\""
   ]
  },
  {
   "cell_type": "code",
   "execution_count": 8,
   "id": "7c09ec63",
   "metadata": {},
   "outputs": [],
   "source": [
    "ckn_edge_path = data_dir / \"AtCKN-v2-2023.06.tsv.gz\" \n",
    "ckn_node_path = data_dir / \"AtCKN-v2-2023.06_node-annot.tsv.gz\""
   ]
  },
  {
   "cell_type": "code",
   "execution_count": 9,
   "id": "8c883e1b",
   "metadata": {},
   "outputs": [],
   "source": [
    "# target_file = data_dir / \"calcium-dependent-redox-responsive-identifiers.tsv\""
   ]
  },
  {
   "cell_type": "code",
   "execution_count": 10,
   "id": "4364d399",
   "metadata": {
    "ExecuteTime": {
     "end_time": "2023-03-20T07:09:29.198164Z",
     "start_time": "2023-03-20T07:09:29.195534Z"
    }
   },
   "outputs": [],
   "source": [
    "prot_file = data_dir / \"merged-proteomics-data-v2.tsv\""
   ]
  },
  {
   "cell_type": "markdown",
   "id": "dcd62faa",
   "metadata": {},
   "source": [
    "## Load CKN"
   ]
  },
  {
   "cell_type": "code",
   "execution_count": 11,
   "id": "2f4c1582",
   "metadata": {},
   "outputs": [
    {
     "name": "stdout",
     "output_type": "stream",
     "text": [
      "\n",
      "Number of nodes: 26234\n",
      "Number of edges: 898887\n"
     ]
    }
   ],
   "source": [
    "ckn = load_networks.ckn_to_networkx(\n",
    "    edge_path=ckn_edge_path, \n",
    "    node_path=ckn_node_path\n",
    ")\n",
    "\n",
    "print(f\"\\nNumber of nodes: {ckn.number_of_nodes()}\\nNumber of edges: {ckn.number_of_edges()}\")"
   ]
  },
  {
   "cell_type": "code",
   "execution_count": 12,
   "id": "e020e82c",
   "metadata": {},
   "outputs": [],
   "source": [
    "# LCC = None\n",
    "# max_size = 0\n",
    "# for i, cc in enumerate(nx.connected_components(ckn.to_undirected())):\n",
    "#     size = len(cc)\n",
    "#     if size > 5:\n",
    "#         print(i, size)\n",
    "#     if size > max_size:\n",
    "#         LCC = cc\n",
    "#         max_size = size"
   ]
  },
  {
   "cell_type": "code",
   "execution_count": 13,
   "id": "12710b2d",
   "metadata": {},
   "outputs": [],
   "source": [
    "# import igraph as ig\n",
    "# LCC = nx.induced_subgraph(ckn, cc)\n",
    "# h = ig.Graph.from_networkx(LCC.to_undirected())\n",
    "# h.diameter()"
   ]
  },
  {
   "cell_type": "markdown",
   "id": "02b911a7",
   "metadata": {},
   "source": [
    "# Filtering\n",
    "\n",
    "## Filtering node types\n",
    "CKN contains some nodes that are not relevent to this study, such as viral proteins (foreign nodes). \n",
    "\n",
    "* N/A – species not applicable (e.g. metabolites)\n",
    "* ath – arabidopsis\n",
    "* foreign – e.g. bacteria, viral, external stress factors\n",
    "* ath/foreign – commplexes between ath and foreign\n"
   ]
  },
  {
   "cell_type": "code",
   "execution_count": 14,
   "id": "fc63474c",
   "metadata": {},
   "outputs": [
    {
     "data": {
      "text/plain": [
       "{'N/A', 'ath', 'ath/foreign', 'foreign'}"
      ]
     },
     "execution_count": 14,
     "metadata": {},
     "output_type": "execute_result"
    }
   ],
   "source": [
    "# see the types of nodes present\n",
    "species = set([data['species'] for n, data in ckn.nodes(data=True)])\n",
    "species"
   ]
  },
  {
   "cell_type": "code",
   "execution_count": 15,
   "id": "f89fa4d6",
   "metadata": {},
   "outputs": [
    {
     "data": {
      "text/plain": [
       "{'N/A', 'ath'}"
      ]
     },
     "execution_count": 15,
     "metadata": {},
     "output_type": "execute_result"
    }
   ],
   "source": [
    "# Define the types we want to keep\n",
    "keep_species = species.difference(set(['ath/foreign', 'foreign']))\n",
    "keep_species"
   ]
  },
  {
   "cell_type": "markdown",
   "id": "1047c33e",
   "metadata": {},
   "source": [
    "## Filtering tissue types\n",
    "CKN node annotations include tisseues that they are known to be present in (based on TAIR Plant Ontology annotations and DEE2 datasets expression). Since this experiment is specific to leaves, we will filter CKN to only include genes that are known to be present in leaves. \n",
    "\n",
    "* N/A – tissue not applicable or not collected (e.g. metabolites)\n",
    "* leaf\n",
    "* ... \n",
    "* nan – tissue type missing"
   ]
  },
  {
   "cell_type": "code",
   "execution_count": 16,
   "id": "f2b15f1a",
   "metadata": {},
   "outputs": [
    {
     "data": {
      "text/plain": [
       "{'N/A', 'leaf'}"
      ]
     },
     "execution_count": 16,
     "metadata": {},
     "output_type": "execute_result"
    }
   ],
   "source": [
    "tissues = set([s for n, data in ckn.nodes(data=True) if data['tissue'] for s in data['tissue']])\n",
    "tissues"
   ]
  },
  {
   "cell_type": "code",
   "execution_count": 17,
   "id": "25c4b02e",
   "metadata": {},
   "outputs": [],
   "source": [
    "keep_tissues = ['leaf', 'N/A']"
   ]
  },
  {
   "cell_type": "markdown",
   "id": "30120b2d",
   "metadata": {},
   "source": [
    "## Perform filtering"
   ]
  },
  {
   "cell_type": "code",
   "execution_count": 18,
   "id": "05dad194",
   "metadata": {},
   "outputs": [
    {
     "name": "stdout",
     "output_type": "stream",
     "text": [
      "Removed 10943 nodes from network.\n"
     ]
    }
   ],
   "source": [
    "removed = ckn_utils.filter_ckn_nodes(ckn, species=keep_species, tissues=keep_tissues, remove_isolates=True)"
   ]
  },
  {
   "cell_type": "code",
   "execution_count": 19,
   "id": "43d8c22f",
   "metadata": {},
   "outputs": [
    {
     "name": "stdout",
     "output_type": "stream",
     "text": [
      "\n",
      "Number of nodes: 15291\n",
      "Number of edges: 631503\n"
     ]
    }
   ],
   "source": [
    "print(f\"\\nNumber of nodes: {ckn.number_of_nodes()}\\nNumber of edges: {ckn.number_of_edges()}\")"
   ]
  },
  {
   "cell_type": "markdown",
   "id": "944c2f34",
   "metadata": {},
   "source": [
    "## Filtering edge ranks\n",
    "\n",
    "CKN edges are annotated with edge 'ranks', representing how reliability the edges are:\n",
    "\n",
    "* 0 – manually curated interactions from PSS, \n",
    "* 1 – literature curated interactions detected using targeted experimental methods (e.ckn. luciferase reporter assay, co-immunoprecipitation, enzymatic assays), sometimes complemented with high-throughput technologies, \n",
    "* 2 – interactions detected using high-throughput technologies (e.ckn. high throughput yeast two-hybrid, chromatin immunoprecipitation sequencing, degradome sequencing), \n",
    "* 3 – interactions extracted from literature (co-citation, but not text mining) or predicted in silico and additionally validated with data, \n",
    "* 4 – interactions predicted using purely in silico binding prediction algorithms. \n",
    "\n",
    "Below, we can count the number of edges for each rank. "
   ]
  },
  {
   "cell_type": "code",
   "execution_count": 20,
   "id": "9bb39c98",
   "metadata": {},
   "outputs": [
    {
     "name": "stdout",
     "output_type": "stream",
     "text": [
      "rank 0:\t 2,096\n",
      "rank 1:\t 27,918\n",
      "rank 2:\t 44,961\n",
      "rank 3:\t 503,985\n",
      "rank 4:\t 52,543\n"
     ]
    }
   ],
   "source": [
    "_ = ckn_utils.rank_counts(ckn)"
   ]
  },
  {
   "cell_type": "markdown",
   "id": "b4f1ea61",
   "metadata": {},
   "source": [
    "Since our query space is quite large, for now we'll only consider the higher reliablity edges (rank 0 - rank 2), and filter out the rest. If our query result was not large enough (too large), we could re-run the queries using less strict (stricter) ranks. \n",
    "\n",
    "We'll used the skm-tools function for filter to our required ranks. "
   ]
  },
  {
   "cell_type": "code",
   "execution_count": 21,
   "id": "7c2d8b7e",
   "metadata": {},
   "outputs": [
    {
     "name": "stdout",
     "output_type": "stream",
     "text": [
      "Removed 556528 edges from network.\n",
      "rank 0:\t 2,096\n",
      "rank 1:\t 27,918\n",
      "rank 2:\t 44,961\n",
      "rank 3:\t 0\n",
      "rank 4:\t 0\n"
     ]
    }
   ],
   "source": [
    "keep_edge_ranks=[0, 1, 2]\n",
    "ckn_utils.filter_ckn_edges(ckn, keep_edge_ranks=keep_edge_ranks, remove_isolates=True)\n",
    "_ = ckn_utils.rank_counts(ckn)"
   ]
  },
  {
   "cell_type": "code",
   "execution_count": 22,
   "id": "842ccde5",
   "metadata": {},
   "outputs": [
    {
     "name": "stdout",
     "output_type": "stream",
     "text": [
      "\n",
      "Number of nodes: 10058\n",
      "Number of edges: 74975\n"
     ]
    }
   ],
   "source": [
    "print(f\"\\nNumber of nodes: {ckn.number_of_nodes()}\\nNumber of edges: {ckn.number_of_edges()}\")"
   ]
  },
  {
   "cell_type": "markdown",
   "id": "876e7b79",
   "metadata": {},
   "source": [
    "# Load proteomic data"
   ]
  },
  {
   "cell_type": "markdown",
   "id": "1fac5a09",
   "metadata": {},
   "source": [
    "Load the file containing parsed and merged proteomics data. "
   ]
  },
  {
   "cell_type": "code",
   "execution_count": 23,
   "id": "4f4da149",
   "metadata": {},
   "outputs": [
    {
     "data": {
      "text/html": [
       "<div>\n",
       "<style scoped>\n",
       "    .dataframe tbody tr th:only-of-type {\n",
       "        vertical-align: middle;\n",
       "    }\n",
       "\n",
       "    .dataframe tbody tr th {\n",
       "        vertical-align: top;\n",
       "    }\n",
       "\n",
       "    .dataframe thead th {\n",
       "        text-align: right;\n",
       "    }\n",
       "</style>\n",
       "<table border=\"1\" class=\"dataframe\">\n",
       "  <thead>\n",
       "    <tr style=\"text-align: right;\">\n",
       "      <th></th>\n",
       "      <th>protein-list</th>\n",
       "      <th>protein-group</th>\n",
       "      <th>responsiveness</th>\n",
       "      <th>Mock|Mock vs Mock|H2O2 (10 min) log-FC</th>\n",
       "      <th>Mock|Mock vs Mock|H2O2 (10 min) p-value</th>\n",
       "      <th>Mock|Mock vs Mock|H2O2 (10 min) significant</th>\n",
       "      <th>La3+|Mock vs La3+|H2O2 (10 min) log-FC</th>\n",
       "      <th>La3+|Mock vs La3+|H2O2 (10 min) p-value</th>\n",
       "      <th>La3+|Mock vs La3+|H2O2 (10 min) significant</th>\n",
       "      <th>Mock|Mock vs Mock|H2O2 (30 min) log-FC</th>\n",
       "      <th>Mock|Mock vs Mock|H2O2 (30 min) p-value</th>\n",
       "      <th>Mock|Mock vs Mock|H2O2 (30 min) significant</th>\n",
       "      <th>La3+|Mock vs La3+|H2O2 (30 min) log-FC</th>\n",
       "      <th>La3+|Mock vs La3+|H2O2 (30 min) p-value</th>\n",
       "      <th>La3+|Mock vs La3+|H2O2 (30 min) significant</th>\n",
       "      <th>significant-contrasts</th>\n",
       "    </tr>\n",
       "    <tr>\n",
       "      <th>identifier</th>\n",
       "      <th></th>\n",
       "      <th></th>\n",
       "      <th></th>\n",
       "      <th></th>\n",
       "      <th></th>\n",
       "      <th></th>\n",
       "      <th></th>\n",
       "      <th></th>\n",
       "      <th></th>\n",
       "      <th></th>\n",
       "      <th></th>\n",
       "      <th></th>\n",
       "      <th></th>\n",
       "      <th></th>\n",
       "      <th></th>\n",
       "      <th></th>\n",
       "    </tr>\n",
       "  </thead>\n",
       "  <tbody>\n",
       "    <tr>\n",
       "      <th>ATCG00840</th>\n",
       "      <td>ATCG01300.1;ATCG00840.1</td>\n",
       "      <td>4114</td>\n",
       "      <td>NaN</td>\n",
       "      <td>0.60032</td>\n",
       "      <td>NaN</td>\n",
       "      <td>NaN</td>\n",
       "      <td>1.09152</td>\n",
       "      <td>NaN</td>\n",
       "      <td>NaN</td>\n",
       "      <td>0.49134</td>\n",
       "      <td>NaN</td>\n",
       "      <td>NaN</td>\n",
       "      <td>1.39490</td>\n",
       "      <td>0.00074</td>\n",
       "      <td>UP</td>\n",
       "      <td>La3+|Mock vs La3+|H2O2 (30 min)</td>\n",
       "    </tr>\n",
       "    <tr>\n",
       "      <th>ATCG00830</th>\n",
       "      <td>ATCG01310.1;ATCG00830.1</td>\n",
       "      <td>4113</td>\n",
       "      <td>NaN</td>\n",
       "      <td>0.24502</td>\n",
       "      <td>NaN</td>\n",
       "      <td>NaN</td>\n",
       "      <td>0.26174</td>\n",
       "      <td>NaN</td>\n",
       "      <td>NaN</td>\n",
       "      <td>0.12704</td>\n",
       "      <td>NaN</td>\n",
       "      <td>NaN</td>\n",
       "      <td>0.45448</td>\n",
       "      <td>NaN</td>\n",
       "      <td>NaN</td>\n",
       "      <td>NaN</td>\n",
       "    </tr>\n",
       "    <tr>\n",
       "      <th>ATCG01310</th>\n",
       "      <td>ATCG01310.1;ATCG00830.1</td>\n",
       "      <td>4113</td>\n",
       "      <td>NaN</td>\n",
       "      <td>0.24502</td>\n",
       "      <td>NaN</td>\n",
       "      <td>NaN</td>\n",
       "      <td>0.26174</td>\n",
       "      <td>NaN</td>\n",
       "      <td>NaN</td>\n",
       "      <td>0.12704</td>\n",
       "      <td>NaN</td>\n",
       "      <td>NaN</td>\n",
       "      <td>0.45448</td>\n",
       "      <td>NaN</td>\n",
       "      <td>NaN</td>\n",
       "      <td>NaN</td>\n",
       "    </tr>\n",
       "    <tr>\n",
       "      <th>AT2G07698</th>\n",
       "      <td>ATMG01190.1;AT2G07698.1</td>\n",
       "      <td>1132</td>\n",
       "      <td>NaN</td>\n",
       "      <td>-0.05596</td>\n",
       "      <td>NaN</td>\n",
       "      <td>NaN</td>\n",
       "      <td>-0.36784</td>\n",
       "      <td>0.00662</td>\n",
       "      <td>DOWN</td>\n",
       "      <td>-0.02238</td>\n",
       "      <td>NaN</td>\n",
       "      <td>NaN</td>\n",
       "      <td>-0.46964</td>\n",
       "      <td>0.02799</td>\n",
       "      <td>DOWN</td>\n",
       "      <td>La3+|Mock vs La3+|H2O2 (10 min) &amp; La3+|Mock vs...</td>\n",
       "    </tr>\n",
       "    <tr>\n",
       "      <th>ATMG01190</th>\n",
       "      <td>ATMG01190.1;AT2G07698.1</td>\n",
       "      <td>1132</td>\n",
       "      <td>NaN</td>\n",
       "      <td>-0.05596</td>\n",
       "      <td>NaN</td>\n",
       "      <td>NaN</td>\n",
       "      <td>-0.36784</td>\n",
       "      <td>0.00662</td>\n",
       "      <td>DOWN</td>\n",
       "      <td>-0.02238</td>\n",
       "      <td>NaN</td>\n",
       "      <td>NaN</td>\n",
       "      <td>-0.46964</td>\n",
       "      <td>0.02799</td>\n",
       "      <td>DOWN</td>\n",
       "      <td>La3+|Mock vs La3+|H2O2 (10 min) &amp; La3+|Mock vs...</td>\n",
       "    </tr>\n",
       "  </tbody>\n",
       "</table>\n",
       "</div>"
      ],
      "text/plain": [
       "                       protein-list  protein-group responsiveness  \\\n",
       "identifier                                                          \n",
       "ATCG00840   ATCG01300.1;ATCG00840.1           4114            NaN   \n",
       "ATCG00830   ATCG01310.1;ATCG00830.1           4113            NaN   \n",
       "ATCG01310   ATCG01310.1;ATCG00830.1           4113            NaN   \n",
       "AT2G07698   ATMG01190.1;AT2G07698.1           1132            NaN   \n",
       "ATMG01190   ATMG01190.1;AT2G07698.1           1132            NaN   \n",
       "\n",
       "            Mock|Mock vs Mock|H2O2 (10 min) log-FC  \\\n",
       "identifier                                           \n",
       "ATCG00840                                  0.60032   \n",
       "ATCG00830                                  0.24502   \n",
       "ATCG01310                                  0.24502   \n",
       "AT2G07698                                 -0.05596   \n",
       "ATMG01190                                 -0.05596   \n",
       "\n",
       "            Mock|Mock vs Mock|H2O2 (10 min) p-value  \\\n",
       "identifier                                            \n",
       "ATCG00840                                       NaN   \n",
       "ATCG00830                                       NaN   \n",
       "ATCG01310                                       NaN   \n",
       "AT2G07698                                       NaN   \n",
       "ATMG01190                                       NaN   \n",
       "\n",
       "           Mock|Mock vs Mock|H2O2 (10 min) significant  \\\n",
       "identifier                                               \n",
       "ATCG00840                                          NaN   \n",
       "ATCG00830                                          NaN   \n",
       "ATCG01310                                          NaN   \n",
       "AT2G07698                                          NaN   \n",
       "ATMG01190                                          NaN   \n",
       "\n",
       "            La3+|Mock vs La3+|H2O2 (10 min) log-FC  \\\n",
       "identifier                                           \n",
       "ATCG00840                                  1.09152   \n",
       "ATCG00830                                  0.26174   \n",
       "ATCG01310                                  0.26174   \n",
       "AT2G07698                                 -0.36784   \n",
       "ATMG01190                                 -0.36784   \n",
       "\n",
       "            La3+|Mock vs La3+|H2O2 (10 min) p-value  \\\n",
       "identifier                                            \n",
       "ATCG00840                                       NaN   \n",
       "ATCG00830                                       NaN   \n",
       "ATCG01310                                       NaN   \n",
       "AT2G07698                                   0.00662   \n",
       "ATMG01190                                   0.00662   \n",
       "\n",
       "           La3+|Mock vs La3+|H2O2 (10 min) significant  \\\n",
       "identifier                                               \n",
       "ATCG00840                                          NaN   \n",
       "ATCG00830                                          NaN   \n",
       "ATCG01310                                          NaN   \n",
       "AT2G07698                                         DOWN   \n",
       "ATMG01190                                         DOWN   \n",
       "\n",
       "            Mock|Mock vs Mock|H2O2 (30 min) log-FC  \\\n",
       "identifier                                           \n",
       "ATCG00840                                  0.49134   \n",
       "ATCG00830                                  0.12704   \n",
       "ATCG01310                                  0.12704   \n",
       "AT2G07698                                 -0.02238   \n",
       "ATMG01190                                 -0.02238   \n",
       "\n",
       "            Mock|Mock vs Mock|H2O2 (30 min) p-value  \\\n",
       "identifier                                            \n",
       "ATCG00840                                       NaN   \n",
       "ATCG00830                                       NaN   \n",
       "ATCG01310                                       NaN   \n",
       "AT2G07698                                       NaN   \n",
       "ATMG01190                                       NaN   \n",
       "\n",
       "           Mock|Mock vs Mock|H2O2 (30 min) significant  \\\n",
       "identifier                                               \n",
       "ATCG00840                                          NaN   \n",
       "ATCG00830                                          NaN   \n",
       "ATCG01310                                          NaN   \n",
       "AT2G07698                                          NaN   \n",
       "ATMG01190                                          NaN   \n",
       "\n",
       "            La3+|Mock vs La3+|H2O2 (30 min) log-FC  \\\n",
       "identifier                                           \n",
       "ATCG00840                                  1.39490   \n",
       "ATCG00830                                  0.45448   \n",
       "ATCG01310                                  0.45448   \n",
       "AT2G07698                                 -0.46964   \n",
       "ATMG01190                                 -0.46964   \n",
       "\n",
       "            La3+|Mock vs La3+|H2O2 (30 min) p-value  \\\n",
       "identifier                                            \n",
       "ATCG00840                                   0.00074   \n",
       "ATCG00830                                       NaN   \n",
       "ATCG01310                                       NaN   \n",
       "AT2G07698                                   0.02799   \n",
       "ATMG01190                                   0.02799   \n",
       "\n",
       "           La3+|Mock vs La3+|H2O2 (30 min) significant  \\\n",
       "identifier                                               \n",
       "ATCG00840                                           UP   \n",
       "ATCG00830                                          NaN   \n",
       "ATCG01310                                          NaN   \n",
       "AT2G07698                                         DOWN   \n",
       "ATMG01190                                         DOWN   \n",
       "\n",
       "                                        significant-contrasts  \n",
       "identifier                                                     \n",
       "ATCG00840                     La3+|Mock vs La3+|H2O2 (30 min)  \n",
       "ATCG00830                                                 NaN  \n",
       "ATCG01310                                                 NaN  \n",
       "AT2G07698   La3+|Mock vs La3+|H2O2 (10 min) & La3+|Mock vs...  \n",
       "ATMG01190   La3+|Mock vs La3+|H2O2 (10 min) & La3+|Mock vs...  "
      ]
     },
     "execution_count": 23,
     "metadata": {},
     "output_type": "execute_result"
    }
   ],
   "source": [
    "df_data = pd.read_csv(prot_file, sep=\"\\t\", index_col=0)\n",
    "df_data.tail()"
   ]
  },
  {
   "cell_type": "markdown",
   "id": "2ae3a74c",
   "metadata": {},
   "source": [
    "## Load targets"
   ]
  },
  {
   "cell_type": "code",
   "execution_count": 24,
   "id": "77893578",
   "metadata": {},
   "outputs": [
    {
     "data": {
      "text/plain": [
       "calcium dependent redox-responsive (30 min)    37\n",
       "calcium dependent redox-responsive (10 min)    22\n",
       "Name: responsiveness, dtype: int64"
      ]
     },
     "execution_count": 24,
     "metadata": {},
     "output_type": "execute_result"
    }
   ],
   "source": [
    "# potential_ca_targets = \n",
    "pd.value_counts(df_data['responsiveness'])"
   ]
  },
  {
   "cell_type": "code",
   "execution_count": 25,
   "id": "0daf8f65",
   "metadata": {},
   "outputs": [
    {
     "data": {
      "text/plain": [
       "59"
      ]
     },
     "execution_count": 25,
     "metadata": {},
     "output_type": "execute_result"
    }
   ],
   "source": [
    "potential_ca_targets = set(df_data['responsiveness'].dropna().index)\n",
    "len(potential_ca_targets)"
   ]
  },
  {
   "cell_type": "code",
   "execution_count": 26,
   "id": "998be585",
   "metadata": {},
   "outputs": [
    {
     "name": "stdout",
     "output_type": "stream",
     "text": [
      "Not in ckn-r0.r1.r2 AT1G56700\n",
      "Not in ckn-r0.r1.r2 AT3G49970\n",
      "Not in ckn-r0.r1.r2 AT2G29700\n",
      "Not in ckn-r0.r1.r2 AT3G45850\n",
      "Not in ckn-r0.r1.r2 AT1G02980\n",
      "Not in ckn-r0.r1.r2 AT4G34890\n",
      "Not in ckn-r0.r1.r2 AT1G55450\n",
      "Not in ckn-r0.r1.r2 AT1G03030\n",
      "Not in ckn-r0.r1.r2 AT1G16460\n",
      "Not in ckn-r0.r1.r2 AT4G01883\n",
      "Not in ckn-r0.r1.r2 AT3G54440\n",
      "Not in ckn-r0.r1.r2 AT1G74090\n",
      "Not in ckn-r0.r1.r2 AT1G20160\n",
      "Not in ckn-r0.r1.r2 AT4G34900\n",
      "Not in ckn-r0.r1.r2 AT1G43140\n",
      "Not in ckn-r0.r1.r2 AT3G54150\n",
      "Not in ckn-r0.r1.r2 AT5G51750\n",
      "Not in ckn-r0.r1.r2 AT5G11810\n",
      "Not in ckn-r0.r1.r2 AT4G33220\n",
      "Not in ckn-r0.r1.r2 AT5G57890\n",
      "Not in ckn-r0.r1.r2 AT3G46100\n",
      "In CKN: 38\n"
     ]
    }
   ],
   "source": [
    "ca_targets = []\n",
    "for x in potential_ca_targets:\n",
    "    if (x in ckn.nodes()):\n",
    "        ca_targets.append(x)\n",
    "    else:\n",
    "        print(\"Not in ckn-r0.r1.r2\", x)\n",
    "\n",
    "ca_targets = set(ca_targets)        \n",
    "print(f\"In CKN: {len(ca_targets)}\")"
   ]
  },
  {
   "cell_type": "code",
   "execution_count": 27,
   "id": "44d43332",
   "metadata": {},
   "outputs": [],
   "source": [
    "up_ca_targets = set(df_data[~df_data['responsiveness'].isna() & ( (df_data['Mock|Mock vs Mock|H2O2 (10 min) significant'] == 'UP') | (df_data['Mock|Mock vs Mock|H2O2 (30 min) significant'] == 'UP') )].index).intersection(ca_targets)\n",
    "down_ca_targets = set(df_data[~df_data['responsiveness'].isna() & ( (df_data['Mock|Mock vs Mock|H2O2 (10 min) significant'] == 'DOWN') | (df_data['Mock|Mock vs Mock|H2O2 (30 min) significant'] == 'DOWN') )].index).intersection(ca_targets)"
   ]
  },
  {
   "cell_type": "code",
   "execution_count": 28,
   "id": "81057a88",
   "metadata": {
    "scrolled": false
   },
   "outputs": [
    {
     "data": {
      "text/plain": [
       "True"
      ]
     },
     "execution_count": 28,
     "metadata": {},
     "output_type": "execute_result"
    }
   ],
   "source": [
    "up_ca_targets.union(down_ca_targets) == ca_targets"
   ]
  },
  {
   "cell_type": "markdown",
   "id": "d6436d75",
   "metadata": {},
   "source": [
    "# Define Ca<sup>2+</sup> annotated source nodes"
   ]
  },
  {
   "cell_type": "code",
   "execution_count": 29,
   "id": "b9ad9ff9",
   "metadata": {},
   "outputs": [],
   "source": [
    "gmm_ca_annotations = [\n",
    "    '30.3_signalling.calcium',\n",
    "    '34.21_transport.calcium',\n",
    "    '34.22_transport.cyclic nucleotide or calcium regulated channels'\n",
    "]\n"
   ]
  },
  {
   "cell_type": "code",
   "execution_count": 30,
   "id": "9d293b37",
   "metadata": {},
   "outputs": [],
   "source": [
    "gmm_df = pd.read_csv(data_dir / \"plant_Arabidopsis_genes.tsv.gz\", sep=\"\\t\", header=None, names=['identifier', 'gmm'], usecols=[0, 2])"
   ]
  },
  {
   "cell_type": "code",
   "execution_count": 31,
   "id": "602b145a",
   "metadata": {},
   "outputs": [
    {
     "data": {
      "text/plain": [
       "272"
      ]
     },
     "execution_count": 31,
     "metadata": {},
     "output_type": "execute_result"
    }
   ],
   "source": [
    "ca_sources = set(gmm_df.loc[gmm_df['gmm'].isin(['30.3', '34.21', '34.22']), 'identifier'].values)\n",
    "len(ca_sources)"
   ]
  },
  {
   "cell_type": "code",
   "execution_count": 32,
   "id": "c028e670",
   "metadata": {},
   "outputs": [
    {
     "data": {
      "text/plain": [
       "126"
      ]
     },
     "execution_count": 32,
     "metadata": {},
     "output_type": "execute_result"
    }
   ],
   "source": [
    "ca_sources = [x for x in ca_sources if x in ckn.nodes]\n",
    "len(ca_sources)"
   ]
  },
  {
   "cell_type": "code",
   "execution_count": 33,
   "id": "5e2ae2e5",
   "metadata": {},
   "outputs": [
    {
     "name": "stdout",
     "output_type": "stream",
     "text": [
      "AT4G23650 target is ca-annotated\n",
      "AT3G56800 target is ca-annotated\n",
      "AT2G41110 target is ca-annotated\n",
      "AT3G43810 target is ca-annotated\n",
      "AT5G21274 target is ca-annotated\n",
      "AT2G27030 target is ca-annotated\n"
     ]
    }
   ],
   "source": [
    "for n in ca_targets: \n",
    "    if n in ca_sources:\n",
    "        print(n, \"target is ca-annotated\")"
   ]
  },
  {
   "cell_type": "markdown",
   "id": "4a8bf560",
   "metadata": {},
   "source": [
    "# Path analysis\n",
    "\n",
    "## Shortest paths in CKN"
   ]
  },
  {
   "cell_type": "code",
   "execution_count": 34,
   "id": "abbf662a",
   "metadata": {},
   "outputs": [
    {
     "data": {
      "text/plain": [
       "PosixPath('output/case2-ranks0.1.2-2023.09.08-shortestpaths.pickle')"
      ]
     },
     "execution_count": 34,
     "metadata": {},
     "output_type": "execute_result"
    }
   ],
   "source": [
    "shortest_paths_pickle = output_dir / f\"case2-ranks{'.'.join([str(i) for i in keep_edge_ranks])}-{today}-shortestpaths.pickle\"\n",
    "shortest_paths_pickle"
   ]
  },
  {
   "cell_type": "code",
   "execution_count": 35,
   "id": "c86b3d46",
   "metadata": {},
   "outputs": [],
   "source": [
    "shortest_paths = {}"
   ]
  },
  {
   "cell_type": "code",
   "execution_count": 36,
   "id": "10a558ea",
   "metadata": {
    "ExecuteTime": {
     "end_time": "2023-03-20T08:40:00.228805Z",
     "start_time": "2023-03-20T08:29:20.718260Z"
    },
    "scrolled": true
   },
   "outputs": [],
   "source": [
    "# longest_shortest_path_len = 0\n",
    "# for i, node in enumerate(ca_targets):\n",
    "\n",
    "#     if node in shortest_paths:\n",
    "#         continue\n",
    "        \n",
    "#     if node in ckn.nodes():\n",
    "#         print(i, node, end=\"\\t\")\n",
    "#     else:\n",
    "#         print(i, node, \"not in CKN\")\n",
    "#         print(\"--------------\")\n",
    "#         continue\n",
    "    \n",
    "#     node_paths = []    \n",
    "#     for source in ca_sources:\n",
    "#         try: \n",
    "#             new_paths = nx.all_shortest_paths(ckn, source=source, target=node)\n",
    "#             new_paths = [p for p in new_paths]\n",
    "#             node_paths += new_paths\n",
    "\n",
    "#         except nx.exception.NetworkXNoPath:\n",
    "#             pass\n",
    "\n",
    "#     if len(node_paths) > 0:\n",
    "#         shortest_path_of_shortest_paths = min([len(p) for p in node_paths])\n",
    "#         shortest_paths[node] = [p for p in node_paths if len(p)==shortest_path_of_shortest_paths]\n",
    "#         print(shortest_path_of_shortest_paths)\n",
    "        \n",
    "        \n",
    "#         longest_shortest_path_len = max(longest_shortest_path_len, shortest_path_of_shortest_paths)\n",
    "#     else:\n",
    "#         shortest_paths[node] = []\n",
    "#         print(\"no paths\")\n",
    "#     print(\"--------------\")\n",
    "\n",
    "# with open(shortest_paths_pickle, 'wb') as handle:\n",
    "#     pickle.dump(paths, handle, protocol=pickle.HIGHEST_PROTOCOL)"
   ]
  },
  {
   "cell_type": "code",
   "execution_count": 37,
   "id": "64520660",
   "metadata": {},
   "outputs": [],
   "source": [
    "shortest_paths_pickle = output_dir / \"case2-ranks0.1.2-2023.08.23-shortestpaths.pickle\"\n",
    "with open(shortest_paths_pickle, 'rb') as handle:\n",
    "    shortest_paths = pickle.load(handle)"
   ]
  },
  {
   "cell_type": "code",
   "execution_count": 38,
   "id": "76e44a1a",
   "metadata": {},
   "outputs": [
    {
     "name": "stdout",
     "output_type": "stream",
     "text": [
      "38\n"
     ]
    },
    {
     "data": {
      "text/plain": [
       "Text(0.5, 0, 'Shortest path length (edge count)')"
      ]
     },
     "execution_count": 38,
     "metadata": {},
     "output_type": "execute_result"
    },
    {
     "data": {
      "image/png": "[encoded data removed]",
      "text/plain": [
       "<Figure size 432x288 with 1 Axes>"
      ]
     },
     "metadata": {
      "needs_background": "light"
     },
     "output_type": "display_data"
    }
   ],
   "source": [
    "shortest_path_lens = []\n",
    "has_shortest_path = 0\n",
    "# for p in paths.values():\n",
    "#     if len(p) > 0:\n",
    "#         path_lens.append(len(p[0])-1)\n",
    "for target in shortest_paths:\n",
    "    if len(shortest_paths[target]) > 0:\n",
    "        has_shortest_path += 1\n",
    "        for path in shortest_paths[target]:\n",
    "            shortest_path_lens.append(len(path)-1)\n",
    "print(has_shortest_path)            \n",
    "sns.histplot(shortest_path_lens, stat=\"count\", discrete=True)\n",
    "plt.xlabel('Shortest path length (edge count)')   "
   ]
  },
  {
   "cell_type": "code",
   "execution_count": 39,
   "id": "60218ef9",
   "metadata": {},
   "outputs": [
    {
     "data": {
      "text/plain": [
       "218"
      ]
     },
     "execution_count": 39,
     "metadata": {},
     "output_type": "execute_result"
    }
   ],
   "source": [
    "shortest_path_nodes = set([n for path_list in shortest_paths.values() for path in path_list for n in path])\n",
    "len(shortest_path_nodes)"
   ]
  },
  {
   "cell_type": "markdown",
   "id": "06b7a9f7",
   "metadata": {},
   "source": [
    "## Paths in CKN"
   ]
  },
  {
   "cell_type": "code",
   "execution_count": 40,
   "id": "d13166a2",
   "metadata": {},
   "outputs": [
    {
     "data": {
      "text/plain": [
       "4"
      ]
     },
     "execution_count": 40,
     "metadata": {},
     "output_type": "execute_result"
    }
   ],
   "source": [
    "# length in edges\n",
    "longest_shortest_path_len = max(shortest_path_lens) \n",
    "longest_shortest_path_len"
   ]
  },
  {
   "cell_type": "code",
   "execution_count": 41,
   "id": "c2eb3367",
   "metadata": {},
   "outputs": [
    {
     "data": {
      "text/plain": [
       "PosixPath('output/case2-directed-ranks0.1.2-2023.09.08-paths.pickle')"
      ]
     },
     "execution_count": 41,
     "metadata": {},
     "output_type": "execute_result"
    }
   ],
   "source": [
    "paths_pickle = output_dir / f\"case2-directed-ranks{'.'.join([str(i) for i in keep_edge_ranks])}-{today}-paths.pickle\"\n",
    "paths_pickle"
   ]
  },
  {
   "cell_type": "code",
   "execution_count": 42,
   "id": "e4eb5da7",
   "metadata": {},
   "outputs": [],
   "source": [
    "paths = {}"
   ]
  },
  {
   "cell_type": "code",
   "execution_count": 43,
   "id": "32d25de6",
   "metadata": {
    "ExecuteTime": {
     "end_time": "2023-03-20T08:40:00.228805Z",
     "start_time": "2023-03-20T08:29:20.718260Z"
    },
    "scrolled": true
   },
   "outputs": [],
   "source": [
    "for i, node in enumerate(ca_targets):\n",
    "\n",
    "    if node in paths:\n",
    "        continue\n",
    "        \n",
    "    if node in ckn.nodes():\n",
    "        print(i, node, end=\"\\t\")\n",
    "    else:\n",
    "        print(i, node, \"not in CKN\")\n",
    "        print(\"--------------\")\n",
    "        continue\n",
    "    \n",
    "    node_paths = []    \n",
    "    for source in ca_sources:\n",
    "        try:\n",
    "            new_paths = nx.all_simple_paths(ckn, source=source, target=node, cutoff=longest_shortest_path_len)\n",
    "            new_paths = [p for p in new_paths]\n",
    "            node_paths += new_paths\n",
    "            \n",
    "        except nx.exception.NetworkXNoPath:\n",
    "            pass\n",
    "            \n",
    "\n",
    "    if len(node_paths) > 0:\n",
    "        paths[node] = [p for p in node_paths]\n",
    "        print(len(node_paths))\n",
    "    else:\n",
    "        paths[node] = []\n",
    "        print(\"no paths\")\n",
    "    print(\"--------------\")\n",
    "\n",
    "with open(paths_pickle, 'wb') as handle:\n",
    "    pickle.dump(paths, handle, protocol=pickle.HIGHEST_PROTOCOL)"
   ]
  },
  {
   "cell_type": "code",
   "execution_count": 44,
   "id": "3ad7b8a1",
   "metadata": {},
   "outputs": [],
   "source": [
    "paths_pickle = output_dir / \"case2-ranks0.1.2-2023.08.23-paths.pickle\"\n",
    "with open(paths_pickle, 'rb') as handle:\n",
    "    paths = pickle.load(handle)"
   ]
  },
  {
   "cell_type": "code",
   "execution_count": 45,
   "id": "0537c82b",
   "metadata": {},
   "outputs": [
    {
     "data": {
      "text/plain": [
       "1965"
      ]
     },
     "execution_count": 45,
     "metadata": {},
     "output_type": "execute_result"
    }
   ],
   "source": [
    "all_nodes = {n for t in paths for p in paths[t] for n in p}\n",
    "len(all_nodes)"
   ]
  },
  {
   "cell_type": "code",
   "execution_count": 46,
   "id": "3e7955e9",
   "metadata": {},
   "outputs": [
    {
     "data": {
      "text/plain": [
       "Text(0.5, 0, 'Path length')"
      ]
     },
     "execution_count": 46,
     "metadata": {},
     "output_type": "execute_result"
    },
    {
     "data": {
      "image/png": "[encoded data removed]",
      "text/plain": [
       "<Figure size 432x288 with 1 Axes>"
      ]
     },
     "metadata": {
      "needs_background": "light"
     },
     "output_type": "display_data"
    }
   ],
   "source": [
    "path_lens = []\n",
    "has_path = 0\n",
    "# for p in paths.values():\n",
    "#     if len(p) > 0:\n",
    "#         path_lens.append(len(p[0])-1)\n",
    "for target in paths:\n",
    "    if len(paths[target]) > 0:\n",
    "        has_path += 1\n",
    "        for path in paths[target]:\n",
    "            path_lens.append(len(path)-1)\n",
    "            \n",
    "sns.histplot(path_lens, stat=\"count\", discrete=True, bins=set(path_lens))\n",
    "plt.xlabel('Path length') "
   ]
  },
  {
   "cell_type": "code",
   "execution_count": 47,
   "id": "d7cebfd9",
   "metadata": {},
   "outputs": [
    {
     "data": {
      "text/plain": [
       "38"
      ]
     },
     "execution_count": 47,
     "metadata": {},
     "output_type": "execute_result"
    }
   ],
   "source": [
    "has_path"
   ]
  },
  {
   "cell_type": "code",
   "execution_count": 48,
   "id": "5df5dc73",
   "metadata": {},
   "outputs": [
    {
     "data": {
      "text/plain": [
       "{1, 2, 3, 4}"
      ]
     },
     "execution_count": 48,
     "metadata": {},
     "output_type": "execute_result"
    }
   ],
   "source": [
    "set(path_lens)"
   ]
  },
  {
   "cell_type": "code",
   "execution_count": 49,
   "id": "a290511f",
   "metadata": {},
   "outputs": [
    {
     "name": "stdout",
     "output_type": "stream",
     "text": [
      "38\n",
      "335409\n"
     ]
    }
   ],
   "source": [
    "print(len(paths))\n",
    "print(len(path_lens))"
   ]
  },
  {
   "cell_type": "markdown",
   "id": "aeabc8ad",
   "metadata": {},
   "source": [
    "## Shortest path edges"
   ]
  },
  {
   "cell_type": "code",
   "execution_count": 50,
   "id": "2ea45d5a",
   "metadata": {
    "scrolled": true
   },
   "outputs": [
    {
     "name": "stdout",
     "output_type": "stream",
     "text": [
      "0 AT3G54170\n",
      "1 AT5G54430\n",
      "2 AT3G10380\n",
      "3 AT3G60190\n",
      "4 AT3G47340\n",
      "5 AT3G56800\n",
      "6 AT2G30520\n",
      "7 AT5G18100\n",
      "8 AT3G10340\n",
      "9 AT1G66580\n",
      "10 AT5G66030\n",
      "11 AT1G45201\n",
      "12 AT1G69250\n",
      "13 AT1G13750\n",
      "14 AT5G01600\n",
      "15 AT3G50440\n",
      "16 AT3G43540\n",
      "17 AT3G43810\n",
      "18 AT5G21274\n",
      "19 AT5G53530\n",
      "20 AT3G15090\n",
      "21 AT3G53260\n",
      "22 AT2G02100\n",
      "23 AT2G41110\n",
      "24 AT3G57870\n",
      "25 AT2G13440\n",
      "26 AT4G20760\n",
      "27 AT3G16240\n",
      "28 AT2G27030\n",
      "29 AT4G17830\n",
      "30 AT4G30490\n",
      "31 AT4G23650\n",
      "32 AT5G54180\n",
      "33 AT5G56260\n",
      "34 AT1G29690\n",
      "35 AT3G07630\n",
      "36 AT3G43270\n",
      "37 AT3G07660\n"
     ]
    }
   ],
   "source": [
    "shortest_path_target = defaultdict(list)\n",
    "shortest_path_edges = []\n",
    "for i, (node, path_list) in enumerate(shortest_paths.items()):\n",
    "    for path in path_list:\n",
    "        for s, t in zip(path, path[1:]):\n",
    "            for (u, v) in ckn.edges():\n",
    "                if (u==s) and (v==t):\n",
    "                    shortest_path_edges.append((u, v))\n",
    "                    shortest_path_target[(u, v)].append(node)\n",
    "    print(i, node)"
   ]
  },
  {
   "cell_type": "markdown",
   "id": "5688b216",
   "metadata": {},
   "source": [
    "# Cuts on the merged shortest paths"
   ]
  },
  {
   "cell_type": "code",
   "execution_count": 56,
   "id": "bff1b4da",
   "metadata": {},
   "outputs": [],
   "source": [
    "path_graph = nx.edge_subgraph(ckn, edges=shortest_path_edges).copy()"
   ]
  },
  {
   "cell_type": "code",
   "execution_count": 57,
   "id": "0f35b707",
   "metadata": {},
   "outputs": [],
   "source": [
    "# high rank more likely to be cut      \n",
    "for u, v, d in path_graph.edges(data=True):\n",
    "    d['capacity'] = int(d['rank']) + 1\n"
   ]
  },
  {
   "cell_type": "code",
   "execution_count": 58,
   "id": "a86229e7",
   "metadata": {},
   "outputs": [],
   "source": [
    "# # alternatively: high rank less likly to be cut    \n",
    "# basis_capacity = max([d['rank'] for u, v, d in source_sink_graph.edgeas(data=True)])\n",
    "# for u, v, d in source_sink_graph.edges(data=True):\n",
    "#     d['capacity'] = basis_capacity - int(d['rank'])"
   ]
  },
  {
   "cell_type": "code",
   "execution_count": 59,
   "id": "aee97272",
   "metadata": {},
   "outputs": [],
   "source": [
    "from skm_tools import cuts"
   ]
  },
  {
   "cell_type": "code",
   "execution_count": 182,
   "id": "7ee675e9",
   "metadata": {},
   "outputs": [
    {
     "name": "stdout",
     "output_type": "stream",
     "text": [
      "max_flow = 125\n",
      "True\n"
     ]
    }
   ],
   "source": [
    "cutset = cuts.get_cutset(ca_sources, ca_targets, path_graph)"
   ]
  },
  {
   "cell_type": "code",
   "execution_count": 64,
   "id": "67502c97",
   "metadata": {
    "scrolled": true
   },
   "outputs": [
    {
     "name": "stdout",
     "output_type": "stream",
     "text": [
      "AT3G54170\n",
      "max_flow = 6\n",
      "True\n",
      "AT2G30520\n",
      "max_flow = 2\n",
      "True\n",
      "AT5G54180\n",
      "max_flow = 2\n",
      "True\n",
      "AT2G02100\n",
      "max_flow = 2\n",
      "True\n",
      "AT3G10340\n",
      "max_flow = 17\n",
      "True\n",
      "AT5G01600\n",
      "max_flow = 3\n",
      "True\n",
      "AT3G16240\n",
      "max_flow = 9\n",
      "True\n",
      "AT1G66580\n",
      "max_flow = 7\n",
      "True\n",
      "AT4G17830\n",
      "max_flow = 3\n",
      "True\n",
      "AT3G43270\n",
      "max_flow = 3\n",
      "True\n",
      "AT3G15090\n",
      "max_flow = 3\n",
      "True\n",
      "AT5G53530\n",
      "max_flow = 9\n",
      "True\n",
      "AT1G45201\n",
      "max_flow = 3\n",
      "True\n",
      "AT4G30490\n",
      "max_flow = 17\n",
      "True\n",
      "AT3G43540\n",
      "max_flow = 3\n",
      "True\n",
      "AT1G69250\n",
      "max_flow = 3\n",
      "True\n",
      "AT5G18100\n",
      "max_flow = 2\n",
      "True\n",
      "AT3G53260\n",
      "max_flow = 8\n",
      "True\n",
      "AT4G20760\n",
      "max_flow = 6\n",
      "True\n",
      "AT5G56260\n",
      "max_flow = 6\n",
      "True\n",
      "AT1G13750\n",
      "max_flow = 5\n",
      "True\n",
      "AT3G50440\n",
      "max_flow = 3\n",
      "True\n",
      "AT3G07660\n",
      "max_flow = 3\n",
      "True\n",
      "AT3G07630\n",
      "max_flow = 3\n",
      "True\n",
      "AT3G57870\n",
      "max_flow = 6\n",
      "True\n",
      "AT5G54430\n",
      "max_flow = 4\n",
      "True\n",
      "AT3G10380\n",
      "max_flow = 7\n",
      "True\n",
      "AT3G60190\n",
      "max_flow = 2\n",
      "True\n",
      "AT2G13440\n",
      "max_flow = 2\n",
      "True\n",
      "AT3G47340\n",
      "max_flow = 5\n",
      "True\n",
      "AT1G29690\n",
      "max_flow = 2\n",
      "True\n",
      "AT5G66030\n",
      "max_flow = 3\n",
      "True\n"
     ]
    }
   ],
   "source": [
    "all_cut_sets = {}\n",
    "for target in ca_targets:\n",
    "    if (path_graph.has_node(target)) and not (target in ca_sources):\n",
    "        print(target)\n",
    "        this_cutset = cuts.get_cutset(ca_sources, [target], path_graph)\n",
    "        all_cut_sets[target] = this_cutset"
   ]
  },
  {
   "cell_type": "markdown",
   "id": "80b1354c",
   "metadata": {},
   "source": [
    "# Context graph"
   ]
  },
  {
   "cell_type": "code",
   "execution_count": 66,
   "id": "66459632",
   "metadata": {},
   "outputs": [],
   "source": [
    "more_nodes = set()\n",
    "for node in ca_sources:\n",
    "    more_nodes.update([x for x in nx.neighbors(ckn.to_undirected(), node)])\n",
    "for node in ca_targets:\n",
    "    more_nodes.update([x for x in nx.neighbors(ckn.to_undirected(), node)])    "
   ]
  },
  {
   "cell_type": "code",
   "execution_count": 67,
   "id": "2b628fd3",
   "metadata": {},
   "outputs": [
    {
     "name": "stdout",
     "output_type": "stream",
     "text": [
      "996\n"
     ]
    }
   ],
   "source": [
    "print(len(more_nodes))"
   ]
  },
  {
   "cell_type": "code",
   "execution_count": 68,
   "id": "8324cd65",
   "metadata": {},
   "outputs": [],
   "source": [
    "nodes_and_neighbours = set()\n",
    "nodes_and_neighbours.update(all_nodes)\n",
    "nodes_and_neighbours.update(more_nodes)"
   ]
  },
  {
   "cell_type": "code",
   "execution_count": 69,
   "id": "f6244a10",
   "metadata": {},
   "outputs": [
    {
     "name": "stdout",
     "output_type": "stream",
     "text": [
      "\n",
      "Number of nodes: 2119\n",
      "Number of edges: 30189\n"
     ]
    }
   ],
   "source": [
    "context_graph = nx.induced_subgraph(ckn, nodes_and_neighbours).copy()\n",
    "print(f\"\\nNumber of nodes: {context_graph.number_of_nodes()}\\nNumber of edges: {context_graph.number_of_edges()}\")"
   ]
  },
  {
   "cell_type": "code",
   "execution_count": 70,
   "id": "00c02a13",
   "metadata": {},
   "outputs": [],
   "source": [
    "node_prot_data = df_data.loc[[x for x in context_graph.nodes() if x in df_data.index]]"
   ]
  },
  {
   "cell_type": "code",
   "execution_count": 72,
   "id": "35b4dbf8",
   "metadata": {},
   "outputs": [],
   "source": [
    "nx.set_node_attributes(context_graph, node_prot_data.to_dict('index'))"
   ]
  },
  {
   "cell_type": "markdown",
   "id": "2a40b399",
   "metadata": {},
   "source": [
    "# Table attributes from the networks"
   ]
  },
  {
   "cell_type": "code",
   "execution_count": 203,
   "id": "940dabc2",
   "metadata": {},
   "outputs": [],
   "source": [
    "node_attributes = defaultdict(dict)"
   ]
  },
  {
   "cell_type": "code",
   "execution_count": 208,
   "id": "1454a2a3",
   "metadata": {
    "scrolled": true
   },
   "outputs": [],
   "source": [
    "for node in all_nodes:\n",
    "    node_attributes[node]['in-cutset'] = 0\n",
    "\n",
    "for target in ca_targets:\n",
    "    if (path_graph.has_node(target)) and not (target in ca_sources):\n",
    "        this_cutset = all_cut_sets[target]\n",
    "    \n",
    "        for u, v in this_cutset:\n",
    "            node_attributes[u]['in-cutset'] += 1\n",
    "            node_attributes[v]['in-cutset'] += 1\n",
    "\n",
    "            \n",
    "for target in ca_targets:\n",
    "    if (path_graph.has_node(target)) and not (target in ca_sources):\n",
    "        this_cutset = all_cut_sets[target]\n",
    "        node_attributes[target]['number-cuts'] = len(this_cutset)            "
   ]
  },
  {
   "cell_type": "code",
   "execution_count": 225,
   "id": "b8bcc641",
   "metadata": {},
   "outputs": [],
   "source": [
    "d = pd.DataFrame.from_dict(node_attributes, orient='index')[['in-degree', 'out-degree']]\n"
   ]
  },
  {
   "cell_type": "code",
   "execution_count": 226,
   "id": "54e4053b",
   "metadata": {},
   "outputs": [
    {
     "data": {
      "text/plain": [
       "in-degree     0\n",
       "out-degree    5\n",
       "Name: AT5G47100, dtype: int64"
      ]
     },
     "execution_count": 226,
     "metadata": {},
     "output_type": "execute_result"
    }
   ],
   "source": [
    "d.loc['AT5G47100']"
   ]
  },
  {
   "cell_type": "code",
   "execution_count": 223,
   "id": "aed39079",
   "metadata": {},
   "outputs": [
    {
     "data": {
      "text/plain": [
       "False"
      ]
     },
     "execution_count": 223,
     "metadata": {},
     "output_type": "execute_result"
    }
   ],
   "source": [
    "type(i_d) ==int"
   ]
  },
  {
   "cell_type": "code",
   "execution_count": null,
   "id": "12227485",
   "metadata": {},
   "outputs": [],
   "source": []
  },
  {
   "cell_type": "code",
   "execution_count": 227,
   "id": "404a1a05",
   "metadata": {},
   "outputs": [],
   "source": [
    "d.to_csv(\"temp.tsv\", sep=\"\\t\")"
   ]
  },
  {
   "cell_type": "code",
   "execution_count": null,
   "id": "c7b8a4f3",
   "metadata": {},
   "outputs": [],
   "source": []
  },
  {
   "cell_type": "code",
   "execution_count": 212,
   "id": "24c9d86a",
   "metadata": {},
   "outputs": [
    {
     "data": {
      "text/plain": [
       "5"
      ]
     },
     "execution_count": 212,
     "metadata": {},
     "output_type": "execute_result"
    }
   ],
   "source": [
    "path_graph.out_degree('AT5G47100')"
   ]
  },
  {
   "cell_type": "code",
   "execution_count": 224,
   "id": "c1fd9da0",
   "metadata": {},
   "outputs": [],
   "source": [
    "for node in all_nodes:\n",
    "    i_d = path_graph.in_degree(node) \n",
    "    o_d = path_graph.out_degree(node)\n",
    "    node_attributes[node]['in-degree'] = i_d if type(i_d) ==int else 0\n",
    "    node_attributes[node]['out-degree'] = o_d if type(o_d) ==int else 0\n",
    "\n",
    "    node_attributes[node]['number_shortest_paths'] = 0\n",
    "    for path_target in shortest_paths:\n",
    "        for this_paths in shortest_paths[path_target]:\n",
    "            if node in this_paths:\n",
    "                node_attributes[node]['number_shortest_paths'] += 1  "
   ]
  },
  {
   "cell_type": "code",
   "execution_count": null,
   "id": "52949fa0",
   "metadata": {},
   "outputs": [],
   "source": []
  },
  {
   "cell_type": "code",
   "execution_count": null,
   "id": "41a1263b",
   "metadata": {},
   "outputs": [],
   "source": []
  },
  {
   "cell_type": "code",
   "execution_count": null,
   "id": "1f857b52",
   "metadata": {},
   "outputs": [],
   "source": []
  },
  {
   "cell_type": "code",
   "execution_count": 76,
   "id": "3689f9f7",
   "metadata": {},
   "outputs": [],
   "source": [
    "for node in ca_sources:\n",
    "    if not (node in all_nodes):\n",
    "        continue\n",
    "    node_attributes[node]['targets_per_source'] = 0\n",
    "    node_attributes[node]['reason'] = \"source\"\n",
    "    for path_target in shortest_paths:\n",
    "        for this_paths in shortest_paths[path_target]:\n",
    "            if node in this_paths:\n",
    "                node_attributes[node]['targets_per_source'] += 1"
   ]
  },
  {
   "cell_type": "code",
   "execution_count": 77,
   "id": "73464eb2",
   "metadata": {},
   "outputs": [],
   "source": [
    "for node in ca_targets:\n",
    "    node_attributes[node]['reason'] = \"target\"\n",
    "\n",
    "    number_sources = len({p[0] for p in shortest_paths[node]})\n",
    "    node_attributes[node]['sources_per_target'] = number_sources\n",
    "    node_attributes[node]['sources'] = list({p[0] for p in shortest_paths[node]})"
   ]
  },
  {
   "cell_type": "code",
   "execution_count": 78,
   "id": "f3f0b55d",
   "metadata": {},
   "outputs": [],
   "source": [
    "for target_node in shortest_paths:\n",
    "    node_attributes[target_node][f'disjoint-shortest-path-from-any-source'] = 0\n",
    "    for source_node in {p[0] for p in shortest_paths[target_node]}:\n",
    "        if source_node == target_node:\n",
    "            continue\n",
    "#         node_attributes[target_node][f'disjoint-shortest-path-from-{source_node}'] = len([x for x in nx.edge_disjoint_paths(path_graph, source_node, target_node)])\n",
    "        node_attributes[target_node][f'disjoint-shortest-path-from-any-source'] += len([x for x in nx.edge_disjoint_paths(path_graph, source_node, target_node)])"
   ]
  },
  {
   "cell_type": "code",
   "execution_count": 79,
   "id": "5d6db207",
   "metadata": {},
   "outputs": [],
   "source": [
    "nx.set_node_attributes(context_graph, node_attributes)"
   ]
  },
  {
   "cell_type": "code",
   "execution_count": 80,
   "id": "34122acd",
   "metadata": {},
   "outputs": [],
   "source": [
    "nx.set_edge_attributes(context_graph, shortest_path_target, \"path-target-nodes\")\n",
    "nx.set_edge_attributes(context_graph, {n:True for n in shortest_path_target}, \"on-shortest-path\")"
   ]
  },
  {
   "cell_type": "markdown",
   "id": "5ee50b0c",
   "metadata": {},
   "source": [
    "# Cytoscape\n",
    "\n",
    "Load the required library, and make sure you can connect to Cytoscape. \n",
    "\n",
    "More py4cytoscape documentation is here: https://py4cytoscape.readthedocs.io/"
   ]
  },
  {
   "cell_type": "code",
   "execution_count": 81,
   "id": "9802eca1",
   "metadata": {},
   "outputs": [
    {
     "name": "stdout",
     "output_type": "stream",
     "text": [
      "You are connected to Cytoscape!\n"
     ]
    }
   ],
   "source": [
    "import py4cytoscape as p4c\n",
    "p4c.cytoscape_ping();"
   ]
  },
  {
   "cell_type": "code",
   "execution_count": 82,
   "id": "4a0adeef",
   "metadata": {},
   "outputs": [],
   "source": [
    "from skm_tools import cytoscape_utils"
   ]
  },
  {
   "cell_type": "markdown",
   "id": "c5d18b02",
   "metadata": {},
   "source": [
    "We set the Cytoscape collection name for this notebook. "
   ]
  },
  {
   "cell_type": "code",
   "execution_count": 83,
   "id": "d6bc3ee4",
   "metadata": {},
   "outputs": [
    {
     "data": {
      "text/plain": [
       "'Case 2: CKN ranks 0|1|2 (2023.09.08)'"
      ]
     },
     "execution_count": 83,
     "metadata": {},
     "output_type": "execute_result"
    }
   ],
   "source": [
    "COLLECTION = f\"Case 2: CKN ranks {'|'.join([str(i) for i in keep_edge_ranks])} ({today})\"\n",
    "COLLECTION"
   ]
  },
  {
   "cell_type": "code",
   "execution_count": 88,
   "id": "01017a29",
   "metadata": {},
   "outputs": [],
   "source": [
    "ckn_network_suid = p4c.networks.create_network_from_networkx(\n",
    "        context_graph, \n",
    "        title=f\"Merged paths (len {longest_shortest_path_len}) and st neighbours (node induced) ranks {'|'.join([str(i) for i in keep_edge_ranks])}\", \n",
    "        collection=COLLECTION\n",
    ")\n",
    "cytoscape_utils.apply_builtin_style(ckn_network_suid, 'ckn')\n",
    "p4c.layout_network(\"cose\", network=ckn_network_suid)\n",
    "ckn_network_suid"
   ]
  },
  {
   "cell_type": "code",
   "execution_count": 85,
   "id": "dcabc2f1",
   "metadata": {},
   "outputs": [],
   "source": [
    "cytoscape_utils.highlight_nodes(\n",
    "    ca_sources,\n",
    "    border_color=\"#E70084\",\n",
    "    border_width=25,\n",
    "    node_height=80,\n",
    "    node_width=80,\n",
    "    network=ckn_network_suid    \n",
    ")"
   ]
  },
  {
   "cell_type": "code",
   "execution_count": 86,
   "id": "c9f23921",
   "metadata": {},
   "outputs": [],
   "source": [
    "cytoscape_utils.highlight_nodes(\n",
    "    ca_targets,\n",
    "    colour=\"#13713C\",\n",
    "    label_color='white',\n",
    "    node_height=80,\n",
    "    node_width=80,\n",
    "    network=ckn_network_suid    \n",
    ")"
   ]
  },
  {
   "cell_type": "code",
   "execution_count": 95,
   "id": "65410d18",
   "metadata": {},
   "outputs": [],
   "source": [
    "shortest_paths_suid = cytoscape_utils.subnetwork_edge_induced_from_paths(\n",
    "    [paths for target in shortest_paths for paths in shortest_paths[target]], \n",
    "    context_graph, \n",
    "    ckn_network_suid, \n",
    "    name=\"Shorted paths (edge induced)\"\n",
    ")"
   ]
  },
  {
   "cell_type": "code",
   "execution_count": 103,
   "id": "3cef4cdc",
   "metadata": {},
   "outputs": [
    {
     "data": {
      "text/plain": [
       "{'mappedNodeCount': 218, 'unmappedNodeCount': 0}"
      ]
     },
     "execution_count": 103,
     "metadata": {},
     "output_type": "execute_result"
    }
   ],
   "source": [
    "graph_node_induced_suid = cytoscape_utils.subnetwork_node_induced(\n",
    "    shortest_path_nodes, \n",
    "    ckn_network_suid,\n",
    "    name=f\"Shortest paths (node induced)\"\n",
    ")\n",
    "p4c.layout_copycat(shortest_paths_suid, graph_node_induced_suid)"
   ]
  },
  {
   "cell_type": "markdown",
   "id": "05d516fd",
   "metadata": {},
   "source": [
    "## Cuts"
   ]
  },
  {
   "cell_type": "code",
   "execution_count": 96,
   "id": "b7fed044",
   "metadata": {},
   "outputs": [],
   "source": [
    "shortest_paths_with_cuts_suid = cytoscape_utils.subnetwork_edge_induced_from_paths(\n",
    "    [paths for target in shortest_paths for paths in shortest_paths[target]], \n",
    "    context_graph, \n",
    "    ckn_network_suid, \n",
    "    name=\"Shorted paths (edge induced) with_cuts\"\n",
    ")"
   ]
  },
  {
   "cell_type": "code",
   "execution_count": 98,
   "id": "cb8e1f41",
   "metadata": {},
   "outputs": [
    {
     "name": "stdout",
     "output_type": "stream",
     "text": [
      "AT3G54170 red [('AT1G31880', 'AT3G54170'), ('AT1G54770', 'AT3G54170')]\n",
      "AT2G30520 red [('AT2G42580', 'AT2G30520')]\n",
      "AT5G54180 red [('AT4G13670', 'AT5G54180')]\n",
      "AT2G02100 red [('AT2G01760', 'AT2G02100')]\n",
      "AT3G10340 red [('AT1G15670', 'AT3G10340'), ('AT2G37040', 'AT3G10340'), ('AT5G15210', 'AT3G10340'), ('AT5G44210', 'AT3G10340'), ('AT5G47220', 'AT3G10340'), ('AT5G60690', 'AT3G10340')]\n",
      "AT5G01600 red [('AT2G43010', 'AT5G01600')]\n",
      "AT3G16240 red [('AT4G19030', 'AT3G16240'), ('AT4G35580', 'AT3G16240'), ('AT5G22290', 'AT3G16240')]\n",
      "AT1G66580 red [('AT1G14320', 'AT1G66580'), ('AT1G48830', 'AT1G66580'), ('AT1G76810', 'AT1G66580')]\n",
      "AT4G17830 red [('AT3G20770', 'AT4G17830')]\n",
      "AT3G43270 red [('AT2G43010', 'AT3G43270')]\n",
      "AT3G15090 red [('AT5G47100', 'AT3G15090')]\n",
      "AT5G53530 red [('AT1G53720', 'AT5G53530'), ('AT1G66150', 'AT5G53530'), ('AT3G17840', 'AT3G51310'), ('AT4G27690', 'AT5G53530')]\n",
      "AT1G45201 red [('AT5G61850', 'AT1G45201')]\n",
      "AT4G30490 red [('AT3G01280', 'AT4G30490'), ('AT3G27960', 'AT4G30490'), ('AT3G49580', 'AT4G30490'), ('AT4G37790', 'AT4G30490'), ('AT5G08080', 'AT4G30490'), ('AT5G22290', 'AT4G30490')]\n",
      "AT3G43540 red [('AT2G43010', 'AT3G43540')]\n",
      "AT1G69250 red [('AT5G65210', 'AT1G69250')]\n",
      "AT5G18100 red [('AT1G12520', 'AT5G18100')]\n",
      "AT3G53260 red [('AT1G15670', 'AT3G53260'), ('AT4G38620', 'AT3G53260'), ('AT5G22630', 'AT3G53260')]\n",
      "AT4G20760 red [('AT5G28770', 'AT4G20760'), ('AT5G65210', 'AT4G20760')]\n",
      "AT5G56260 red [('AT1G02690', 'AT5G56260'), ('AT5G61850', 'AT5G56260')]\n",
      "AT1G13750 red [('AT2G01950', 'AT1G13750'), ('AT4G37790', 'AT1G13750')]\n",
      "AT3G50440 red [('AT2G43010', 'AT3G50440')]\n",
      "AT3G07660 red [('AT1G50030', 'AT3G07660')]\n",
      "AT3G07630 red [('AT1G15710', 'AT3G07630')]\n",
      "AT3G57870 red [('AT3G47620', 'AT3G57870'), ('AT4G26270', 'AT3G57870')]\n",
      "AT5G54430 red [('AT2G43790', 'AT5G54430'), ('AT3G45640', 'AT5G54430')]\n",
      "AT3G10380 red [('AT4G09570', 'AT1G76850'), ('AT5G03540', 'AT3G10380'), ('AT5G61010', 'AT3G10380')]\n",
      "AT3G60190 red [('AT5G44560', 'AT3G60190')]\n",
      "AT2G13440 red [('AT4G26840', 'AT2G13440')]\n",
      "AT3G47340 red [('AT1G69490', 'AT3G47340'), ('AT5G61850', 'AT3G47340')]\n",
      "AT1G29690 red [('AT4G01370', 'AT2G38470')]\n",
      "AT5G66030 red [('AT3G18480', 'AT5G66030')]\n"
     ]
    }
   ],
   "source": [
    "for (target, cutset) in all_cut_sets.items():\n",
    "    print(target, 'red', cutset)\n",
    "    _ = cytoscape_utils.highlight_edges(cutset, 'red')"
   ]
  },
  {
   "cell_type": "markdown",
   "id": "15fdb61a",
   "metadata": {},
   "source": [
    "## Grouping source type"
   ]
  },
  {
   "cell_type": "code",
   "execution_count": 106,
   "id": "3f5a4478",
   "metadata": {},
   "outputs": [],
   "source": [
    "# functions to extract subgraph based on sources \n",
    "\n",
    "def list_overlap(a, b):\n",
    "    return len(a.intersection(b)) > 0\n",
    "\n",
    "def subnet_from_sources(sources):\n",
    "    s_paths = []\n",
    "    for node in ca_targets:\n",
    "        if list_overlap(set(node_attributes[node]['sources']), sources):\n",
    "            for p in shortest_paths[node]:\n",
    "                if p[0] in sources:\n",
    "                    s_paths.append(p)\n",
    "    return s_paths\n",
    "    "
   ]
  },
  {
   "cell_type": "code",
   "execution_count": 104,
   "id": "c486474b",
   "metadata": {},
   "outputs": [],
   "source": [
    "cams = set([\n",
    "    'AT5G37780',\n",
    "    'AT2G41110',\n",
    "    'AT3G56800',\n",
    "    'AT1G66410',\n",
    "    'AT2G27030',\n",
    "    'AT5G21274',\n",
    "    'AT3G43810',\n",
    "    'AT4G14640',\n",
    "    'AT3G51920',\n",
    "    'AT2G41010',\n",
    "])\n",
    "\n",
    "cbls = set([\n",
    "    'AT5G47100',\n",
    "    'AT4G26570',\n",
    "    'AT5G55990',\n",
    "    'AT5G24270',\n",
    "    'AT4G17615'\n",
    "])\n",
    "\n",
    "cmls = set([\n",
    "'AT2G41410',\n",
    "'AT3G50770',\n",
    "'AT3G29310',\n",
    "'AT1G66400',\n",
    "'AT3G22930',\n",
    "'AT2G41090',\n",
    "'AT3G03000',\n",
    "'AT4G38810'        \n",
    "])\n",
    "\n",
    "cdpks = set([\n",
    "    'AT4G23650',\n",
    "    'AT4G09570',\n",
    "    'AT1G74740',\n",
    "    'AT1G76040',\n",
    "    'AT1G35670',\n",
    "    'AT5G19450',\n",
    "    'AT5G04870'    \n",
    "])"
   ]
  },
  {
   "cell_type": "code",
   "execution_count": 108,
   "id": "c7c8f9b2",
   "metadata": {},
   "outputs": [],
   "source": [
    "shortest_paths_with_cuts_suid = 65452"
   ]
  },
  {
   "cell_type": "code",
   "execution_count": 109,
   "id": "a5301b53",
   "metadata": {},
   "outputs": [],
   "source": [
    "for label, list_with_label in [(\"CAMs\", cams), \n",
    "                               (\"CBLs\", cbls),\n",
    "                               (\"CMLs\", cmls), \n",
    "                               (\"CDPKs\", cdpks)\n",
    "                              ]:\n",
    "    paths_from_label = subnet_from_sources(list_with_label)\n",
    "    label_graph_edge_induced = cytoscape_utils.subnetwork_edge_induced_from_paths(\n",
    "        paths_from_label, \n",
    "        context_graph,\n",
    "        shortest_paths_with_cuts_suid,\n",
    "        name=f\"{label} - shortest paths merged (edge induced)\"\n",
    "    )\n"
   ]
  },
  {
   "cell_type": "markdown",
   "id": "62da567f",
   "metadata": {},
   "source": [
    "## Layout by groups\n",
    "\n",
    "Using graphiz via pygraphvis (in networkx)"
   ]
  },
  {
   "cell_type": "code",
   "execution_count": 147,
   "id": "66c63d1a",
   "metadata": {},
   "outputs": [],
   "source": [
    "A = nx.nx_agraph.to_agraph(path_graph)\n",
    "\n",
    "for label, list_with_label in [(\"CAMs\", cams), \n",
    "                               (\"CBLs\", cbls),\n",
    "                               (\"CMLs\", cmls), \n",
    "                               (\"CDPKs\", cdpks)\n",
    "                              ]:\n",
    "    _ = A.add_subgraph(list_with_label, name=label, rank=\"same\")\n",
    "\n",
    "A.layout(prog=\"dot\")  # use dot"
   ]
  },
  {
   "cell_type": "code",
   "execution_count": 148,
   "id": "f7205257",
   "metadata": {},
   "outputs": [],
   "source": [
    "coords = {}\n",
    "for id_ in A.nodes_iter():\n",
    "    n = A.get_node(id_)\n",
    "    c = [float(x) for x in n.attr['pos'].split(',')]\n",
    "    coords[id_] = (c[0], -c[1]*10)"
   ]
  },
  {
   "cell_type": "code",
   "execution_count": 149,
   "id": "85a61950",
   "metadata": {},
   "outputs": [
    {
     "data": {
      "text/html": [
       "<div>\n",
       "<style scoped>\n",
       "    .dataframe tbody tr th:only-of-type {\n",
       "        vertical-align: middle;\n",
       "    }\n",
       "\n",
       "    .dataframe tbody tr th {\n",
       "        vertical-align: top;\n",
       "    }\n",
       "\n",
       "    .dataframe thead th {\n",
       "        text-align: right;\n",
       "    }\n",
       "</style>\n",
       "<table border=\"1\" class=\"dataframe\">\n",
       "  <thead>\n",
       "    <tr style=\"text-align: right;\">\n",
       "      <th></th>\n",
       "      <th>x</th>\n",
       "      <th>y</th>\n",
       "    </tr>\n",
       "  </thead>\n",
       "  <tbody>\n",
       "    <tr>\n",
       "      <th>AT3G43810</th>\n",
       "      <td>3077.9</td>\n",
       "      <td>-3060.0</td>\n",
       "    </tr>\n",
       "    <tr>\n",
       "      <th>AT3G51920</th>\n",
       "      <td>2699.9</td>\n",
       "      <td>-3060.0</td>\n",
       "    </tr>\n",
       "    <tr>\n",
       "      <th>AT3G56800</th>\n",
       "      <td>2951.9</td>\n",
       "      <td>-3060.0</td>\n",
       "    </tr>\n",
       "    <tr>\n",
       "      <th>AT4G14640</th>\n",
       "      <td>2258.9</td>\n",
       "      <td>-3060.0</td>\n",
       "    </tr>\n",
       "    <tr>\n",
       "      <th>AT5G21274</th>\n",
       "      <td>2573.9</td>\n",
       "      <td>-3060.0</td>\n",
       "    </tr>\n",
       "  </tbody>\n",
       "</table>\n",
       "</div>"
      ],
      "text/plain": [
       "                x       y\n",
       "AT3G43810  3077.9 -3060.0\n",
       "AT3G51920  2699.9 -3060.0\n",
       "AT3G56800  2951.9 -3060.0\n",
       "AT4G14640  2258.9 -3060.0\n",
       "AT5G21274  2573.9 -3060.0"
      ]
     },
     "execution_count": 149,
     "metadata": {},
     "output_type": "execute_result"
    }
   ],
   "source": [
    "table = pd.DataFrame.from_dict(coords, orient='index')\n",
    "table.columns = ['x', 'y']\n",
    "table.head()"
   ]
  },
  {
   "cell_type": "code",
   "execution_count": 154,
   "id": "c2e17f61",
   "metadata": {},
   "outputs": [],
   "source": [
    "relayout_suid = cytoscape_utils.subnetwork_edge_induced_from_paths(\n",
    "    [paths for target in shortest_paths for paths in shortest_paths[target]], \n",
    "    context_graph, \n",
    "    ckn_network_suid, \n",
    "    name=\"Shorted paths (edge induced), graphviz layout\"\n",
    ")"
   ]
  },
  {
   "cell_type": "code",
   "execution_count": 157,
   "id": "f48ce03f",
   "metadata": {},
   "outputs": [],
   "source": [
    "cytoscape_utils.layout_from_coords(relayout_suid, table)"
   ]
  },
  {
   "cell_type": "markdown",
   "id": "6a021c0a",
   "metadata": {},
   "source": [
    "## View proteomics data"
   ]
  },
  {
   "cell_type": "code",
   "execution_count": 159,
   "id": "8c86a091",
   "metadata": {},
   "outputs": [
    {
     "data": {
      "text/plain": [
       "{'mappedNodeCount': 218, 'unmappedNodeCount': 0}"
      ]
     },
     "execution_count": 159,
     "metadata": {},
     "output_type": "execute_result"
    }
   ],
   "source": [
    "prot_suid = cytoscape_utils.subnetwork_edge_induced_from_paths(\n",
    "    [paths for target in shortest_paths for paths in shortest_paths[target]], \n",
    "    context_graph, \n",
    "    ckn_network_suid, \n",
    "    name=\"Shorted paths (edge induced), graphviz layout, with heatmap\"\n",
    ")\n",
    "p4c.layout_copycat(relayout_suid, prot_suid)"
   ]
  },
  {
   "cell_type": "code",
   "execution_count": 161,
   "id": "d3a4196c",
   "metadata": {},
   "outputs": [
    {
     "data": {
      "text/plain": [
       "{'message': 'Visual Style applied.'}"
      ]
     },
     "execution_count": 161,
     "metadata": {},
     "output_type": "execute_result"
    }
   ],
   "source": [
    "new_style = 'CKN-proteomics'\n",
    "p4c.copy_visual_style('CKN-default', new_style)\n",
    "p4c.set_visual_style(new_style, network=prot_suid)"
   ]
  },
  {
   "cell_type": "markdown",
   "id": "cbe0f4f6",
   "metadata": {},
   "source": [
    "Below function creates a png for a node, based on the proteomics abundancy data"
   ]
  },
  {
   "cell_type": "code",
   "execution_count": 177,
   "id": "ddedcb91",
   "metadata": {},
   "outputs": [],
   "source": [
    "import matplotlib.pyplot as plt\n",
    "import numpy as np\n",
    "\n",
    "fig_data = [\n",
    "    ['Mock|Mock vs Mock|H2O2 (10 min)', 'La3+|Mock vs La3+|H2O2 (10 min)'],\n",
    "    ['Mock|Mock vs Mock|H2O2 (30 min)', 'La3+|Mock vs La3+|H2O2 (30 min)']\n",
    "]\n",
    "\n",
    "log_FC_suffix = ' log-FC'\n",
    "pvalue_suffix = ' p-value'\n",
    "pvalue_cutoff = 0.05\n",
    "\n",
    "fig_data = np.array(fig_data)  \n",
    "\n",
    "node_png_dir = output_dir / \"node_png\"\n",
    "if not node_png_dir.exists():\n",
    "    node_png_dir.mkdir()\n",
    "\n",
    "def create_png(node):\n",
    "   \n",
    "    if not (node in df_data.index):\n",
    "        return None\n",
    "\n",
    "    plt.figure()\n",
    "    plt.axis('off')\n",
    "    \n",
    "    r = node_prot_data.loc[node]\n",
    "    a = np.array([\n",
    "        [r[fig_data[0, 0]+log_FC_suffix], r[fig_data[0, 1]+log_FC_suffix]],\n",
    "        [r[fig_data[1, 0]+log_FC_suffix], r[fig_data[1, 1]+log_FC_suffix]],\n",
    "    ])\n",
    "    \n",
    "    p = np.array([\n",
    "        [r[fig_data[0, 0]+pvalue_suffix], r[fig_data[0, 1]+pvalue_suffix]],\n",
    "        [r[fig_data[1, 0]+pvalue_suffix], r[fig_data[1, 1]+pvalue_suffix]],\n",
    "    ])\n",
    "    \n",
    "    # functions plot from bottom to top\n",
    "    a = np.flipud(a)\n",
    "    p = np.flipud(p)\n",
    "\n",
    "    fig =plt.pcolormesh(\n",
    "        a, # plots from bottom\n",
    "        cmap='bwr',\n",
    "        vmin=-1, vmax=1,\n",
    "        edgecolors='k', linewidth=4\n",
    "    )\n",
    "    fig.cmap.set_bad('lightgrey')\n",
    "    \n",
    "    for x, y in [[0, 0], [0, 1], [1,0], [1,1]]:\n",
    "        if p[x, y] < 0.05:\n",
    "            plt.plot(y + 0.5, x + 0.5, \n",
    "                     marker=(6, 2, 0), \n",
    "                     markersize=30, \n",
    "                     markeredgecolor=\"white\", \n",
    "                     markeredgewidth=5)\n",
    "         \n",
    "    plt.gca().set_aspect('equal')\n",
    "\n",
    "    node_png_fname = node_png_dir / f'{node}.png'\n",
    "    plt.savefig(node_png_fname,bbox_inches='tight',transparent=True, pad_inches=0)\n",
    "    plt.close()\n",
    "    return node_png_fname\n",
    "    \n",
    "    \n",
    "    "
   ]
  },
  {
   "cell_type": "code",
   "execution_count": 178,
   "id": "acbd5964",
   "metadata": {},
   "outputs": [],
   "source": [
    "cytoscape_utils.add_custom_png(prot_file, create_png, style=None)"
   ]
  },
  {
   "cell_type": "code",
   "execution_count": null,
   "id": "d1b90631",
   "metadata": {},
   "outputs": [],
   "source": []
  },
  {
   "cell_type": "code",
   "execution_count": 179,
   "id": "fb0cc728",
   "metadata": {},
   "outputs": [],
   "source": [
    "# END"
   ]
  },
  {
   "cell_type": "code",
   "execution_count": null,
   "id": "77e3ef5b",
   "metadata": {},
   "outputs": [],
   "source": []
  }
 ],
 "metadata": {
  "kernelspec": {
   "display_name": "Python 3 (ipykernel)",
   "language": "python",
   "name": "python3"
  },
  "language_info": {
   "codemirror_mode": {
    "name": "ipython",
    "version": 3
   },
   "file_extension": ".py",
   "mimetype": "text/x-python",
   "name": "python",
   "nbconvert_exporter": "python",
   "pygments_lexer": "ipython3",
   "version": "3.8.12"
  },
  "toc": {
   "base_numbering": 1,
   "nav_menu": {},
   "number_sections": true,
   "sideBar": true,
   "skip_h1_title": false,
   "title_cell": "Table of Contents",
   "title_sidebar": "Contents",
   "toc_cell": true,
   "toc_position": {
    "height": "calc(100% - 180px)",
    "left": "10px",
    "top": "150px",
    "width": "165px"
   },
   "toc_section_display": true,
   "toc_window_display": true
  },
  "varInspector": {
   "cols": {
    "lenName": 16,
    "lenType": 16,
    "lenVar": 40
   },
   "kernels_config": {
    "python": {
     "delete_cmd_postfix": "",
     "delete_cmd_prefix": "del ",
     "library": "var_list.py",
     "varRefreshCmd": "print(var_dic_list())"
    },
    "r": {
     "delete_cmd_postfix": ") ",
     "delete_cmd_prefix": "rm(",
     "library": "var_list.r",
     "varRefreshCmd": "cat(var_dic_list()) "
    }
   },
   "oldHeight": 258.386454,
   "position": {
    "height": "40px",
    "left": "881.32px",
    "right": "20px",
    "top": "119px",
    "width": "264.716px"
   },
   "types_to_exclude": [
    "module",
    "function",
    "builtin_function_or_method",
    "instance",
    "_Feature"
   ],
   "varInspector_section_display": "none",
   "window_display": false
  }
 },
 "nbformat": 4,
 "nbformat_minor": 5
}

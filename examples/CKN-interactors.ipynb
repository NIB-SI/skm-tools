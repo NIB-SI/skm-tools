{
 "cells": [
  {
   "cell_type": "markdown",
   "id": "1dce43c4",
   "metadata": {},
   "source": [
    "# Interactors seach of AT1G80840 and AT4G34410\n",
    "\n",
    "\n",
    "RD29A/LTI78 -AT5G52310 \n",
    "\n",
    "NPR1 - AT1G64280"
   ]
  },
  {
   "cell_type": "markdown",
   "id": "96d48f1a",
   "metadata": {},
   "source": [
    "# Setup\n",
    "\n",
    "## Library import\n",
    "We import all the required Python libraries"
   ]
  },
  {
   "cell_type": "code",
   "execution_count": 1,
   "id": "73cff9d5",
   "metadata": {
    "ExecuteTime": {
     "end_time": "2023-03-20T07:00:38.534811Z",
     "start_time": "2023-03-20T07:00:38.529072Z"
    }
   },
   "outputs": [],
   "source": [
    "import sys, re, pickle\n",
    "from pathlib import Path\n",
    "from datetime import datetime\n",
    "from IPython.display import Markdown, display\n",
    "from collections import defaultdict\n",
    "\n",
    "import networkx as nx"
   ]
  },
  {
   "cell_type": "code",
   "execution_count": 2,
   "id": "29d8ab31",
   "metadata": {},
   "outputs": [],
   "source": [
    "# vis\n",
    "import matplotlib.pyplot as plt"
   ]
  },
  {
   "cell_type": "markdown",
   "id": "1ca7363d",
   "metadata": {},
   "source": [
    "The following allows us to import functions from the skm-tools package. \n",
    "Note the relative path to the folder containing the \n",
    "\"skm-tools\" directory. "
   ]
  },
  {
   "cell_type": "code",
   "execution_count": 3,
   "id": "0e754ddb",
   "metadata": {},
   "outputs": [],
   "source": [
    "sys.path.append(\"../\")\n",
    "from skm_tools import load_networks, ckn_utils"
   ]
  },
  {
   "cell_type": "code",
   "execution_count": 4,
   "id": "0617a217",
   "metadata": {},
   "outputs": [
    {
     "data": {
      "text/plain": [
       "'2024.07.29'"
      ]
     },
     "execution_count": 4,
     "metadata": {},
     "output_type": "execute_result"
    }
   ],
   "source": [
    "today = datetime.today().strftime('%Y.%m.%d'); today"
   ]
  },
  {
   "cell_type": "markdown",
   "id": "efe8a796",
   "metadata": {},
   "source": [
    "## Path and Parameter definitions"
   ]
  },
  {
   "cell_type": "code",
   "execution_count": 5,
   "id": "2e03d777",
   "metadata": {
    "ExecuteTime": {
     "end_time": "2023-03-20T07:00:45.987247Z",
     "start_time": "2023-03-20T07:00:45.982936Z"
    }
   },
   "outputs": [],
   "source": [
    "base_dir = Path(\"./\")\n",
    "data_dir = base_dir / \"data\"\n",
    "output_dir = base_dir / \"output\""
   ]
  },
  {
   "cell_type": "code",
   "execution_count": null,
   "id": "e61f8298-02af-4138-9b8f-097e3f7ccfc0",
   "metadata": {},
   "outputs": [],
   "source": [
    "if not data_dir.exists():\n",
    "    data_dir.mkdir()\n",
    "\n",
    "if not output_dir.exists():\n",
    "    output_dir.mkdir()"
   ]
  },
  {
   "cell_type": "code",
   "execution_count": 6,
   "id": "7c09ec63",
   "metadata": {},
   "outputs": [],
   "source": [
    "ckn_edge_path = data_dir / \"AtCKN-v2-2023.06.tsv.gz\" \n",
    "ckn_node_path = data_dir / \"AtCKN-v2-2023.06_node-annot.tsv.gz\""
   ]
  },
  {
   "cell_type": "markdown",
   "id": "dcd62faa",
   "metadata": {},
   "source": [
    "# Load CKN"
   ]
  },
  {
   "cell_type": "code",
   "execution_count": 7,
   "id": "2f4c1582",
   "metadata": {},
   "outputs": [
    {
     "name": "stdout",
     "output_type": "stream",
     "text": [
      "\n",
      "Number of nodes: 26234\n",
      "Number of edges: 898887\n"
     ]
    }
   ],
   "source": [
    "ckn = load_networks.ckn_to_networkx(\n",
    "    edge_path=ckn_edge_path, \n",
    "    node_path=ckn_node_path\n",
    ")\n",
    "\n",
    "print(f\"\\nNumber of nodes: {ckn.number_of_nodes()}\\nNumber of edges: {ckn.number_of_edges()}\")"
   ]
  },
  {
   "cell_type": "code",
   "execution_count": 8,
   "id": "543520e5-b9b9-4a83-80af-1609cd222854",
   "metadata": {},
   "outputs": [
    {
     "name": "stdout",
     "output_type": "stream",
     "text": [
      "rank 0:\t 2,837\n",
      "rank 1:\t 36,620\n",
      "rank 2:\t 67,572\n",
      "rank 3:\t 718,389\n",
      "rank 4:\t 73,469\n"
     ]
    }
   ],
   "source": [
    "_ = ckn_utils.rank_counts(ckn)"
   ]
  },
  {
   "cell_type": "markdown",
   "id": "8e888db5",
   "metadata": {},
   "source": [
    "## Filtering nodes\n",
    "Remove foreign nodes"
   ]
  },
  {
   "cell_type": "code",
   "execution_count": 9,
   "id": "7cdea5c9-d7db-450b-bbe6-dfb7cf2e9abf",
   "metadata": {},
   "outputs": [
    {
     "data": {
      "text/plain": [
       "{'ath', 'ath/foreign', 'foreign', nan}"
      ]
     },
     "execution_count": 9,
     "metadata": {},
     "output_type": "execute_result"
    }
   ],
   "source": [
    "species = set([data['species'] for n, data in ckn.nodes(data=True)])\n",
    "species"
   ]
  },
  {
   "cell_type": "code",
   "execution_count": 10,
   "id": "36e6f415-9586-45e1-b26c-7361cc42fec8",
   "metadata": {},
   "outputs": [
    {
     "data": {
      "text/plain": [
       "{'ath', nan}"
      ]
     },
     "execution_count": 10,
     "metadata": {},
     "output_type": "execute_result"
    }
   ],
   "source": [
    "species.remove('foreign')\n",
    "species.remove('ath/foreign')\n",
    "species"
   ]
  },
  {
   "cell_type": "code",
   "execution_count": 11,
   "id": "c147c0fd",
   "metadata": {},
   "outputs": [
    {
     "name": "stdout",
     "output_type": "stream",
     "text": [
      "Removed 27 nodes from network.\n"
     ]
    }
   ],
   "source": [
    "removed = ckn_utils.filter_ckn_nodes(ckn, \n",
    "     species=species,\n",
    "     remove_isolates=True\n",
    ")"
   ]
  },
  {
   "cell_type": "markdown",
   "id": "944c2f34",
   "metadata": {},
   "source": [
    "## Filtering edge ranks\n",
    "\n",
    "CKN edges are annotated with edge 'ranks', representing how reliability the edges are:\n",
    "\n",
    "* 0 – manually curated interactions from PSS, \n",
    "* 1 – literature curated interactions detected using targeted experimental methods (e.ckn. luciferase reporter assay, co-immunoprecipitation, enzymatic assays), sometimes complemented with high-throughput technologies, \n",
    "* 2 – interactions detected using high-throughput technologies (e.ckn. high throughput yeast two-hybrid, chromatin immunoprecipitation sequencing, degradome sequencing), \n",
    "* 3 – interactions extracted from literature (co-citation, but not text mining) or predicted in silico and additionally validated with data, \n",
    "* 4 – interactions predicted using purely in silico binding prediction algorithms. \n",
    "\n",
    "Below, we can count the number of edges for each rank. "
   ]
  },
  {
   "cell_type": "code",
   "execution_count": 12,
   "id": "9bb39c98",
   "metadata": {},
   "outputs": [
    {
     "name": "stdout",
     "output_type": "stream",
     "text": [
      "rank 0:\t 2,661\n",
      "rank 1:\t 36,620\n",
      "rank 2:\t 67,572\n",
      "rank 3:\t 718,389\n",
      "rank 4:\t 73,469\n"
     ]
    }
   ],
   "source": [
    "_ = ckn_utils.rank_counts(ckn)"
   ]
  },
  {
   "cell_type": "markdown",
   "id": "b4f1ea61",
   "metadata": {},
   "source": [
    "Since our query space is quite large, for now we'll only consider the higher reliablity edges (rank 0 - rank 2), and filter out the rest. If our query result was not large enough (too large), we could re-run the queries using less strict (stricter) ranks. \n",
    "\n",
    "We'll used the skm-tools function for filter to our required ranks. "
   ]
  },
  {
   "cell_type": "code",
   "execution_count": 13,
   "id": "3091f4ef",
   "metadata": {},
   "outputs": [
    {
     "name": "stdout",
     "output_type": "stream",
     "text": [
      "Removed 791858 edges from network.\n",
      "rank 0:\t 2,661\n",
      "rank 1:\t 36,620\n",
      "rank 2:\t 67,572\n",
      "rank 3:\t 0\n",
      "rank 4:\t 0\n"
     ]
    }
   ],
   "source": [
    "keep_edge_ranks=[0, 1, 2]\n",
    "ckn_utils.filter_ckn_edges(ckn, keep_edge_ranks=keep_edge_ranks, remove_isolates=True)\n",
    "_ = ckn_utils.rank_counts(ckn)"
   ]
  },
  {
   "cell_type": "code",
   "execution_count": 14,
   "id": "842ccde5",
   "metadata": {},
   "outputs": [
    {
     "name": "stdout",
     "output_type": "stream",
     "text": [
      "\n",
      "Number of nodes: 13477\n",
      "Number of edges: 106853\n"
     ]
    }
   ],
   "source": [
    "print(f\"\\nNumber of nodes: {ckn.number_of_nodes()}\\nNumber of edges: {ckn.number_of_edges()}\")"
   ]
  },
  {
   "cell_type": "markdown",
   "id": "6d9b6f2f",
   "metadata": {},
   "source": [
    "# Extract neighbourhoods"
   ]
  },
  {
   "cell_type": "code",
   "execution_count": 15,
   "id": "a355d1a7",
   "metadata": {},
   "outputs": [],
   "source": [
    "RD29A = \"AT5G52310\"\n",
    "NPR1 = \"AT1G64280\"\n",
    "seed_list = [RD29A, NPR1]"
   ]
  },
  {
   "cell_type": "code",
   "execution_count": 16,
   "id": "2ca8da73",
   "metadata": {},
   "outputs": [
    {
     "name": "stdout",
     "output_type": "stream",
     "text": [
      "AT5G52310 18\n",
      "AT1G64280 44\n"
     ]
    }
   ],
   "source": [
    "networks = {}\n",
    "for n in seed_list:\n",
    "    all_neighbours = list(ckn.to_undirected().neighbors(n))\n",
    "    print(n, len(all_neighbours))\n",
    "    g = nx.induced_subgraph(ckn, all_neighbours + [n]).copy()\n",
    "    networks[n] = g"
   ]
  },
  {
   "cell_type": "markdown",
   "id": "52e629cb",
   "metadata": {},
   "source": [
    "# Cytoscape\n",
    "\n",
    "\n",
    "Load the required library, and make sure you can connect to Cytoscape. \n",
    "\n",
    "More py4cytoscape documentation is here: https://py4cytoscape.readthedocs.io/"
   ]
  },
  {
   "cell_type": "code",
   "execution_count": 17,
   "id": "92d951a7",
   "metadata": {},
   "outputs": [
    {
     "name": "stdout",
     "output_type": "stream",
     "text": [
      "You are connected to Cytoscape!\n"
     ]
    }
   ],
   "source": [
    "import py4cytoscape as p4c\n",
    "p4c.cytoscape_ping();"
   ]
  },
  {
   "cell_type": "code",
   "execution_count": 18,
   "id": "4be72953",
   "metadata": {},
   "outputs": [],
   "source": [
    "from skm_tools import cytoscape_utils"
   ]
  },
  {
   "cell_type": "markdown",
   "id": "0bed5aea",
   "metadata": {},
   "source": [
    "We set the Cytoscape collection name for this notebook. "
   ]
  },
  {
   "cell_type": "code",
   "execution_count": 19,
   "id": "0bded670",
   "metadata": {},
   "outputs": [
    {
     "data": {
      "text/plain": [
       "'CKN searches (ranks 0,1,2) 2024.07.29'"
      ]
     },
     "execution_count": 19,
     "metadata": {},
     "output_type": "execute_result"
    }
   ],
   "source": [
    "COLLECTION = f\"CKN searches (ranks {','.join([str(i) for i in keep_edge_ranks])}) {today}\"\n",
    "COLLECTION"
   ]
  },
  {
   "cell_type": "code",
   "execution_count": 20,
   "id": "e9773dc4",
   "metadata": {},
   "outputs": [
    {
     "name": "stdout",
     "output_type": "stream",
     "text": [
      "Applying default style...\n",
      "Applying preferred layout\n",
      "Applied CKN-default to 6903\n",
      "AT5G52310 6903\n",
      "Applying default style...\n",
      "Applying preferred layout\n",
      "Applied CKN-default to 7374\n",
      "AT1G64280 7374\n"
     ]
    }
   ],
   "source": [
    "suids = {}\n",
    "for n in seed_list:\n",
    "    if n in ckn.nodes():\n",
    "\n",
    "        g = networks[n]\n",
    "        suid = p4c.networks.create_network_from_networkx(\n",
    "                g, \n",
    "                title=f\"{n} - first neighbours\", \n",
    "                collection=COLLECTION\n",
    "        )\n",
    "        cytoscape_utils.apply_builtin_style(suid, 'ckn')\n",
    "        p4c.layout_network(\"cose\", network=suid)\n",
    "        print(n, suid)"
   ]
  },
  {
   "cell_type": "markdown",
   "id": "b938fd25",
   "metadata": {},
   "source": [
    "# Rank 0 only\n",
    "\n",
    "Redo the network extraction, but only use rank 0 edges. "
   ]
  },
  {
   "cell_type": "code",
   "execution_count": 21,
   "id": "294c69f5",
   "metadata": {},
   "outputs": [
    {
     "name": "stdout",
     "output_type": "stream",
     "text": [
      "Removed 104192 edges from network.\n",
      "rank 0:\t 2,661\n",
      "rank 1:\t 0\n",
      "rank 2:\t 0\n",
      "rank 3:\t 0\n",
      "rank 4:\t 0\n"
     ]
    }
   ],
   "source": [
    "keep_edge_ranks=[0]\n",
    "ckn_utils.filter_ckn_edges(ckn, keep_edge_ranks=keep_edge_ranks, remove_isolates=True)\n",
    "_ = ckn_utils.rank_counts(ckn)"
   ]
  },
  {
   "cell_type": "code",
   "execution_count": 22,
   "id": "6af25856",
   "metadata": {
    "scrolled": true
   },
   "outputs": [
    {
     "name": "stdout",
     "output_type": "stream",
     "text": [
      "\n",
      "Number of nodes: 776\n",
      "Number of edges: 2661\n"
     ]
    }
   ],
   "source": [
    "print(f\"\\nNumber of nodes: {ckn.number_of_nodes()}\\nNumber of edges: {ckn.number_of_edges()}\")"
   ]
  },
  {
   "cell_type": "markdown",
   "id": "52a1abb9",
   "metadata": {},
   "source": [
    "# Extract neighbourhoods"
   ]
  },
  {
   "cell_type": "code",
   "execution_count": 23,
   "id": "d5485f89",
   "metadata": {},
   "outputs": [
    {
     "name": "stdout",
     "output_type": "stream",
     "text": [
      "AT5G52310 4\n",
      "AT1G64280 31\n"
     ]
    }
   ],
   "source": [
    "networks = {}\n",
    "for n in seed_list:\n",
    "    if n in ckn.nodes():\n",
    "        all_neighbours = list(ckn.to_undirected().neighbors(n))\n",
    "        print(n, len(all_neighbours))\n",
    "        g = nx.induced_subgraph(ckn, all_neighbours + [n]).copy()\n",
    "        networks[n] = g"
   ]
  },
  {
   "cell_type": "markdown",
   "id": "9b4583cd-6838-4d6c-9d25-b1403f574719",
   "metadata": {},
   "source": [
    "## 2 Hops\n",
    "\n",
    "Extract the network \"2 hops\" away from the seed list\n",
    "\n",
    "Find the edges specifically to make an edge induced subgraph. \n",
    "\n",
    "See [networkx ego_graph](https://networkx.org/documentation/stable/reference/generated/networkx.generators.ego.ego_graph.html) for a nore straight forward implementation, but here I want to find the edges specifically to make an edge induced subgraph. "
   ]
  },
  {
   "cell_type": "code",
   "execution_count": 24,
   "id": "7b41351c",
   "metadata": {},
   "outputs": [
    {
     "name": "stdout",
     "output_type": "stream",
     "text": [
      "AT5G52310: first neighbours 4\n",
      "36\n",
      "AT5G52310 12\n",
      "AT1G64280: first neighbours 31\n",
      "358\n",
      "AT1G64280 150\n"
     ]
    }
   ],
   "source": [
    "networks_2hops_edges = {}\n",
    "for n in seed_list:\n",
    "    if n in ckn.nodes():\n",
    "\n",
    "        edges = []\n",
    "        all_neighbours = list(ckn.to_undirected().neighbors(n))\n",
    "        print(f\"{n}: first neighbours {len(all_neighbours)}\")\n",
    "        for neighbor in all_neighbours:\n",
    "            if (neighbor, n) in ckn.edges():\n",
    "                edges.append((neighbor, n))\n",
    "            if (n, neighbor) in ckn.edges():\n",
    "                edges.append((n, neighbor))            \n",
    "\n",
    "            neighbours_2nd = list(ckn.to_undirected().neighbors(neighbor))\n",
    "            for neighbour_2nd in neighbours_2nd:\n",
    "                if (neighbour_2nd, neighbor) in ckn.edges():\n",
    "                    edges.append((neighbour_2nd, neighbor))\n",
    "                if (neighbor, neighbour_2nd) in ckn.edges():\n",
    "                    edges.append((neighbor, neighbour_2nd))            \n",
    "        print(len(edges))\n",
    "        g = nx.edge_subgraph(ckn, edges).copy()\n",
    "        networks_2hops_edges[n] = g\n",
    "        print(n, g.number_of_nodes())"
   ]
  },
  {
   "cell_type": "markdown",
   "id": "3721d92b",
   "metadata": {},
   "source": [
    "### Cytoscape again\n"
   ]
  },
  {
   "cell_type": "code",
   "execution_count": 25,
   "id": "5f87a0ad",
   "metadata": {
    "scrolled": true
   },
   "outputs": [
    {
     "name": "stdout",
     "output_type": "stream",
     "text": [
      "Applying default style...\n",
      "Applying preferred layout\n",
      "Applied CKN-default to 8646\n",
      "AT5G52310 8646\n",
      "Applying default style...\n",
      "Applying preferred layout\n",
      "Applied CKN-default to 8970\n",
      "AT1G64280 8970\n"
     ]
    }
   ],
   "source": [
    "networks_2hops_edges\n",
    "suids = {}\n",
    "for n in seed_list:\n",
    "    g = networks_2hops_edges[n]\n",
    "    suid = p4c.networks.create_network_from_networkx(\n",
    "            g, \n",
    "            title=f\"{n} - second neighbours (edge induced)\", \n",
    "            collection=COLLECTION\n",
    "    )\n",
    "    cytoscape_utils.apply_builtin_style(suid, 'ckn')\n",
    "    p4c.layout_network(\"cose\", network=suid)\n",
    "    print(n, suid)"
   ]
  },
  {
   "cell_type": "code",
   "execution_count": 26,
   "id": "fb0cc728",
   "metadata": {},
   "outputs": [],
   "source": [
    "# END"
   ]
  },
  {
   "cell_type": "code",
   "execution_count": null,
   "id": "216140c7",
   "metadata": {},
   "outputs": [],
   "source": []
  }
 ],
 "metadata": {
  "kernelspec": {
   "display_name": "Python [conda env:python-env]",
   "language": "python",
   "name": "conda-env-python-env-py"
  },
  "language_info": {
   "codemirror_mode": {
    "name": "ipython",
    "version": 3
   },
   "file_extension": ".py",
   "mimetype": "text/x-python",
   "name": "python",
   "nbconvert_exporter": "python",
   "pygments_lexer": "ipython3",
   "version": "3.10.13"
  },
  "toc": {
   "base_numbering": 1,
   "nav_menu": {},
   "number_sections": true,
   "sideBar": true,
   "skip_h1_title": false,
   "title_cell": "Table of Contents",
   "title_sidebar": "Contents",
   "toc_cell": true,
   "toc_position": {
    "height": "calc(100% - 180px)",
    "left": "10px",
    "top": "150px",
    "width": "165px"
   },
   "toc_section_display": true,
   "toc_window_display": true
  },
  "varInspector": {
   "cols": {
    "lenName": 16,
    "lenType": 16,
    "lenVar": 40
   },
   "kernels_config": {
    "python": {
     "delete_cmd_postfix": "",
     "delete_cmd_prefix": "del ",
     "library": "var_list.py",
     "varRefreshCmd": "print(var_dic_list())"
    },
    "r": {
     "delete_cmd_postfix": ") ",
     "delete_cmd_prefix": "rm(",
     "library": "var_list.r",
     "varRefreshCmd": "cat(var_dic_list()) "
    }
   },
   "oldHeight": 258.386454,
   "position": {
    "height": "40px",
    "left": "881.32px",
    "right": "20px",
    "top": "119px",
    "width": "264.716px"
   },
   "types_to_exclude": [
    "module",
    "function",
    "builtin_function_or_method",
    "instance",
    "_Feature"
   ],
   "varInspector_section_display": "none",
   "window_display": false
  }
 },
 "nbformat": 4,
 "nbformat_minor": 5
}
